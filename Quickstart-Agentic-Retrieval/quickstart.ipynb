{
 "cells": [
  {
   "cell_type": "markdown",
   "id": "4be5d807",
   "metadata": {},
   "source": [
    "# Agentic Retrieval Quickstart for Azure AI Search"
   ]
  },
  {
   "cell_type": "markdown",
   "id": "5196ac98",
   "metadata": {},
   "source": [
    "### 1. Load Connections"
   ]
  },
  {
   "cell_type": "code",
   "execution_count": 13,
   "id": "2df3a118",
   "metadata": {},
   "outputs": [],
   "source": [
    "from dotenv import load_dotenv\n",
    "from azure.identity import DefaultAzureCredential, get_bearer_token_provider\n",
    "import os\n",
    "\n",
    "load_dotenv(override=True) # take environment variables from .env.\n",
    "\n",
    "# The following variables from your .env file are used in this notebook\n",
    "answer_model = os.getenv(\"ANSWER_MODEL\", \"gpt-4o\")\n",
    "endpoint = os.environ[\"AZURE_SEARCH_ENDPOINT\"]\n",
    "credential = DefaultAzureCredential()\n",
    "token_provider = get_bearer_token_provider(credential, \"https://search.azure.com/.default\")\n",
    "index_name = os.getenv(\"AZURE_SEARCH_INDEX\", \"earth_at_night\")\n",
    "azure_openai_endpoint = os.environ[\"AZURE_OPENAI_ENDPOINT\"]\n",
    "azure_openai_gpt_deployment = os.getenv(\"AZURE_OPENAI_GPT_DEPLOYMENT\", \"gpt-4o\")\n",
    "azure_openai_gpt_model = os.getenv(\"AZURE_OPENAI_GPT_MODEL\", \"gpt-4o\")\n",
    "azure_openai_api_version = os.getenv(\"AZURE_OPENAI_API_VERSION\", \"2025-03-01-preview\")\n",
    "agent_name = os.getenv(\"AZURE_SEARCH_AGENT_NAME\", \"earth-search-agent\")\n",
    "api_version = \"2025-05-01-Preview\""
   ]
  },
  {
   "cell_type": "markdown",
   "id": "3799500c",
   "metadata": {},
   "source": [
    "### 2. Create search agent"
   ]
  },
  {
   "cell_type": "code",
   "execution_count": 14,
   "id": "d3fe4183",
   "metadata": {},
   "outputs": [],
   "source": [
    "import requests\n",
    "\n",
    "create_agent_request = {\n",
    "    \"name\": agent_name,\n",
    "    \"targetIndexes\": [ { \"indexName\": index_name } ],\n",
    "    \"models\": [\n",
    "          {\n",
    "            \"kind\": \"azureOpenAI\",\n",
    "            \"azureOpenAIParameters\": {\n",
    "                \"resourceUri\": azure_openai_endpoint,\n",
    "                \"apiKey\": None,\n",
    "                \"deploymentId\": azure_openai_gpt_model,\n",
    "                \"modelName\": azure_openai_gpt_model\n",
    "            }\n",
    "        }\n",
    "    ]\n",
    "}\n",
    "\n",
    "response = requests.put(\n",
    "    url=f\"{endpoint}/agents/{agent_name}?api-version={api_version}\",\n",
    "    headers={ \"Authorization\": f\"Bearer {token_provider()}\" },\n",
    "    json=create_agent_request\n",
    ")\n",
    "response.raise_for_status()\n"
   ]
  },
  {
   "cell_type": "markdown",
   "id": "1610cefd",
   "metadata": {},
   "source": [
    "### 3. Setup messages"
   ]
  },
  {
   "cell_type": "code",
   "execution_count": 15,
   "id": "2ab7b970",
   "metadata": {},
   "outputs": [],
   "source": [
    "instructions = \"\"\"\n",
    "An Q&A agent that can answer questions about the Earth at night.\n",
    "Sources have a JSON format with a ref_id that must be cited in the answer.\n",
    "If you do not have the answer, respond with \"I don't know\".\n",
    "\"\"\"\n",
    "\n",
    "messages = [\n",
    "    {\n",
    "        \"role\": \"system\",\n",
    "        \"content\": instructions\n",
    "    }\n",
    "]"
   ]
  },
  {
   "cell_type": "markdown",
   "id": "4090707f",
   "metadata": {},
   "source": [
    "### 4. Use Agentic Retrieval to fetch results"
   ]
  },
  {
   "cell_type": "code",
   "execution_count": 16,
   "id": "918ded26",
   "metadata": {},
   "outputs": [],
   "source": [
    "def query_agent(messages: list[dict[str, any]]):\n",
    "    retrieval_request = {\n",
    "        \"messages\" : [ { \"role\": msg[\"role\"], \"content\": [ { \"text\": msg[\"content\"] , \"type\": \"text\" } ] } for msg in messages ],\n",
    "        \"targetIndexParams\" :  [\n",
    "            { \n",
    "                \"indexName\" : index_name,\n",
    "                \"rerankerThreshold\": 2.5\n",
    "            } \n",
    "        ]\n",
    "    }\n",
    "    response = requests.post(\n",
    "        url=f\"{endpoint}/agents/{agent_name}/retrieve?api-version={api_version}\",\n",
    "        headers={ \"Authorization\": f\"Bearer {token_provider()}\" },\n",
    "        json=retrieval_request\n",
    "    )\n",
    "    response.raise_for_status()\n",
    "    result = response.json()\n",
    "    return result"
   ]
  },
  {
   "cell_type": "code",
   "execution_count": 17,
   "id": "7efd6b5f",
   "metadata": {},
   "outputs": [],
   "source": [
    "messages.append({\n",
    "    \"role\": \"user\",\n",
    "    \"content\": \"\"\"\n",
    "    Why do suburban belts display larger December brightening than urban cores even though absolute light levels are higher downtown?\n",
    "    Why is the Phoenix nighttime street grid is so sharply visible from space, whereas large stretches of the interstate between midwestern cities remain comparatively dim?\n",
    "    \"\"\"\n",
    "})\n",
    "\n",
    "retrieval_result = query_agent(messages)\n",
    "messages.append({\n",
    "    \"role\": \"assistant\",\n",
    "    \"content\": retrieval_result[\"response\"][0][\"content\"][0][\"text\"]\n",
    "})"
   ]
  },
  {
   "cell_type": "markdown",
   "id": "886fc687",
   "metadata": {},
   "source": [
    "### 4.1. Review retrieval activity and results"
   ]
  },
  {
   "cell_type": "code",
   "execution_count": 18,
   "id": "7fccf4b0",
   "metadata": {},
   "outputs": [
    {
     "name": "stdout",
     "output_type": "stream",
     "text": [
      "Retrieval activity\n",
      "[\n",
      "  {\n",
      "    \"type\": \"ModelQueryPlanning\",\n",
      "    \"id\": 0,\n",
      "    \"inputTokens\": 1407,\n",
      "    \"outputTokens\": 526\n",
      "  },\n",
      "  {\n",
      "    \"type\": \"AzureSearchQuery\",\n",
      "    \"id\": 1,\n",
      "    \"targetIndex\": \"earth_at_night\",\n",
      "    \"query\": {\n",
      "      \"search\": \"suburban belts December brightening compared to urban cores\",\n",
      "      \"filter\": null\n",
      "    },\n",
      "    \"queryTime\": \"2025-04-30T04:36:33.405Z\",\n",
      "    \"elapsedMs\": 581\n",
      "  },\n",
      "  {\n",
      "    \"type\": \"AzureSearchQuery\",\n",
      "    \"id\": 2,\n",
      "    \"targetIndex\": \"earth_at_night\",\n",
      "    \"query\": {\n",
      "      \"search\": \"Phoenix nighttime street grid visibility from space\",\n",
      "      \"filter\": null\n",
      "    },\n",
      "    \"queryTime\": \"2025-04-30T04:36:33.687Z\",\n",
      "    \"count\": 2,\n",
      "    \"elapsedMs\": 281\n",
      "  },\n",
      "  {\n",
      "    \"type\": \"AzureSearchQuery\",\n",
      "    \"id\": 3,\n",
      "    \"targetIndex\": \"earth_at_night\",\n",
      "    \"query\": {\n",
      "      \"search\": \"interstate visibility between midwestern cities at night\",\n",
      "      \"filter\": null\n",
      "    },\n",
      "    \"queryTime\": \"2025-04-30T04:36:33.925Z\",\n",
      "    \"count\": 2,\n",
      "    \"elapsedMs\": 238\n",
      "  }\n",
      "]\n",
      "Retrieval results\n",
      "[\n",
      "  {\n",
      "    \"type\": \"AzureSearchDoc\",\n",
      "    \"id\": \"0\",\n",
      "    \"activitySource\": 2,\n",
      "    \"docKey\": \"earth_at_night_508_page_104_verbalized\",\n",
      "    \"sourceData\": null\n",
      "  },\n",
      "  {\n",
      "    \"type\": \"AzureSearchDoc\",\n",
      "    \"id\": \"1\",\n",
      "    \"activitySource\": 2,\n",
      "    \"docKey\": \"earth_at_night_508_page_105_verbalized\",\n",
      "    \"sourceData\": null\n",
      "  },\n",
      "  {\n",
      "    \"type\": \"AzureSearchDoc\",\n",
      "    \"id\": \"2\",\n",
      "    \"activitySource\": 3,\n",
      "    \"docKey\": \"earth_at_night_508_page_124_verbalized\",\n",
      "    \"sourceData\": null\n",
      "  },\n",
      "  {\n",
      "    \"type\": \"AzureSearchDoc\",\n",
      "    \"id\": \"3\",\n",
      "    \"activitySource\": 3,\n",
      "    \"docKey\": \"earth_at_night_508_page_125_verbalized\",\n",
      "    \"sourceData\": null\n",
      "  }\n",
      "]\n"
     ]
    }
   ],
   "source": [
    "import json\n",
    "\n",
    "print(\"Retrieval activity\")\n",
    "print(json.dumps(retrieval_result[\"activity\"], indent=2))\n",
    "print(\"Retrieval results\")\n",
    "print(json.dumps(retrieval_result[\"references\"], indent=2))"
   ]
  },
  {
   "cell_type": "markdown",
   "id": "75386ed1",
   "metadata": {},
   "source": [
    "### 5. Create Azure OpenAI Client"
   ]
  },
  {
   "cell_type": "code",
   "execution_count": 19,
   "id": "da260539",
   "metadata": {},
   "outputs": [],
   "source": [
    "from openai import AzureOpenAI\n",
    "from azure.identity import get_bearer_token_provider\n",
    "\n",
    "azure_openai_token_provider = get_bearer_token_provider(credential, \"https://cognitiveservices.azure.com/.default\")\n",
    "client = AzureOpenAI(\n",
    "    azure_endpoint=azure_openai_endpoint,\n",
    "    azure_ad_token_provider=azure_openai_token_provider,\n",
    "    api_version=azure_openai_api_version\n",
    ")"
   ]
  },
  {
   "cell_type": "markdown",
   "id": "e200bc2a",
   "metadata": {},
   "source": [
    "### 5.1 Use Responses API to generate an answer"
   ]
  },
  {
   "cell_type": "code",
   "execution_count": 20,
   "id": "b2dea5c2",
   "metadata": {},
   "outputs": [
    {
     "name": "stdout",
     "output_type": "stream",
     "text": [
      "Suburban belts display larger December brightening than urban cores despite higher absolute light\n",
      "levels downtown due to several factors. Suburban areas often experience increased holiday lighting\n",
      "during December, enhancing their visibility more than urban cores. Urban areas already have higher\n",
      "baseline illumination and infrastructure lighting, so the additional holiday lights make a more\n",
      "noticeable relative increase in suburbs than in urban centers [ref_id: 0].  The Phoenix nighttime\n",
      "street grid is sharply visible from space due to the regular grid layout and dense street lighting\n",
      "characteristic of western U.S. cities. The lighting patterns follow major transport corridors and\n",
      "intersections, making them clearly identifiable. In contrast, large stretches of the interstate\n",
      "between midwestern cities remain dim because these areas are less densely populated and lack the\n",
      "same level of street and infrastructure lighting seen in urban settings like Phoenix [ref_id: 1, 3].\n"
     ]
    }
   ],
   "source": [
    "import textwrap\n",
    "\n",
    "response = client.responses.create(\n",
    "    model=answer_model,\n",
    "    input=messages\n",
    ")\n",
    "\n",
    "wrapped = textwrap.fill(response.output_text, width=100)\n",
    "print(wrapped)"
   ]
  },
  {
   "cell_type": "markdown",
   "id": "777c63f0",
   "metadata": {},
   "source": [
    "### 5.2 Use Chat Completions API to generate an answer"
   ]
  },
  {
   "cell_type": "code",
   "execution_count": 21,
   "id": "9126b4ce",
   "metadata": {},
   "outputs": [
    {
     "name": "stdout",
     "output_type": "stream",
     "text": [
      "Suburban belts often display larger December brightening than urban cores due to the difference in\n",
      "lighting infrastructure and residential patterns. Suburban areas tend to have more individual houses\n",
      "with outdoor lighting, decorations, and streetlights, which are especially prominent during the\n",
      "holiday season. In contrast, urban cores, though having higher absolute light levels overall,\n",
      "contain more commercial and industrial areas where additional holiday lighting might be less common\n",
      "and noticeable. Therefore, during December, the increase in lighting per residence in suburban areas\n",
      "contributes to greater perceived brightening compared to urban cores [ref_id:3].  In contrast, the\n",
      "Phoenix nighttime street grid is sharply visible from space due to its distinctive layout and\n",
      "extensive street lighting that follows the urban grid pattern typical of western U.S. cities. The\n",
      "streets of Phoenix are lined with bright lights, making the grid structure prominent from a\n",
      "satellite view. Interstate highways between midwestern cities are generally less illuminated as they\n",
      "travel through sparsely populated areas, with lighting primarily concentrated around urban centers,\n",
      "intersections, and exits. This results in vast stretches remaining dim in comparison to the\n",
      "structured and densely lit urban grids [ref_id:0][ref_id:1].\n"
     ]
    }
   ],
   "source": [
    "response = client.chat.completions.create(\n",
    "    model=answer_model,\n",
    "    messages=messages\n",
    ")\n",
    "\n",
    "wrapped = textwrap.fill(response.choices[0].message.content, width=100)\n",
    "print(wrapped)"
   ]
  },
  {
   "cell_type": "markdown",
   "id": "bb96436b",
   "metadata": {},
   "source": [
    "### 6. Continue the conversation"
   ]
  },
  {
   "cell_type": "code",
   "execution_count": 22,
   "id": "7034e480",
   "metadata": {},
   "outputs": [],
   "source": [
    "messages.append({\n",
    "    \"role\": \"user\",\n",
    "    \"content\": \"How do I find lava at night?\"\n",
    "})\n",
    "\n",
    "retrieval_result = query_agent(messages)\n",
    "messages.append({\n",
    "    \"role\": \"assistant\",\n",
    "    \"content\": retrieval_result[\"response\"][0][\"content\"][0][\"text\"]\n",
    "})"
   ]
  },
  {
   "cell_type": "markdown",
   "id": "fd1cba0c",
   "metadata": {},
   "source": [
    "### 6.1. Review activity and results"
   ]
  },
  {
   "cell_type": "code",
   "execution_count": 23,
   "id": "6f74c2c3",
   "metadata": {},
   "outputs": [
    {
     "name": "stdout",
     "output_type": "stream",
     "text": [
      "Retrieval activity\n",
      "[\n",
      "  {\n",
      "    \"type\": \"ModelQueryPlanning\",\n",
      "    \"id\": 0,\n",
      "    \"inputTokens\": 3540,\n",
      "    \"outputTokens\": 104\n",
      "  },\n",
      "  {\n",
      "    \"type\": \"AzureSearchQuery\",\n",
      "    \"id\": 1,\n",
      "    \"targetIndex\": \"earth_at_night\",\n",
      "    \"query\": {\n",
      "      \"search\": \"finding lava at night\",\n",
      "      \"filter\": null\n",
      "    },\n",
      "    \"queryTime\": \"2025-04-30T04:36:43.875Z\",\n",
      "    \"count\": 6,\n",
      "    \"elapsedMs\": 1546\n",
      "  }\n",
      "]\n",
      "Retrieval results\n",
      "[\n",
      "  {\n",
      "    \"type\": \"AzureSearchDoc\",\n",
      "    \"id\": \"0\",\n",
      "    \"activitySource\": 1,\n",
      "    \"docKey\": \"earth_at_night_508_page_64_verbalized\",\n",
      "    \"sourceData\": null\n",
      "  },\n",
      "  {\n",
      "    \"type\": \"AzureSearchDoc\",\n",
      "    \"id\": \"1\",\n",
      "    \"activitySource\": 1,\n",
      "    \"docKey\": \"earth_at_night_508_page_65_verbalized\",\n",
      "    \"sourceData\": null\n",
      "  },\n",
      "  {\n",
      "    \"type\": \"AzureSearchDoc\",\n",
      "    \"id\": \"2\",\n",
      "    \"activitySource\": 1,\n",
      "    \"docKey\": \"earth_at_night_508_page_44_verbalized\",\n",
      "    \"sourceData\": null\n",
      "  },\n",
      "  {\n",
      "    \"type\": \"AzureSearchDoc\",\n",
      "    \"id\": \"3\",\n",
      "    \"activitySource\": 1,\n",
      "    \"docKey\": \"earth_at_night_508_page_66_verbalized\",\n",
      "    \"sourceData\": null\n",
      "  },\n",
      "  {\n",
      "    \"type\": \"AzureSearchDoc\",\n",
      "    \"id\": \"4\",\n",
      "    \"activitySource\": 1,\n",
      "    \"docKey\": \"earth_at_night_508_page_60_verbalized\",\n",
      "    \"sourceData\": null\n",
      "  },\n",
      "  {\n",
      "    \"type\": \"AzureSearchDoc\",\n",
      "    \"id\": \"5\",\n",
      "    \"activitySource\": 1,\n",
      "    \"docKey\": \"earth_at_night_508_page_46_verbalized\",\n",
      "    \"sourceData\": null\n",
      "  }\n",
      "]\n"
     ]
    }
   ],
   "source": [
    "print(\"Retrieval activity\")\n",
    "print(json.dumps(retrieval_result[\"activity\"], indent=2))\n",
    "print(\"Retrieval results\")\n",
    "print(json.dumps(retrieval_result[\"references\"], indent=2))"
   ]
  },
  {
   "cell_type": "markdown",
   "id": "cd7d32cc",
   "metadata": {},
   "source": [
    "### 6.2. Generate answer"
   ]
  },
  {
   "cell_type": "code",
   "execution_count": 24,
   "id": "a6486c8a",
   "metadata": {},
   "outputs": [
    {
     "name": "stdout",
     "output_type": "stream",
     "text": [
      "To find lava at night, you can use thermal imaging and satellite data. Satellites equipped with\n",
      "thermal infrared sensors, like the Landsat 8 or VIIRS, can detect the heat emitted by lava flows,\n",
      "making them visible even in the absence of daylight. These instruments capture the infrared\n",
      "signatures of the hot lava, which appear bright against cooler surroundings, allowing tracking and\n",
      "monitoring for scientific research and safety purposes. This capability is particularly useful\n",
      "during volcanic eruptions, such as those observed on Mount Etna or Kilauea, where thermal data helps\n",
      "visualize active lava flows. [ref_id:5][ref_id:4].\n"
     ]
    }
   ],
   "source": [
    "response = client.responses.create(\n",
    "    model=answer_model,\n",
    "    input=messages\n",
    ")\n",
    "\n",
    "wrapped = textwrap.fill(response.output_text, width=100)\n",
    "print(wrapped)"
   ]
  }
 ],
 "metadata": {
  "kernelspec": {
   "display_name": ".venv",
   "language": "python",
   "name": "python3"
  },
  "language_info": {
   "codemirror_mode": {
    "name": "ipython",
    "version": 3
   },
   "file_extension": ".py",
   "mimetype": "text/x-python",
   "name": "python",
   "nbconvert_exporter": "python",
   "pygments_lexer": "ipython3",
   "version": "3.12.10"
  }
 },
 "nbformat": 4,
 "nbformat_minor": 5
}
