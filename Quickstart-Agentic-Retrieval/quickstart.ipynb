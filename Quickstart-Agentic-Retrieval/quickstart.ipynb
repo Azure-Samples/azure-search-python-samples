{
 "cells": [
  {
   "cell_type": "markdown",
   "id": "4be5d807",
   "metadata": {},
   "source": [
    "# Agentic Retrieval Quickstart for Azure AI Search\n",
    "\n",
    "1. Create index\n",
    "1. Ingest sample data\n",
    "1. Create agent\n",
    "1. Run agentic retrieval\n",
    "1. Generate response using chat completion\n",
    "1. Generate repsonse using responses"
   ]
  }
 ],
 "metadata": {
  "language_info": {
   "name": "python"
  }
 },
 "nbformat": 4,
 "nbformat_minor": 5
}
