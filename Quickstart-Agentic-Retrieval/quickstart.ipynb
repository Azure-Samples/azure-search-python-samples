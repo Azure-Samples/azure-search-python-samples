{
 "cells": [
  {
   "cell_type": "markdown",
   "id": "4be5d807",
   "metadata": {},
   "source": [
    "# Agentic Retrieval Quickstart for Azure AI Search"
   ]
  },
  {
   "cell_type": "markdown",
   "id": "5196ac98",
   "metadata": {},
   "source": [
    "### 1. Load Connections"
   ]
  },
  {
   "cell_type": "code",
   "execution_count": 1,
   "id": "2df3a118",
   "metadata": {},
   "outputs": [],
   "source": [
    "from dotenv import load_dotenv\n",
    "from azure.identity import DefaultAzureCredential, get_bearer_token_provider\n",
    "import os\n",
    "\n",
    "load_dotenv(override=True) # take environment variables from .env.\n",
    "\n",
    "# The following variables from your .env file are used in this notebook\n",
    "answer_model = os.getenv(\"ANSWER_MODEL\", \"gpt-4o\")\n",
    "endpoint = os.environ[\"AZURE_SEARCH_ENDPOINT\"]\n",
    "credential = DefaultAzureCredential()\n",
    "token_provider = get_bearer_token_provider(credential, \"https://search.azure.com/.default\")\n",
    "index_name = os.getenv(\"AZURE_SEARCH_INDEX\", \"earth_at_night\")\n",
    "azure_openai_endpoint = os.environ[\"AZURE_OPENAI_ENDPOINT\"]\n",
    "azure_openai_gpt_deployment = os.getenv(\"AZURE_OPENAI_GPT_DEPLOYMENT\", \"gpt-4o\")\n",
    "azure_openai_gpt_model = os.getenv(\"AZURE_OPENAI_GPT_MODEL\", \"gpt-4o\")\n",
    "azure_openai_api_version = os.getenv(\"AZURE_OPENAI_API_VERSION\", \"2025-03-01-preview\")\n",
    "azure_openai_embedding_deployment = os.getenv(\"AZURE_OPENAI_EMBEDDING_DEPLOYMENT\", \"text-embedding-3-large\")\n",
    "azure_openai_embedding_model = os.getenv(\"AZURE_OPENAI_EMBEDDING_MODEL\", \"text-embedding-3-large\")\n",
    "agent_name = os.getenv(\"AZURE_SEARCH_AGENT_NAME\", \"earth-search-agent\")\n",
    "api_version = \"2025-05-01-Preview\""
   ]
  },
  {
   "cell_type": "markdown",
   "id": "58e8a088",
   "metadata": {},
   "source": [
    "### 2. Create Index"
   ]
  },
  {
   "cell_type": "code",
   "execution_count": 2,
   "id": "ee48bec5",
   "metadata": {},
   "outputs": [
    {
     "name": "stdout",
     "output_type": "stream",
     "text": [
      "Index 'earth_at_night' created or updated successfully\n"
     ]
    }
   ],
   "source": [
    "from azure.search.documents.indexes.models import SearchIndex, SearchField, VectorSearch, VectorSearchProfile, HnswAlgorithmConfiguration, AzureOpenAIVectorizer, AzureOpenAIVectorizerParameters, SemanticSearch, SemanticConfiguration, SemanticPrioritizedFields, SemanticField\n",
    "from azure.search.documents.indexes import SearchIndexClient\n",
    "\n",
    "index = SearchIndex(\n",
    "    name=index_name,\n",
    "    fields=[\n",
    "        SearchField(name=\"id\", type=\"Edm.String\", key=True, filterable=True, sortable=True, facetable=True),\n",
    "        SearchField(name=\"page_chunk\", type=\"Edm.String\", filterable=False, sortable=False, facetable=False),\n",
    "        SearchField(name=\"page_embedding_text_3_large\", type=\"Collection(Edm.Single)\", stored=False, vector_search_dimensions=3072, vector_search_profile_name=\"hnsw_text_3_large\"),\n",
    "        SearchField(name=\"page_number\", type=\"Edm.Int32\", filterable=True, sortable=True, facetable=True)\n",
    "    ],\n",
    "    vector_search=VectorSearch(\n",
    "        profiles=[VectorSearchProfile(name=\"hnsw_text_3_large\", algorithm_configuration_name=\"alg\", vectorizer_name=\"azure_openai_text_3_large\")],\n",
    "        algorithms=[HnswAlgorithmConfiguration(name=\"alg\")],\n",
    "        vectorizers=[\n",
    "            AzureOpenAIVectorizer(\n",
    "                vectorizer_name=\"azure_openai_text_3_large\",\n",
    "                parameters=AzureOpenAIVectorizerParameters(\n",
    "                    resource_url=azure_openai_endpoint,\n",
    "                    deployment_name=azure_openai_embedding_deployment,\n",
    "                    model_name=azure_openai_embedding_model\n",
    "                )\n",
    "            )\n",
    "        ]\n",
    "    ),\n",
    "    semantic_search=SemanticSearch(\n",
    "        default_configuration_name=\"semantic_config\",\n",
    "        configurations=[\n",
    "            SemanticConfiguration(\n",
    "                name=\"semantic_config\",\n",
    "                prioritized_fields=SemanticPrioritizedFields(\n",
    "                    content_fields=[\n",
    "                        SemanticField(field_name=\"page_chunk\")\n",
    "                    ]\n",
    "                )\n",
    "            )\n",
    "        ]\n",
    "    )\n",
    ")\n",
    "\n",
    "index_client = SearchIndexClient(endpoint=endpoint, credential=credential)\n",
    "index_client.create_or_update_index(index)\n",
    "print(f\"Index '{index_name}' created or updated successfully\")\n"
   ]
  },
  {
   "cell_type": "markdown",
   "id": "39874f61",
   "metadata": {},
   "source": [
    "### 3. Upload Sample Documents"
   ]
  },
  {
   "cell_type": "code",
   "execution_count": 3,
   "id": "ded5147b",
   "metadata": {},
   "outputs": [
    {
     "name": "stdout",
     "output_type": "stream",
     "text": [
      "Documents uploaded to index 'earth_at_night'\n"
     ]
    }
   ],
   "source": [
    "import requests\n",
    "from azure.search.documents import SearchIndexingBufferedSender\n",
    "\n",
    "url = \"https://raw.githubusercontent.com/Azure-Samples/azure-search-sample-data/refs/heads/main/nasa-e-book/earth-at-night-json/documents.json\"\n",
    "documents = requests.get(url).json()\n",
    "\n",
    "with SearchIndexingBufferedSender(endpoint=endpoint, index_name=index_name, credential=credential) as client:\n",
    "    client.upload_documents(documents=documents)\n",
    "\n",
    "print(f\"Documents uploaded to index '{index_name}'\")\n"
   ]
  },
  {
   "cell_type": "markdown",
   "id": "5c5e0a34",
   "metadata": {},
   "source": [
    "### 4. Create search agent"
   ]
  },
  {
   "cell_type": "code",
   "execution_count": 4,
   "id": "d3fe4183",
   "metadata": {},
   "outputs": [
    {
     "name": "stdout",
     "output_type": "stream",
     "text": [
      "Knowledge agent 'earth-search-agent' created or updated successfully\n"
     ]
    }
   ],
   "source": [
    "from azure.search.documents.indexes.models import KnowledgeAgent, KnowledgeAgentAzureOpenAIModel, KnowledgeAgentTargetIndex, KnowledgeAgentRequestLimits, AzureOpenAIVectorizerParameters\n",
    "\n",
    "agent = KnowledgeAgent(\n",
    "    name=agent_name,\n",
    "    models=[\n",
    "        KnowledgeAgentAzureOpenAIModel(\n",
    "            azure_open_ai_parameters=AzureOpenAIVectorizerParameters(\n",
    "                resource_url=azure_openai_endpoint,\n",
    "                deployment_name=azure_openai_gpt_deployment,\n",
    "                model_name=azure_openai_gpt_model\n",
    "            )\n",
    "        )\n",
    "    ],\n",
    "    target_indexes=[\n",
    "        KnowledgeAgentTargetIndex(\n",
    "            index_name=index_name,\n",
    "            default_reranker_threshold=2.5\n",
    "        )\n",
    "    ],\n",
    ")\n",
    "\n",
    "index_client.create_or_update_agent(agent)\n",
    "print(f\"Knowledge agent '{agent_name}' created or updated successfully\")\n"
   ]
  },
  {
   "cell_type": "markdown",
   "id": "1610cefd",
   "metadata": {},
   "source": [
    "### 5. Setup messages"
   ]
  },
  {
   "cell_type": "code",
   "execution_count": 5,
   "id": "2ab7b970",
   "metadata": {},
   "outputs": [],
   "source": [
    "instructions = \"\"\"\n",
    "An Q&A agent that can answer questions about the Earth at night.\n",
    "Sources have a JSON format with a ref_id that must be cited in the answer.\n",
    "If you do not have the answer, respond with \"I don't know\".\n",
    "\"\"\"\n",
    "\n",
    "messages = [\n",
    "    {\n",
    "        \"role\": \"system\",\n",
    "        \"content\": instructions\n",
    "    }\n",
    "]"
   ]
  },
  {
   "cell_type": "markdown",
   "id": "4090707f",
   "metadata": {},
   "source": [
    "### 6. Use Agentic Retrieval to fetch results"
   ]
  },
  {
   "cell_type": "code",
   "execution_count": 6,
   "id": "918ded26",
   "metadata": {},
   "outputs": [],
   "source": [
    "from azure.search.documents.agent import KnowledgeAgentRetrievalClient\n",
    "from azure.search.documents.agent.models import KnowledgeAgentRetrievalRequest, KnowledgeAgentMessage, KnowledgeAgentMessageTextContent, KnowledgeAgentIndexParams\n",
    "import azure.search.documents._utils\n",
    "\n",
    "agent_client = KnowledgeAgentRetrievalClient(endpoint=endpoint, agent_name=agent_name, authentication_policy=azure.search.documents._utils.get_authentication_policy(credential))\n",
    "\n",
    "messages.append({\n",
    "    \"role\": \"user\",\n",
    "    \"content\": \"\"\"\n",
    "    Why do suburban belts display larger December brightening than urban cores even though absolute light levels are higher downtown?\n",
    "    Why is the Phoenix nighttime street grid is so sharply visible from space, whereas large stretches of the interstate between midwestern cities remain comparatively dim?\n",
    "    \"\"\"\n",
    "})\n",
    "\n",
    "retrieval_result = agent_client.knowledge_retrieval.retrieve(\n",
    "    retrieval_request=KnowledgeAgentRetrievalRequest(\n",
    "        messages=[KnowledgeAgentMessage(role=msg[\"role\"], content=[KnowledgeAgentMessageTextContent(text=msg[\"content\"])]) for msg in messages],\n",
    "        target_index_params=[KnowledgeAgentIndexParams(index_name=index_name, reranker_threshold=2.5)]\n",
    "    )\n",
    ")\n",
    "messages.append({\n",
    "    \"role\": \"assistant\",\n",
    "    \"content\": retrieval_result.response[0].content[0].text\n",
    "})"
   ]
  },
  {
   "cell_type": "markdown",
   "id": "886fc687",
   "metadata": {},
   "source": [
    "### 6.1. Review retrieval activity and results"
   ]
  },
  {
   "cell_type": "code",
   "execution_count": 7,
   "id": "d4d78fbe",
   "metadata": {},
   "outputs": [
    {
     "name": "stdout",
     "output_type": "stream",
     "text": [
      "Response\n",
      "[{\"ref_id\":1,\"content\":\"# Urban Structure\\n\\n## March 16, 2013\\n\\n### Phoenix Metropolitan Area at Night\\n\\nThis figure\n",
      "presents a nighttime satellite view of the Phoenix metropolitan area, highlighting urban structure and transport\n",
      "corridors. City lights illuminate the layout of several cities and major thoroughfares.\\n\\n**Labeled Urban\n",
      "Features:**\\n\\n- **Phoenix:** Central and brightest area in the right-center of the image.\\n- **Glendale:** Located to\n",
      "the west of Phoenix, this city is also brightly lit.\\n- **Peoria:** Further northwest, this area is labeled and its\n",
      "illuminated grid is seen.\\n- **Grand Avenue:** Clearly visible as a diagonal, brightly lit thoroughfare running from\n",
      "Phoenix through Glendale and Peoria.\\n- **Salt River Channel:** Identified in the southeast portion, running through\n",
      "illuminated sections.\\n- **Phoenix Mountains:** Dark, undeveloped region to the northeast of Phoenix.\\n- **Agricultural\n",
      "Fields:** Southwestern corner of the image, grid patterns are visible but with much less illumination, indicating\n",
      "agricultural land use.\\n\\n**Additional Notes:**\\n\\n- The overall pattern shows a grid-like urban development typical of\n",
      "western U.S. cities, with scattered bright nodes at major intersections or city centers.\\n- There is a clear transition\n",
      "from dense urban development to sparsely populated or agricultural land, particularly evident towards the bottom and\n",
      "left of the image.\\n- The illuminated areas follow the existing road and street grids, showcasing the extensive spread\n",
      "of the metropolitan area.\\n\\n**Figure Description:**  \\nA satellite nighttime image captured on March 16, 2013, showing\n",
      "Phoenix and surrounding areas (including Glendale and Peoria). Major landscape and infrastructural features, such as the\n",
      "Phoenix Mountains, Grand Avenue, the Salt River Channel, and agricultural fields, are labeled. The image reveals the\n",
      "extent of urbanization and the characteristic street grid illuminated by city lights.\\n\\n---\\n\\nPage\n",
      "89\"},{\"ref_id\":0,\"content\":\"<!-- PageHeader=\\\"Urban Structure\\\" -->\\n\\n### Location of Phoenix, Arizona\\n\\nThe image\n",
      "depicts a globe highlighting the location of Phoenix, Arizona, in the southwestern United States, marked with a blue\n",
      "pinpoint on the map of North America. Phoenix is situated in the central part of Arizona, which is in the southwestern\n",
      "region of the United States.\\n\\n---\\n\\n### Grid of City Blocks-Phoenix, Arizona\\n\\nLike many large urban areas of the\n",
      "central and western United States, the Phoenix metropolitan area is laid out along a regular grid of city blocks and\n",
      "streets. While visible during the day, this grid is most evident at night, when the pattern of street lighting is\n",
      "clearly visible from the low-Earth-orbit vantage point of the ISS.\\n\\nThis astronaut photograph, taken on March 16,\n",
      "2013, includes parts of several cities in the metropolitan area, including Phoenix (image right), Glendale (center), and\n",
      "Peoria (left). While the major street grid is oriented north-south, the northwest-southeast oriented Grand Avenue cuts\n",
      "across the three cities at image center. Grand Avenue is a major transportation corridor through the western\n",
      "metropolitan area; the lighting patterns of large industrial and commercial properties are visible along its length.\n",
      "Other brightly lit properties include large shopping centers, strip malls, and gas stations, which tend to be located at\n",
      "the intersections of north-south and east-west trending streets.\\n\\nThe urban grid encourages growth outwards along a\n",
      "city's borders by providing optimal access to new real estate. Fueled by the adoption of widespread personal automobile\n",
      "use during the twentieth century, the Phoenix metropolitan area today includes 25 other municipalities (many of them\n",
      "largely suburban and residential) linked by a network of surface streets and freeways.\\n\\nWhile much of the land area\n",
      "highlighted in this image is urbanized, there are several noticeably dark areas. The Phoenix Mountains are largely\n",
      "public parks and recreational land. To the west, agricultural fields provide a sharp contrast to the lit streets of\n",
      "residential developments. The Salt River channel appears as a dark ribbon within the urban grid.\\n\\n\\n<!--\n",
      "PageFooter=\\\"Earth at Night\\\" -->\\n<!-- PageNumber=\\\"88\\\" -->\"}]\n"
     ]
    }
   ],
   "source": [
    "import textwrap\n",
    "\n",
    "print(\"Response\")\n",
    "print(textwrap.fill(retrieval_result.response[0].content[0].text, width=120))"
   ]
  },
  {
   "cell_type": "code",
   "execution_count": 8,
   "id": "7fccf4b0",
   "metadata": {},
   "outputs": [
    {
     "name": "stdout",
     "output_type": "stream",
     "text": [
      "Activity\n",
      "[\n",
      "  {\n",
      "    \"id\": 0,\n",
      "    \"type\": \"ModelQueryPlanning\",\n",
      "    \"input_tokens\": 1407,\n",
      "    \"output_tokens\": 318\n",
      "  },\n",
      "  {\n",
      "    \"id\": 1,\n",
      "    \"type\": \"AzureSearchQuery\",\n",
      "    \"target_index\": \"earth_at_night\",\n",
      "    \"query\": {\n",
      "      \"search\": \"suburban belts December brightening urban cores light levels\"\n",
      "    },\n",
      "    \"query_time\": \"2025-05-02T04:50:56.846Z\",\n",
      "    \"elapsed_ms\": 611\n",
      "  },\n",
      "  {\n",
      "    \"id\": 2,\n",
      "    \"type\": \"AzureSearchQuery\",\n",
      "    \"target_index\": \"earth_at_night\",\n",
      "    \"query\": {\n",
      "      \"search\": \"Phoenix nighttime street grid visibility from space\"\n",
      "    },\n",
      "    \"query_time\": \"2025-05-02T04:50:57.331Z\",\n",
      "    \"count\": 2,\n",
      "    \"elapsed_ms\": 485\n",
      "  }\n",
      "]\n",
      "Results\n",
      "[\n",
      "  {\n",
      "    \"type\": \"AzureSearchDoc\",\n",
      "    \"id\": \"0\",\n",
      "    \"activity_source\": 2,\n",
      "    \"doc_key\": \"earth_at_night_508_page_104_verbalized\"\n",
      "  },\n",
      "  {\n",
      "    \"type\": \"AzureSearchDoc\",\n",
      "    \"id\": \"1\",\n",
      "    \"activity_source\": 2,\n",
      "    \"doc_key\": \"earth_at_night_508_page_105_verbalized\"\n",
      "  }\n",
      "]\n"
     ]
    }
   ],
   "source": [
    "import json\n",
    "print(\"Activity\")\n",
    "print(json.dumps([a.as_dict() for a in retrieval_result.activity], indent=2))\n",
    "print(\"Results\")\n",
    "print(json.dumps([r.as_dict() for r in retrieval_result.references], indent=2))"
   ]
  },
  {
   "cell_type": "markdown",
   "id": "75386ed1",
   "metadata": {},
   "source": [
    "### 7. Create Azure OpenAI Client"
   ]
  },
  {
   "cell_type": "code",
   "execution_count": 9,
   "id": "da260539",
   "metadata": {},
   "outputs": [],
   "source": [
    "from openai import AzureOpenAI\n",
    "from azure.identity import get_bearer_token_provider\n",
    "\n",
    "azure_openai_token_provider = get_bearer_token_provider(credential, \"https://cognitiveservices.azure.com/.default\")\n",
    "client = AzureOpenAI(\n",
    "    azure_endpoint=azure_openai_endpoint,\n",
    "    azure_ad_token_provider=azure_openai_token_provider,\n",
    "    api_version=azure_openai_api_version\n",
    ")"
   ]
  },
  {
   "cell_type": "markdown",
   "id": "e200bc2a",
   "metadata": {},
   "source": [
    "### 7.1 Use Responses API to generate an answer"
   ]
  },
  {
   "cell_type": "code",
   "execution_count": 10,
   "id": "b2dea5c2",
   "metadata": {},
   "outputs": [
    {
     "name": "stdout",
     "output_type": "stream",
     "text": [
      "Suburban belts display larger December brightening than urban cores because seasonal lighting, such\n",
      "as holiday decorations, tends to be more prevalent in residential areas where individual homes often\n",
      "contribute significantly to increased brightness. In contrast, urban cores, while having higher\n",
      "absolute light levels, don't experience as much variability due to the consistent presence of\n",
      "streetlights, commercial lighting, and less individual contribution to seasonal displays [ref_id:0].\n",
      "The Phoenix nighttime street grid is sharply visible from space because it is laid out in a regular\n",
      "grid of city blocks and streets, typical of western U.S. cities. This lighting pattern is evident\n",
      "from the low-Earth-orbit vantage point and highlights the extensive spread of urbanization. In\n",
      "contrast, large stretches of interstate between midwestern cities remain comparatively dim as these\n",
      "areas primarily consist of long, undeveloped stretches without urban lighting patterns, typical of\n",
      "agricultural or undeveloped land [ref_id:1].\n"
     ]
    }
   ],
   "source": [
    "response = client.responses.create(\n",
    "    model=answer_model,\n",
    "    input=messages\n",
    ")\n",
    "\n",
    "wrapped = textwrap.fill(response.output_text, width=100)\n",
    "print(wrapped)"
   ]
  },
  {
   "cell_type": "markdown",
   "id": "777c63f0",
   "metadata": {},
   "source": [
    "### 7.2 Use Chat Completions API to generate an answer"
   ]
  },
  {
   "cell_type": "code",
   "execution_count": 11,
   "id": "9126b4ce",
   "metadata": {},
   "outputs": [
    {
     "name": "stdout",
     "output_type": "stream",
     "text": [
      "Suburban belts display larger December brightening compared to urban cores even though absolute\n",
      "light levels are higher downtown due to the widespread use of decorative lighting during the holiday\n",
      "season. Suburban areas tend to have more residential properties where festive lighting is commonly\n",
      "used, contributing to this phenomenon. Additionally, suburban development often spreads outward,\n",
      "leading to a more extensive area where lighting may be present compared to the concentrated urban\n",
      "cores {ref_id: 0}.  Regarding Phoenix's sharply visible nighttime street grid from space, Phoenix\n",
      "and many cities in the western United States feature a regular grid layout of city blocks and\n",
      "streets. This grid is particularly evident at night because street lighting creates a clear and\n",
      "sharp pattern visible from space. In contrast, the interstate between midwestern cities may appear\n",
      "dimmer because these areas generally have less consistent lighting and lower population density,\n",
      "causing stretches of roadway to be less illuminated {ref_id: 1}.\n"
     ]
    }
   ],
   "source": [
    "response = client.chat.completions.create(\n",
    "    model=answer_model,\n",
    "    messages=messages\n",
    ")\n",
    "\n",
    "wrapped = textwrap.fill(response.choices[0].message.content, width=100)\n",
    "print(wrapped)"
   ]
  },
  {
   "cell_type": "markdown",
   "id": "bb96436b",
   "metadata": {},
   "source": [
    "### 8. Continue the conversation"
   ]
  },
  {
   "cell_type": "code",
   "execution_count": 12,
   "id": "7034e480",
   "metadata": {},
   "outputs": [],
   "source": [
    "messages.append({\n",
    "    \"role\": \"user\",\n",
    "    \"content\": \"How do I find lava at night?\"\n",
    "})\n",
    "\n",
    "retrieval_result = agent_client.knowledge_retrieval.retrieve(\n",
    "    retrieval_request=KnowledgeAgentRetrievalRequest(\n",
    "        messages=[KnowledgeAgentMessage(role=msg[\"role\"], content=[KnowledgeAgentMessageTextContent(text=msg[\"content\"])]) for msg in messages],\n",
    "        target_index_params=[KnowledgeAgentIndexParams(index_name=index_name, reranker_threshold=2.5)]\n",
    "    )\n",
    ")\n",
    "messages.append({\n",
    "    \"role\": \"assistant\",\n",
    "    \"content\": retrieval_result.response[0].content[0].text\n",
    "})"
   ]
  },
  {
   "cell_type": "markdown",
   "id": "fd1cba0c",
   "metadata": {},
   "source": [
    "### 8.1. Review activity and results"
   ]
  },
  {
   "cell_type": "code",
   "execution_count": 13,
   "id": "35a1bfcb",
   "metadata": {},
   "outputs": [
    {
     "name": "stdout",
     "output_type": "stream",
     "text": [
      "Response\n",
      "[{\"ref_id\":5,\"content\":\"## Nature's Light Shows\\n\\nAt night, with the light of the Sun removed, nature's brilliant glow\n",
      "from Earth's surface becomes visible to the naked eye from space. Some of Earth's most spectacular light shows are\n",
      "natural, like the aurora borealis, or Northern Lights, in the Northern Hemisphere (aurora australis, or Southern Lights,\n",
      "in the Southern Hemisphere). The auroras are natural electrical phenomena caused by charged particles that race from the\n",
      "Sun toward Earth, inducing chemical reactions in the upper atmosphere and creating the appearance of streamers of\n",
      "reddish or greenish light in the sky, usually near the northern or southern magnetic pole. Other natural lights can\n",
      "indicate danger, like a raging forest fire encroaching on a city, town, or community, or lava spewing from an erupting\n",
      "volcano.\\n\\nWhatever the source, the ability of humans to monitor nature's light shows at night has practical\n",
      "applications for society. For example, tracking fires during nighttime hours allows for continuous monitoring and\n",
      "enhances our ability to protect humans and other animals, plants, and infrastructure. Combined with other data sources,\n",
      "our ability to observe the light of fires at night allows emergency managers to more efficiently and accurately issue\n",
      "warnings and evacuation orders and allows firefighting efforts to continue through the night. With enough moonlight\n",
      "(e.g., full-Moon phase), it's even possible to track the movement of smoke plumes at night, which can impact air\n",
      "quality, regardless of time of day.\\n\\nAnother natural source of light at night is emitted from glowing lava flows at\n",
      "the site of active volcanoes. Again, with enough moonlight, these dramatic scenes can be tracked and monitored for both\n",
      "scientific research and public safety.\\n\\n\\n### Figure: The Northern Lights Viewed from Space\\n\\n**September 17,\n",
      "2011**\\n\\nThis photo, taken from the International Space Station on September 17, 2011, shows a spectacular display of\n",
      "the aurora borealis (Northern Lights) as green and reddish light in the night sky above Earth. In the foreground, part\n",
      "of a Soyuz spacecraft is visible, silhouetted against the bright auroral light. The green glow is generated by energetic\n",
      "charged particles from the Sun interacting with Earth's upper atmosphere, exciting oxygen and nitrogen atoms, and\n",
      "producing characteristic colors. The image demonstrates the vividness and grandeur of natural night-time light phenomena\n",
      "as seen from orbit.\"},{\"ref_id\":4,\"content\":\"# Volcanoes\\n\\n## Figure: Satellite Image of Sicily and Mount Etna Lava,\n",
      "March 16, 2017\\n\\nThe annotated satellite image below shows the island of Sicily and the surrounding region at night,\n",
      "highlighting city lights and volcanic activity.\\n\\n**Description:**\\n\\n- **Date of image:** March 16, 2017\\n-\n",
      "**Geographical locations labeled:**\\n    - Major cities: Palermo (northwest Sicily), Marsala (western Sicily), Catania\n",
      "(eastern Sicily)\\n    - Significant feature: Mount Etna, labeled with an adjacent \\\"hot lava\\\" region showing the glow\n",
      "from active lava flows\\n    - Surrounding water body: Mediterranean Sea\\n    - Island: Malta to the south of Sicily\\n-\n",
      "**Other details:** \\n    - The image is shown at night, with bright spots indicating city lights.\\n    - The position of\n",
      "\\\"hot lava\\\" near Mount Etna is distinctly visible as a bright spot different from other city lights, indicating\n",
      "volcanic activity.\\n    - A scale bar is included showing a reference length of 50 km.\\n    - North direction is\n",
      "indicated with an arrow.\\n    - Cloud cover is visible in the southwest part of the image, partially obscuring the view\n",
      "near Marsala and Malta.\\n\\n**Summary of Features Visualized:**\\n\\n| Feature          | Description\n",
      "|\\n|------------------|------------------------------------------------------|\\n| Cities           | Bright clusters\n",
      "indicating locations: Palermo, Marsala, Catania |\\n| Mount Etna       | Marked on the map, located on the eastern side\n",
      "of Sicily, with visible hot lava activity |\\n| Malta            | Clearly visible to the south of Sicily\n",
      "|\\n| Water bodies     | Mediterranean Sea labeled                            |\\n| Scale & Direction| 50 km scale bar and\n",
      "North indicator                  |\\n| Date             | March 16, 2017                                       |\\n| Cloud\n",
      "Cover      | Visible in the lower left (southern) part of the image |\\n\\nThis figure demonstrates the visibility of\n",
      "volcanic activity at Mount Etna from space at night, distinguishing the light from hot lava against the background city\n",
      "lights of Sicily and Malta.\"},{\"ref_id\":3,\"content\":\"# Volcanoes\\n\\n---\\n\\n### Mount Etna Erupts - Italy\\n\\nThe highly\n",
      "active Mount Etna in Italy sent red lava rolling down its flank on March 19, 2017. An astronaut onboard the ISS took the\n",
      "photograph below of the volcano and its environs that night. City lights surround the mostly dark volcanic\n",
      "area.\\n\\n---\\n\\n#### Figure 1: Location of Mount Etna, Italy\\n\\nA world map highlighting the location of Mount Etna in\n",
      "southern Italy. The marker indicates its geographic placement on the east coast of Sicily, Italy, in the Mediterranean\n",
      "region, south of mainland Europe and north of northern Africa.\\n\\n---\\n\\n#### Figure 2: Nighttime View of Mount Etna's\n",
      "Eruption and Surrounding Cities\\n\\nThis is a nighttime satellite image taken on March 19, 2017, showing the eruption of\n",
      "Mount Etna (southeastern cone) with visible bright red and orange coloring indicating flowing lava from a lateral vent.\n",
      "The surrounding areas are illuminated by city lights, with the following geographic references labeled:\\n\\n| Location\n",
      "| Position in Image         | Visible Characteristics\n",
      "|\\n|-----------------|--------------------------|--------------------------------------------|\\n| Mt. Etna (southeastern\n",
      "cone) | Top center-left | Bright red/orange lava flow                |\\n| Lateral vent    | Left of the volcano       |\n",
      "Faint red/orange flow extending outwards   |\\n| Resort          | Below the volcano, to the left   | Small cluster of\n",
      "lights                    |\\n| Giarre          | Top right                 | Bright cluster of city lights\n",
      "|\\n| Acireale        | Center right              | Large, bright area of city lights          |\\n| Biancavilla     |\n",
      "Bottom left               | Smaller cluster of city lights             |\\n\\nAn arrow pointing north is shown on the\n",
      "image for orientation.\\n\\n---\\n\\n<!-- Earth at Night Page Footer -->\\n<!-- Page Number: 50\n",
      "-->\"},{\"ref_id\":2,\"content\":\"For the first time in perhaps a decade, Mount Etna experienced a \\\"flank\n",
      "eruption\\\"—erupting from its side instead of its summit—on December 24, 2018. The activity was accompanied by 130\n",
      "earthquakes occurring over three hours that morning. Mount Etna, Europe’s most active volcano, has seen periodic\n",
      "activity on this part of the mountain since 2013. The Operational Land Imager (OLI) on the Landsat 8 satellite acquired\n",
      "the main image of Mount Etna on December 28, 2018.\\n\\nThe inset image highlights the active vent and thermal infrared\n",
      "signature from lava flows, which can be seen near the newly formed fissure on the southeastern side of the volcano. The\n",
      "inset was created with data from OLI and the Thermal Infrared Sensor (TIRS) on Landsat 8. Ash spewing from the fissure\n",
      "cloaked adjacent villages and delayed aircraft from landing at the nearby Catania airport. Earthquakes occurred in the\n",
      "subsequent days after the initial eruption and displaced hundreds of people from their homes.\\n\\nFor nighttime images of\n",
      "Mount Etna’s March 2017 eruption, see pages 48–51.\\n\\n---\\n\\n### Hazards of Volcanic Ash Plumes and Satellite\n",
      "Observation\\n\\nWith the help of moonlight, satellite instruments can track volcanic ash plumes, which present\n",
      "significant hazards to airplanes in flight. The volcanic ash—composed of tiny pieces of glass and rock—is abrasive to\n",
      "engine turbine blades, and can melt on the blades and other engine parts, causing damage and even engine stalls. This\n",
      "poses a danger to both the plane’s integrity and passenger safety. Volcanic ash also reduces visibility for pilots and\n",
      "can cause etching of windshields, further reducing pilots’ ability to see. Nightlight images can be combined with\n",
      "thermal images to provide a more complete view of volcanic activity on Earth’s surface.\\n\\nThe VIIRS Day/Night Band\n",
      "(DNB) on polar-orbiting satellites uses faint light sources such as moonlight, airglow (the atmosphere’s self-\n",
      "illumination through chemical reactions), zodiacal light (sunlight scattered by interplanetary dust), and starlight from\n",
      "the Milky Way. Using these dim light sources, the DNB can detect changes in clouds, snow cover, and sea ice:\\n\\n####\n",
      "Table: Light Sources Used by VIIRS DNB\\n\\n| Light Source         | Description\n",
      "|\\n|----------------------|------------------------------------------------------------------------------|\\n| Moonlight\n",
      "| Reflected sunlight from the Moon, illuminating Earth's surface at night      |\\n| Airglow              | Atmospheric\n",
      "self-illumination from chemical reactions                        |\\n| Zodiacal Light       | Sunlight scattered by\n",
      "interplanetary dust                                    |\\n| Starlight/Milky Way  | Faint illumination provided by stars\n",
      "in the Milky Way                        |\\n\\nGeostationary Operational Environmental Satellites (GOES), managed by NOAA,\n",
      "orbit over Earth’s equator and offer uninterrupted observations of North America. High-latitude areas such as Alaska\n",
      "benefit from polar-orbiting satellites like Suomi NPP, which provide overlapping coverage at the poles, enabling more\n",
      "data collection in these regions. During polar darkness (winter months), VIIRS DNB data allow scientists to:\\n\\n-\n",
      "Observe sea ice formation\\n- Monitor snow cover extent at the highest latitudes\\n- Detect open water for ship\n",
      "navigation\\n\\n#### Table: Satellite Coverage Overview\\n\\n| Satellite Type          | Orbit           | Coverage Area\n",
      "| Special Utility\n",
      "|\\n|------------------------|-----------------|----------------------|----------------------------------------------|\\n|\n",
      "GOES                   | Geostationary   | Equatorial/North America | Continuous regional monitoring              |\\n|\n",
      "Polar-Orbiting (e.g., Suomi NPP) | Polar-orbiting    | Poles/high latitudes      | Overlapping passes; useful during\n",
      "polar night|\\n\\n---\\n\\n### Weather Forecasting and Nightlight Data\\n\\nThe use of nightlight data by weather forecasters\n",
      "is growing as the VIIRS instrument enables observation of clouds at night illuminated by sources such as moonlight and\n",
      "lightning. Scientists use these data to study the nighttime behavior of weather systems, including severe storms, which\n",
      "can develop and strike populous areas at night as well as during the day. Combined with thermal data, visible nightlight\n",
      "data allow the detection of clouds at various heights in the atmosphere, such as dense marine fog. This capability\n",
      "enables weather forecasters to issue marine advisories with higher confidence, leading to greater utility. (See \\\"Marine\n",
      "Layer Clouds—California\\\" on page 56.)\\n\\nIn this section of the book, you will see how nightlight data are used to\n",
      "observe nature’s spectacular light shows across a wide range of sources.\\n\\n---\\n\\n#### Notable Data from Mount Etna\n",
      "Flank Eruption (December 2018)\\n\\n| Event/Observation                  | Details\n",
      "|\\n|-------------------------------------|----------------------------------------------------------------------------\n",
      "|\\n| Date of Flank Eruption              | December 24, 2018\n",
      "|\\n| Number of Earthquakes               | 130 earthquakes within 3 hours\n",
      "|\\n| Image Acquisition                   | December 28, 2018 by Landsat 8 OLI\n",
      "|\\n| Location of Eruption                | Southeastern side of Mount Etna\n",
      "|\\n| Thermal Imaging Data                | From OLI and TIRS (Landsat 8), highlighting active vent and lava flows\n",
      "|\\n| Impact on Villages/Air Transport    | Ash covered villages; delayed aircraft at Catania airport\n",
      "|\\n| Displacement                        | Hundreds of residents displaced\n",
      "|\\n| Ongoing Seismic Activity            | Earthquakes continued after initial eruption\n",
      "|\\n\\n---\\n\\n<!-- PageFooter=\\\"Earth at Night\\\" -->\\n<!-- PageNumber=\\\"30\\\" -->\"},{\"ref_id\":1,\"content\":\"<!--\n",
      "PageHeader=\\\"Volcanoes\\\" -->\\n\\n### Nighttime Glow at Mount Etna - Italy\\n\\nAt about 2:30 a.m. local time on March 16,\n",
      "2017, the VIIRS DNB on the Suomi NPP satellite captured this nighttime image of lava flowing on Mount Etna in Sicily,\n",
      "Italy. Etna is one of the world's most active volcanoes.\\n\\n#### Figure: Location of Mount Etna\\nA world globe is\n",
      "depicted, with a marker indicating the location of Mount Etna in Sicily, Italy, in southern Europe near the center of\n",
      "the Mediterranean Sea.\\n\\n<!-- PageFooter=\\\"Earth at Night\\\" -->\\n<!-- PageNumber=\\\"48\\\"\n",
      "-->\"},{\"ref_id\":0,\"content\":\"<!-- PageHeader=\\\"Volcanoes\\\" -->\\n\\n## Volcanoes\\n\\n### The Infrared Glows of Kilauea's\n",
      "Lava Flows—Hawaii\\n\\nIn early May 2018, an eruption on Hawaii's Kilauea volcano began to unfold. The eruption took a\n",
      "dangerous turn on May 3, 2018, when new fissures opened in the residential neighborhood of Leilani Estates. During the\n",
      "summer-long eruptive event, other fissures emerged along the East Rift Zone. Lava from vents along the rift zone flowed\n",
      "downslope, reaching the ocean in several areas, and filling in Kapoho Bay.\\n\\nA time series of Landsat 8 imagery shows\n",
      "the progression of the lava flows from May 16 to August 13. The night view combines thermal, shortwave infrared, and\n",
      "near-infrared wavelengths to tease out the very hot lava (bright white), cooling lava (red), and lava flows obstructed\n",
      "by clouds (purple).\\n\\n#### Figure: Location of Kilauea Volcano, Hawaii\\n\\nA globe is shown centered on North America,\n",
      "with a marker placed in the Pacific Ocean indicating the location of Hawaii, to the southwest of the mainland United\n",
      "States.\\n\\n<!-- PageFooter=\\\"Earth at Night\\\" -->\\n<!-- PageNumber=\\\"44\\\" -->\"}]\n"
     ]
    }
   ],
   "source": [
    "print(\"Response\")\n",
    "print(textwrap.fill(retrieval_result.response[0].content[0].text, width=120))"
   ]
  },
  {
   "cell_type": "code",
   "execution_count": 14,
   "id": "6f74c2c3",
   "metadata": {},
   "outputs": [
    {
     "name": "stdout",
     "output_type": "stream",
     "text": [
      "Activity\n",
      "[\n",
      "  {\n",
      "    \"id\": 0,\n",
      "    \"type\": \"ModelQueryPlanning\",\n",
      "    \"input_tokens\": 2283,\n",
      "    \"output_tokens\": 110\n",
      "  },\n",
      "  {\n",
      "    \"id\": 1,\n",
      "    \"type\": \"AzureSearchQuery\",\n",
      "    \"target_index\": \"earth_at_night\",\n",
      "    \"query\": {\n",
      "      \"search\": \"how to locate lava flows at night\"\n",
      "    },\n",
      "    \"query_time\": \"2025-05-02T04:51:05.929Z\",\n",
      "    \"count\": 6,\n",
      "    \"elapsed_ms\": 346\n",
      "  }\n",
      "]\n",
      "Results\n",
      "[\n",
      "  {\n",
      "    \"type\": \"AzureSearchDoc\",\n",
      "    \"id\": \"0\",\n",
      "    \"activity_source\": 1,\n",
      "    \"doc_key\": \"earth_at_night_508_page_60_verbalized\"\n",
      "  },\n",
      "  {\n",
      "    \"type\": \"AzureSearchDoc\",\n",
      "    \"id\": \"1\",\n",
      "    \"activity_source\": 1,\n",
      "    \"doc_key\": \"earth_at_night_508_page_64_verbalized\"\n",
      "  },\n",
      "  {\n",
      "    \"type\": \"AzureSearchDoc\",\n",
      "    \"id\": \"2\",\n",
      "    \"activity_source\": 1,\n",
      "    \"doc_key\": \"earth_at_night_508_page_46_verbalized\"\n",
      "  },\n",
      "  {\n",
      "    \"type\": \"AzureSearchDoc\",\n",
      "    \"id\": \"3\",\n",
      "    \"activity_source\": 1,\n",
      "    \"doc_key\": \"earth_at_night_508_page_66_verbalized\"\n",
      "  },\n",
      "  {\n",
      "    \"type\": \"AzureSearchDoc\",\n",
      "    \"id\": \"4\",\n",
      "    \"activity_source\": 1,\n",
      "    \"doc_key\": \"earth_at_night_508_page_65_verbalized\"\n",
      "  },\n",
      "  {\n",
      "    \"type\": \"AzureSearchDoc\",\n",
      "    \"id\": \"5\",\n",
      "    \"activity_source\": 1,\n",
      "    \"doc_key\": \"earth_at_night_508_page_44_verbalized\"\n",
      "  }\n",
      "]\n"
     ]
    }
   ],
   "source": [
    "import json\n",
    "print(\"Activity\")\n",
    "print(json.dumps([a.as_dict() for a in retrieval_result.activity], indent=2))\n",
    "print(\"Results\")\n",
    "print(json.dumps([r.as_dict() for r in retrieval_result.references], indent=2))"
   ]
  },
  {
   "cell_type": "markdown",
   "id": "cd7d32cc",
   "metadata": {},
   "source": [
    "### 8.2. Generate answer"
   ]
  },
  {
   "cell_type": "code",
   "execution_count": null,
   "id": "a6486c8a",
   "metadata": {},
   "outputs": [],
   "source": [
    "response = client.responses.create(\n",
    "    model=answer_model,\n",
    "    input=messages\n",
    ")\n",
    "\n",
    "wrapped = textwrap.fill(response.output_text, width=100)\n",
    "print(wrapped)"
   ]
  }
 ],
 "metadata": {
  "kernelspec": {
   "display_name": ".venv",
   "language": "python",
   "name": "python3"
  },
  "language_info": {
   "codemirror_mode": {
    "name": "ipython",
    "version": 3
   },
   "file_extension": ".py",
   "mimetype": "text/x-python",
   "name": "python",
   "nbconvert_exporter": "python",
   "pygments_lexer": "ipython3",
   "version": "3.12.10"
  }
 },
 "nbformat": 4,
 "nbformat_minor": 5
}
