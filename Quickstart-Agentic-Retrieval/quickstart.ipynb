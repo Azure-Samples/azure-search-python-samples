{
 "cells": [
  {
   "cell_type": "markdown",
   "id": "4be5d807",
   "metadata": {},
   "source": [
    "# Agentic Retrieval Quickstart for Azure AI Search"
   ]
  },
  {
   "cell_type": "markdown",
   "id": "5196ac98",
   "metadata": {},
   "source": [
    "### 1. Load Connections"
   ]
  },
  {
   "cell_type": "code",
   "execution_count": 1,
   "id": "2df3a118",
   "metadata": {},
   "outputs": [],
   "source": [
    "from dotenv import load_dotenv\n",
    "from azure.identity import DefaultAzureCredential, get_bearer_token_provider\n",
    "import os\n",
    "\n",
    "load_dotenv(override=True) # take environment variables from .env.\n",
    "\n",
    "# The following variables from your .env file are used in this notebook\n",
    "answer_model = os.getenv(\"ANSWER_MODEL\", \"gpt-4o\")\n",
    "endpoint = os.environ[\"AZURE_SEARCH_ENDPOINT\"]\n",
    "credential = DefaultAzureCredential()\n",
    "token_provider = get_bearer_token_provider(credential, \"https://search.azure.com/.default\")\n",
    "index_name = os.getenv(\"AZURE_SEARCH_INDEX\", \"earth_at_night\")\n",
    "azure_openai_endpoint = os.environ[\"AZURE_OPENAI_ENDPOINT\"]\n",
    "azure_openai_gpt_deployment = os.getenv(\"AZURE_OPENAI_GPT_DEPLOYMENT\", \"gpt-4o\")\n",
    "azure_openai_gpt_model = os.getenv(\"AZURE_OPENAI_GPT_MODEL\", \"gpt-4o\")\n",
    "azure_openai_api_version = os.getenv(\"AZURE_OPENAI_API_VERSION\", \"2025-03-01-preview\")\n",
    "agent_name = os.getenv(\"AZURE_SEARCH_AGENT_NAME\", \"earth-search-agent\")\n",
    "api_version = \"2025-05-01-Preview\""
   ]
  },
  {
   "cell_type": "markdown",
   "id": "3799500c",
   "metadata": {},
   "source": [
    "### 2. Create search agent"
   ]
  },
  {
   "cell_type": "code",
   "execution_count": 2,
   "id": "d3fe4183",
   "metadata": {},
   "outputs": [],
   "source": [
    "import requests\n",
    "\n",
    "create_agent_request = {\n",
    "    \"name\": agent_name,\n",
    "    \"targetIndexes\": [ { \"indexName\": index_name } ],\n",
    "    \"models\": [\n",
    "          {\n",
    "            \"kind\": \"azureOpenAI\",\n",
    "            \"azureOpenAIParameters\": {\n",
    "                \"resourceUri\": azure_openai_endpoint,\n",
    "                \"apiKey\": None,\n",
    "                \"deploymentId\": azure_openai_gpt_model,\n",
    "                \"modelName\": azure_openai_gpt_model\n",
    "            }\n",
    "        }\n",
    "    ]\n",
    "}\n",
    "\n",
    "response = requests.put(\n",
    "    url=f\"{endpoint}/agents/{agent_name}?api-version={api_version}\",\n",
    "    headers={ \"Authorization\": f\"Bearer {token_provider()}\" },\n",
    "    json=create_agent_request\n",
    ")\n",
    "response.raise_for_status()\n"
   ]
  },
  {
   "cell_type": "markdown",
   "id": "1610cefd",
   "metadata": {},
   "source": [
    "### 3. Setup messages"
   ]
  },
  {
   "cell_type": "code",
   "execution_count": 3,
   "id": "2ab7b970",
   "metadata": {},
   "outputs": [],
   "source": [
    "instructions = \"\"\"\n",
    "An Q&A agent that can answer questions about the Earth at night.\n",
    "Sources have a JSON format with a ref_id that must be cited in the answer.\n",
    "If you do not have the answer, respond with \"I don't know\".\n",
    "\"\"\"\n",
    "\n",
    "messages = [\n",
    "    {\n",
    "        \"role\": \"system\",\n",
    "        \"content\": instructions\n",
    "    }\n",
    "]"
   ]
  },
  {
   "cell_type": "markdown",
   "id": "4090707f",
   "metadata": {},
   "source": [
    "### 4. Use Agentic Retrieval to fetch results"
   ]
  },
  {
   "cell_type": "code",
   "execution_count": 4,
   "id": "918ded26",
   "metadata": {},
   "outputs": [],
   "source": [
    "def query_agent(messages: list[dict[str, any]]):\n",
    "    retrieval_request = {\n",
    "        \"messages\" : [ { \"role\": msg[\"role\"], \"content\": [ { \"text\": msg[\"content\"] , \"type\": \"text\" } ] } for msg in messages ],\n",
    "        \"targetIndexParams\" :  [\n",
    "            { \n",
    "                \"indexName\" : index_name,\n",
    "                \"rerankerThreshold\": 2.5\n",
    "            } \n",
    "        ]\n",
    "    }\n",
    "    response = requests.post(\n",
    "        url=f\"{endpoint}/agents/{agent_name}/retrieve?api-version={api_version}\",\n",
    "        headers={ \"Authorization\": f\"Bearer {token_provider()}\" },\n",
    "        json=retrieval_request\n",
    "    )\n",
    "    response.raise_for_status()\n",
    "    result = response.json()\n",
    "    return result"
   ]
  },
  {
   "cell_type": "code",
   "execution_count": 5,
   "id": "7efd6b5f",
   "metadata": {},
   "outputs": [],
   "source": [
    "messages.append({\n",
    "    \"role\": \"user\",\n",
    "    \"content\": \"\"\"\n",
    "    Why do suburban belts display larger December brightening than urban cores even though absolute light levels are higher downtown?\n",
    "    Why is the Phoenix nighttime street grid is so sharply visible from space, whereas large stretches of the interstate between midwestern cities remain comparatively dim?\n",
    "    \"\"\"\n",
    "})\n",
    "\n",
    "retrieval_result = query_agent(messages)\n",
    "messages.append({\n",
    "    \"role\": \"assistant\",\n",
    "    \"content\": retrieval_result[\"response\"][0][\"content\"][0][\"text\"]\n",
    "})"
   ]
  },
  {
   "cell_type": "markdown",
   "id": "886fc687",
   "metadata": {},
   "source": [
    "### 4.1. Review retrieval activity and results"
   ]
  },
  {
   "cell_type": "code",
   "execution_count": 6,
   "id": "d4d78fbe",
   "metadata": {},
   "outputs": [
    {
     "name": "stdout",
     "output_type": "stream",
     "text": [
      "Response\n",
      "[{\"ref_id\":1,\"content\":\"# Urban Structure\\n\\n## March 16, 2013\\n\\n### Phoenix Metropolitan Area at Night\\n\\nThis figure\n",
      "presents a nighttime satellite view of the Phoenix metropolitan area, highlighting urban structure and transport\n",
      "corridors. City lights illuminate the layout of several cities and major thoroughfares.\\n\\n**Labeled Urban\n",
      "Features:**\\n\\n- **Phoenix:** Central and brightest area in the right-center of the image.\\n- **Glendale:** Located to\n",
      "the west of Phoenix, this city is also brightly lit.\\n- **Peoria:** Further northwest, this area is labeled and its\n",
      "illuminated grid is seen.\\n- **Grand Avenue:** Clearly visible as a diagonal, brightly lit thoroughfare running from\n",
      "Phoenix through Glendale and Peoria.\\n- **Salt River Channel:** Identified in the southeast portion, running through\n",
      "illuminated sections.\\n- **Phoenix Mountains:** Dark, undeveloped region to the northeast of Phoenix.\\n- **Agricultural\n",
      "Fields:** Southwestern corner of the image, grid patterns are visible but with much less illumination, indicating\n",
      "agricultural land use.\\n\\n**Additional Notes:**\\n\\n- The overall pattern shows a grid-like urban development typical of\n",
      "western U.S. cities, with scattered bright nodes at major intersections or city centers.\\n- There is a clear transition\n",
      "from dense urban development to sparsely populated or agricultural land, particularly evident towards the bottom and\n",
      "left of the image.\\n- The illuminated areas follow the existing road and street grids, showcasing the extensive spread\n",
      "of the metropolitan area.\\n\\n**Figure Description:**  \\nA satellite nighttime image captured on March 16, 2013, showing\n",
      "Phoenix and surrounding areas (including Glendale and Peoria). Major landscape and infrastructural features, such as the\n",
      "Phoenix Mountains, Grand Avenue, the Salt River Channel, and agricultural fields, are labeled. The image reveals the\n",
      "extent of urbanization and the characteristic street grid illuminated by city lights.\\n\\n---\\n\\nPage\n",
      "89\"},{\"ref_id\":0,\"content\":\"<!-- PageHeader=\\\"Urban Structure\\\" -->\\n\\n### Location of Phoenix, Arizona\\n\\nThe image\n",
      "depicts a globe highlighting the location of Phoenix, Arizona, in the southwestern United States, marked with a blue\n",
      "pinpoint on the map of North America. Phoenix is situated in the central part of Arizona, which is in the southwestern\n",
      "region of the United States.\\n\\n---\\n\\n### Grid of City Blocks-Phoenix, Arizona\\n\\nLike many large urban areas of the\n",
      "central and western United States, the Phoenix metropolitan area is laid out along a regular grid of city blocks and\n",
      "streets. While visible during the day, this grid is most evident at night, when the pattern of street lighting is\n",
      "clearly visible from the low-Earth-orbit vantage point of the ISS.\\n\\nThis astronaut photograph, taken on March 16,\n",
      "2013, includes parts of several cities in the metropolitan area, including Phoenix (image right), Glendale (center), and\n",
      "Peoria (left). While the major street grid is oriented north-south, the northwest-southeast oriented Grand Avenue cuts\n",
      "across the three cities at image center. Grand Avenue is a major transportation corridor through the western\n",
      "metropolitan area; the lighting patterns of large industrial and commercial properties are visible along its length.\n",
      "Other brightly lit properties include large shopping centers, strip malls, and gas stations, which tend to be located at\n",
      "the intersections of north-south and east-west trending streets.\\n\\nThe urban grid encourages growth outwards along a\n",
      "city's borders by providing optimal access to new real estate. Fueled by the adoption of widespread personal automobile\n",
      "use during the twentieth century, the Phoenix metropolitan area today includes 25 other municipalities (many of them\n",
      "largely suburban and residential) linked by a network of surface streets and freeways.\\n\\nWhile much of the land area\n",
      "highlighted in this image is urbanized, there are several noticeably dark areas. The Phoenix Mountains are largely\n",
      "public parks and recreational land. To the west, agricultural fields provide a sharp contrast to the lit streets of\n",
      "residential developments. The Salt River channel appears as a dark ribbon within the urban grid.\\n\\n\\n<!--\n",
      "PageFooter=\\\"Earth at Night\\\" -->\\n<!-- PageNumber=\\\"88\\\" -->\"}]\n"
     ]
    }
   ],
   "source": [
    "import textwrap\n",
    "\n",
    "print(\"Response\")\n",
    "print(textwrap.fill(retrieval_result[\"response\"][0][\"content\"][0][\"text\"], width=120))"
   ]
  },
  {
   "cell_type": "code",
   "execution_count": 7,
   "id": "7fccf4b0",
   "metadata": {},
   "outputs": [
    {
     "name": "stdout",
     "output_type": "stream",
     "text": [
      "Activity\n",
      "[\n",
      "  {\n",
      "    \"type\": \"ModelQueryPlanning\",\n",
      "    \"id\": 0,\n",
      "    \"inputTokens\": 1407,\n",
      "    \"outputTokens\": 523\n",
      "  },\n",
      "  {\n",
      "    \"type\": \"AzureSearchQuery\",\n",
      "    \"id\": 1,\n",
      "    \"targetIndex\": \"earth_at_night\",\n",
      "    \"query\": {\n",
      "      \"search\": \"suburban belts December brightening compared to urban cores\",\n",
      "      \"filter\": null\n",
      "    },\n",
      "    \"queryTime\": \"2025-04-30T16:03:34.508Z\",\n",
      "    \"elapsedMs\": 625\n",
      "  },\n",
      "  {\n",
      "    \"type\": \"AzureSearchQuery\",\n",
      "    \"id\": 2,\n",
      "    \"targetIndex\": \"earth_at_night\",\n",
      "    \"query\": {\n",
      "      \"search\": \"Phoenix nighttime street grid visibility from space\",\n",
      "      \"filter\": null\n",
      "    },\n",
      "    \"queryTime\": \"2025-04-30T16:03:34.869Z\",\n",
      "    \"count\": 2,\n",
      "    \"elapsedMs\": 361\n",
      "  },\n",
      "  {\n",
      "    \"type\": \"AzureSearchQuery\",\n",
      "    \"id\": 3,\n",
      "    \"targetIndex\": \"earth_at_night\",\n",
      "    \"query\": {\n",
      "      \"search\": \"dim interstates between midwestern cities at night\",\n",
      "      \"filter\": null\n",
      "    },\n",
      "    \"queryTime\": \"2025-04-30T16:03:35.174Z\",\n",
      "    \"elapsedMs\": 304\n",
      "  }\n",
      "]\n",
      "Results\n",
      "[\n",
      "  {\n",
      "    \"type\": \"AzureSearchDoc\",\n",
      "    \"id\": \"0\",\n",
      "    \"activitySource\": 2,\n",
      "    \"docKey\": \"earth_at_night_508_page_104_verbalized\",\n",
      "    \"sourceData\": null\n",
      "  },\n",
      "  {\n",
      "    \"type\": \"AzureSearchDoc\",\n",
      "    \"id\": \"1\",\n",
      "    \"activitySource\": 2,\n",
      "    \"docKey\": \"earth_at_night_508_page_105_verbalized\",\n",
      "    \"sourceData\": null\n",
      "  }\n",
      "]\n"
     ]
    }
   ],
   "source": [
    "import json\n",
    "print(\"Activity\")\n",
    "print(json.dumps(retrieval_result[\"activity\"], indent=2))\n",
    "print(\"Results\")\n",
    "print(json.dumps(retrieval_result[\"references\"], indent=2))"
   ]
  },
  {
   "cell_type": "markdown",
   "id": "75386ed1",
   "metadata": {},
   "source": [
    "### 5. Create Azure OpenAI Client"
   ]
  },
  {
   "cell_type": "code",
   "execution_count": 8,
   "id": "da260539",
   "metadata": {},
   "outputs": [],
   "source": [
    "from openai import AzureOpenAI\n",
    "from azure.identity import get_bearer_token_provider\n",
    "\n",
    "azure_openai_token_provider = get_bearer_token_provider(credential, \"https://cognitiveservices.azure.com/.default\")\n",
    "client = AzureOpenAI(\n",
    "    azure_endpoint=azure_openai_endpoint,\n",
    "    azure_ad_token_provider=azure_openai_token_provider,\n",
    "    api_version=azure_openai_api_version\n",
    ")"
   ]
  },
  {
   "cell_type": "markdown",
   "id": "e200bc2a",
   "metadata": {},
   "source": [
    "### 5.1 Use Responses API to generate an answer"
   ]
  },
  {
   "cell_type": "code",
   "execution_count": 9,
   "id": "b2dea5c2",
   "metadata": {},
   "outputs": [
    {
     "name": "stdout",
     "output_type": "stream",
     "text": [
      "The larger December brightening in suburban belts compared to urban cores, despite higher absolute\n",
      "light levels downtown, can be attributed to the widespread distribution of decorative and seasonal\n",
      "lighting in suburban areas. Suburbs have more residential properties where such lighting is\n",
      "prevalent and can create a greater relative increase in brightness compared to urban centers with\n",
      "more commercial or industrial lighting that remains constant [0].  As for the Phoenix nighttime\n",
      "street grid being sharply visible from space, this is due to its regular grid pattern of city blocks\n",
      "and streets, which are extensively lit. Major streets and intersections in the Phoenix metropolitan\n",
      "area are designed for optimal light distribution, enhancing their visibility at night from space. In\n",
      "contrast, large stretches of interstate highways between midwestern cities are less densely\n",
      "populated and have fewer adjacent lit areas, resulting in dimmer illumination levels [0][1].\n"
     ]
    }
   ],
   "source": [
    "response = client.responses.create(\n",
    "    model=answer_model,\n",
    "    input=messages\n",
    ")\n",
    "\n",
    "wrapped = textwrap.fill(response.output_text, width=100)\n",
    "print(wrapped)"
   ]
  },
  {
   "cell_type": "markdown",
   "id": "777c63f0",
   "metadata": {},
   "source": [
    "### 5.2 Use Chat Completions API to generate an answer"
   ]
  },
  {
   "cell_type": "code",
   "execution_count": 10,
   "id": "9126b4ce",
   "metadata": {},
   "outputs": [
    {
     "name": "stdout",
     "output_type": "stream",
     "text": [
      "Suburban belts exhibit greater December brightening than urban cores mainly due to the distribution\n",
      "and type of holiday lighting and decorations prevalent in suburban areas. Suburbs often have larger\n",
      "residential properties and open spaces that accommodate extensive outdoor holiday lighting, leading\n",
      "to noticeable brightening during December. In contrast, urban cores have higher absolute light\n",
      "levels year-round due to concentrated commercial and industrial activities, which do not change\n",
      "significantly with seasonal lighting displays.  The Phoenix nighttime street grid is sharply visible\n",
      "from space because it follows a structured, regular grid pattern that is typical of many western\n",
      "U.S. cities. This layout is enhanced by extensive street lighting, making it distinct when viewed\n",
      "from the low-Earth-orbit vantage point of satellites or the International Space Station. In\n",
      "comparison, large stretches of the interstate between midwestern cities are less illuminated, often\n",
      "traversing rural, less populated areas where street lighting is minimal or absent, leading to\n",
      "comparatively dim appearances from space [ref_id:0, ref_id:1].\n"
     ]
    }
   ],
   "source": [
    "response = client.chat.completions.create(\n",
    "    model=answer_model,\n",
    "    messages=messages\n",
    ")\n",
    "\n",
    "wrapped = textwrap.fill(response.choices[0].message.content, width=100)\n",
    "print(wrapped)"
   ]
  },
  {
   "cell_type": "markdown",
   "id": "bb96436b",
   "metadata": {},
   "source": [
    "### 6. Continue the conversation"
   ]
  },
  {
   "cell_type": "code",
   "execution_count": 11,
   "id": "7034e480",
   "metadata": {},
   "outputs": [],
   "source": [
    "messages.append({\n",
    "    \"role\": \"user\",\n",
    "    \"content\": \"How do I find lava at night?\"\n",
    "})\n",
    "\n",
    "retrieval_result = query_agent(messages)\n",
    "messages.append({\n",
    "    \"role\": \"assistant\",\n",
    "    \"content\": retrieval_result[\"response\"][0][\"content\"][0][\"text\"]\n",
    "})"
   ]
  },
  {
   "cell_type": "markdown",
   "id": "fd1cba0c",
   "metadata": {},
   "source": [
    "### 6.1. Review activity and results"
   ]
  },
  {
   "cell_type": "code",
   "execution_count": 12,
   "id": "35a1bfcb",
   "metadata": {},
   "outputs": [
    {
     "name": "stdout",
     "output_type": "stream",
     "text": [
      "Response\n",
      "[{\"ref_id\":1,\"content\":\"For the first time in perhaps a decade, Mount Etna experienced a \\\"flank eruption\\\"—erupting\n",
      "from its side instead of its summit—on December 24, 2018. The activity was accompanied by 130 earthquakes occurring over\n",
      "three hours that morning. Mount Etna, Europe’s most active volcano, has seen periodic activity on this part of the\n",
      "mountain since 2013. The Operational Land Imager (OLI) on the Landsat 8 satellite acquired the main image of Mount Etna\n",
      "on December 28, 2018.\\n\\nThe inset image highlights the active vent and thermal infrared signature from lava flows,\n",
      "which can be seen near the newly formed fissure on the southeastern side of the volcano. The inset was created with data\n",
      "from OLI and the Thermal Infrared Sensor (TIRS) on Landsat 8. Ash spewing from the fissure cloaked adjacent villages and\n",
      "delayed aircraft from landing at the nearby Catania airport. Earthquakes occurred in the subsequent days after the\n",
      "initial eruption and displaced hundreds of people from their homes.\\n\\nFor nighttime images of Mount Etna’s March 2017\n",
      "eruption, see pages 48–51.\\n\\n---\\n\\n### Hazards of Volcanic Ash Plumes and Satellite Observation\\n\\nWith the help of\n",
      "moonlight, satellite instruments can track volcanic ash plumes, which present significant hazards to airplanes in\n",
      "flight. The volcanic ash—composed of tiny pieces of glass and rock—is abrasive to engine turbine blades, and can melt on\n",
      "the blades and other engine parts, causing damage and even engine stalls. This poses a danger to both the plane’s\n",
      "integrity and passenger safety. Volcanic ash also reduces visibility for pilots and can cause etching of windshields,\n",
      "further reducing pilots’ ability to see. Nightlight images can be combined with thermal images to provide a more\n",
      "complete view of volcanic activity on Earth’s surface.\\n\\nThe VIIRS Day/Night Band (DNB) on polar-orbiting satellites\n",
      "uses faint light sources such as moonlight, airglow (the atmosphere’s self-illumination through chemical reactions),\n",
      "zodiacal light (sunlight scattered by interplanetary dust), and starlight from the Milky Way. Using these dim light\n",
      "sources, the DNB can detect changes in clouds, snow cover, and sea ice:\\n\\n#### Table: Light Sources Used by VIIRS\n",
      "DNB\\n\\n| Light Source         | Description\n",
      "|\\n|----------------------|------------------------------------------------------------------------------|\\n| Moonlight\n",
      "| Reflected sunlight from the Moon, illuminating Earth's surface at night      |\\n| Airglow              | Atmospheric\n",
      "self-illumination from chemical reactions                        |\\n| Zodiacal Light       | Sunlight scattered by\n",
      "interplanetary dust                                    |\\n| Starlight/Milky Way  | Faint illumination provided by stars\n",
      "in the Milky Way                        |\\n\\nGeostationary Operational Environmental Satellites (GOES), managed by NOAA,\n",
      "orbit over Earth’s equator and offer uninterrupted observations of North America. High-latitude areas such as Alaska\n",
      "benefit from polar-orbiting satellites like Suomi NPP, which provide overlapping coverage at the poles, enabling more\n",
      "data collection in these regions. During polar darkness (winter months), VIIRS DNB data allow scientists to:\\n\\n-\n",
      "Observe sea ice formation\\n- Monitor snow cover extent at the highest latitudes\\n- Detect open water for ship\n",
      "navigation\\n\\n#### Table: Satellite Coverage Overview\\n\\n| Satellite Type          | Orbit           | Coverage Area\n",
      "| Special Utility\n",
      "|\\n|------------------------|-----------------|----------------------|----------------------------------------------|\\n|\n",
      "GOES                   | Geostationary   | Equatorial/North America | Continuous regional monitoring              |\\n|\n",
      "Polar-Orbiting (e.g., Suomi NPP) | Polar-orbiting    | Poles/high latitudes      | Overlapping passes; useful during\n",
      "polar night|\\n\\n---\\n\\n### Weather Forecasting and Nightlight Data\\n\\nThe use of nightlight data by weather forecasters\n",
      "is growing as the VIIRS instrument enables observation of clouds at night illuminated by sources such as moonlight and\n",
      "lightning. Scientists use these data to study the nighttime behavior of weather systems, including severe storms, which\n",
      "can develop and strike populous areas at night as well as during the day. Combined with thermal data, visible nightlight\n",
      "data allow the detection of clouds at various heights in the atmosphere, such as dense marine fog. This capability\n",
      "enables weather forecasters to issue marine advisories with higher confidence, leading to greater utility. (See \\\"Marine\n",
      "Layer Clouds—California\\\" on page 56.)\\n\\nIn this section of the book, you will see how nightlight data are used to\n",
      "observe nature’s spectacular light shows across a wide range of sources.\\n\\n---\\n\\n#### Notable Data from Mount Etna\n",
      "Flank Eruption (December 2018)\\n\\n| Event/Observation                  | Details\n",
      "|\\n|-------------------------------------|----------------------------------------------------------------------------\n",
      "|\\n| Date of Flank Eruption              | December 24, 2018\n",
      "|\\n| Number of Earthquakes               | 130 earthquakes within 3 hours\n",
      "|\\n| Image Acquisition                   | December 28, 2018 by Landsat 8 OLI\n",
      "|\\n| Location of Eruption                | Southeastern side of Mount Etna\n",
      "|\\n| Thermal Imaging Data                | From OLI and TIRS (Landsat 8), highlighting active vent and lava flows\n",
      "|\\n| Impact on Villages/Air Transport    | Ash covered villages; delayed aircraft at Catania airport\n",
      "|\\n| Displacement                        | Hundreds of residents displaced\n",
      "|\\n| Ongoing Seismic Activity            | Earthquakes continued after initial eruption\n",
      "|\\n\\n---\\n\\n<!-- PageFooter=\\\"Earth at Night\\\" -->\\n<!-- PageNumber=\\\"30\\\" -->\"},{\"ref_id\":0,\"content\":\"## Nature's\n",
      "Light Shows\\n\\nAt night, with the light of the Sun removed, nature's brilliant glow from Earth's surface becomes visible\n",
      "to the naked eye from space. Some of Earth's most spectacular light shows are natural, like the aurora borealis, or\n",
      "Northern Lights, in the Northern Hemisphere (aurora australis, or Southern Lights, in the Southern Hemisphere). The\n",
      "auroras are natural electrical phenomena caused by charged particles that race from the Sun toward Earth, inducing\n",
      "chemical reactions in the upper atmosphere and creating the appearance of streamers of reddish or greenish light in the\n",
      "sky, usually near the northern or southern magnetic pole. Other natural lights can indicate danger, like a raging forest\n",
      "fire encroaching on a city, town, or community, or lava spewing from an erupting volcano.\\n\\nWhatever the source, the\n",
      "ability of humans to monitor nature's light shows at night has practical applications for society. For example, tracking\n",
      "fires during nighttime hours allows for continuous monitoring and enhances our ability to protect humans and other\n",
      "animals, plants, and infrastructure. Combined with other data sources, our ability to observe the light of fires at\n",
      "night allows emergency managers to more efficiently and accurately issue warnings and evacuation orders and allows\n",
      "firefighting efforts to continue through the night. With enough moonlight (e.g., full-Moon phase), it's even possible to\n",
      "track the movement of smoke plumes at night, which can impact air quality, regardless of time of day.\\n\\nAnother natural\n",
      "source of light at night is emitted from glowing lava flows at the site of active volcanoes. Again, with enough\n",
      "moonlight, these dramatic scenes can be tracked and monitored for both scientific research and public safety.\\n\\n\\n###\n",
      "Figure: The Northern Lights Viewed from Space\\n\\n**September 17, 2011**\\n\\nThis photo, taken from the International\n",
      "Space Station on September 17, 2011, shows a spectacular display of the aurora borealis (Northern Lights) as green and\n",
      "reddish light in the night sky above Earth. In the foreground, part of a Soyuz spacecraft is visible, silhouetted\n",
      "against the bright auroral light. The green glow is generated by energetic charged particles from the Sun interacting\n",
      "with Earth's upper atmosphere, exciting oxygen and nitrogen atoms, and producing characteristic colors. The image\n",
      "demonstrates the vividness and grandeur of natural night-time light phenomena as seen from orbit.\"}]\n"
     ]
    }
   ],
   "source": [
    "print(\"Response\")\n",
    "print(textwrap.fill(retrieval_result[\"response\"][0][\"content\"][0][\"text\"], width=120))"
   ]
  },
  {
   "cell_type": "code",
   "execution_count": 13,
   "id": "6f74c2c3",
   "metadata": {},
   "outputs": [
    {
     "name": "stdout",
     "output_type": "stream",
     "text": [
      "Activity\n",
      "[\n",
      "  {\n",
      "    \"type\": \"ModelQueryPlanning\",\n",
      "    \"id\": 0,\n",
      "    \"inputTokens\": 2283,\n",
      "    \"outputTokens\": 108\n",
      "  },\n",
      "  {\n",
      "    \"type\": \"AzureSearchQuery\",\n",
      "    \"id\": 1,\n",
      "    \"targetIndex\": \"earth_at_night\",\n",
      "    \"query\": {\n",
      "      \"search\": \"detecting lava at night\",\n",
      "      \"filter\": null\n",
      "    },\n",
      "    \"queryTime\": \"2025-04-30T16:03:46.940Z\",\n",
      "    \"count\": 2,\n",
      "    \"elapsedMs\": 370\n",
      "  }\n",
      "]\n",
      "Results\n",
      "[\n",
      "  {\n",
      "    \"type\": \"AzureSearchDoc\",\n",
      "    \"id\": \"0\",\n",
      "    \"activitySource\": 1,\n",
      "    \"docKey\": \"earth_at_night_508_page_44_verbalized\",\n",
      "    \"sourceData\": null\n",
      "  },\n",
      "  {\n",
      "    \"type\": \"AzureSearchDoc\",\n",
      "    \"id\": \"1\",\n",
      "    \"activitySource\": 1,\n",
      "    \"docKey\": \"earth_at_night_508_page_46_verbalized\",\n",
      "    \"sourceData\": null\n",
      "  }\n",
      "]\n"
     ]
    }
   ],
   "source": [
    "print(\"Activity\")\n",
    "print(json.dumps(retrieval_result[\"activity\"], indent=2))\n",
    "print(\"Results\")\n",
    "print(json.dumps(retrieval_result[\"references\"], indent=2))"
   ]
  },
  {
   "cell_type": "markdown",
   "id": "cd7d32cc",
   "metadata": {},
   "source": [
    "### 6.2. Generate answer"
   ]
  },
  {
   "cell_type": "code",
   "execution_count": 14,
   "id": "a6486c8a",
   "metadata": {},
   "outputs": [
    {
     "name": "stdout",
     "output_type": "stream",
     "text": [
      "To find lava at night, you should look for glowing lava flows from active volcanoes. These can often\n",
      "be seen due to the intense heat and light they emit. Using satellite imagery can help track these\n",
      "flows. Instruments like the VIIRS Day/Night Band on polar-orbiting satellites can detect faint light\n",
      "sources and thermal infrared signatures of lava flows, even during nighttime. Additionally, the glow\n",
      "from lava is often visible to the naked eye, but for safety, it's best monitored from a distance or\n",
      "via technology. [ref_id: 0, 1]\n"
     ]
    }
   ],
   "source": [
    "response = client.responses.create(\n",
    "    model=answer_model,\n",
    "    input=messages\n",
    ")\n",
    "\n",
    "wrapped = textwrap.fill(response.output_text, width=100)\n",
    "print(wrapped)"
   ]
  }
 ],
 "metadata": {
  "kernelspec": {
   "display_name": ".venv",
   "language": "python",
   "name": "python3"
  },
  "language_info": {
   "codemirror_mode": {
    "name": "ipython",
    "version": 3
   },
   "file_extension": ".py",
   "mimetype": "text/x-python",
   "name": "python",
   "nbconvert_exporter": "python",
   "pygments_lexer": "ipython3",
   "version": "3.12.10"
  }
 },
 "nbformat": 4,
 "nbformat_minor": 5
}
