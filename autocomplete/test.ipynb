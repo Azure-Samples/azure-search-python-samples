{
 "cells": [
  {
   "cell_type": "code",
   "execution_count": 4,
   "metadata": {},
   "outputs": [
    {
     "name": "stderr",
     "output_type": "stream",
     "text": [
      "/Users/enghui.lau/Documents/Work/FSMOne_Search_Engine/ai-search-engine/venv/lib/python3.11/site-packages/urllib3/connectionpool.py:1103: InsecureRequestWarning: Unverified HTTPS request is being made to host 'aisrch-poc-uscentral-01.search.windows.net'. Adding certificate verification is strongly advised. See: https://urllib3.readthedocs.io/en/latest/advanced-usage.html#tls-warnings\n",
      "  warnings.warn(\n"
     ]
    },
    {
     "name": "stdout",
     "output_type": "stream",
     "text": [
      "[{'text': 'nvda', 'queryPlusText': 'nvda'}, {'text': 'nvd', 'queryPlusText': 'nvd'}, {'text': 'nvdl', 'queryPlusText': 'nvdl'}, {'text': 'nvdq', 'queryPlusText': 'nvdq'}, {'text': 'nvds', 'queryPlusText': 'nvds'}]\n"
     ]
    },
    {
     "name": "stderr",
     "output_type": "stream",
     "text": [
      "/Users/enghui.lau/Documents/Work/FSMOne_Search_Engine/ai-search-engine/venv/lib/python3.11/site-packages/urllib3/connectionpool.py:1103: InsecureRequestWarning: Unverified HTTPS request is being made to host 'aisrch-poc-uscentral-01.search.windows.net'. Adding certificate verification is strongly advised. See: https://urllib3.readthedocs.io/en/latest/advanced-usage.html#tls-warnings\n",
      "  warnings.warn(\n"
     ]
    },
    {
     "name": "stdout",
     "output_type": "stream",
     "text": [
      "[{'text': 'msft', 'queryPlusText': 'msft'}, {'text': 'msf2', 'queryPlusText': 'msf2'}, {'text': 'msfd', 'queryPlusText': 'msfd'}, {'text': 'msfo', 'queryPlusText': 'msfo'}, {'text': 'msfu', 'queryPlusText': 'msfu'}]\n"
     ]
    },
    {
     "name": "stderr",
     "output_type": "stream",
     "text": [
      "/Users/enghui.lau/Documents/Work/FSMOne_Search_Engine/ai-search-engine/venv/lib/python3.11/site-packages/urllib3/connectionpool.py:1103: InsecureRequestWarning: Unverified HTTPS request is being made to host 'aisrch-poc-uscentral-01.search.windows.net'. Adding certificate verification is strongly advised. See: https://urllib3.readthedocs.io/en/latest/advanced-usage.html#tls-warnings\n",
      "  warnings.warn(\n"
     ]
    },
    {
     "name": "stdout",
     "output_type": "stream",
     "text": [
      "[{'text': 'msft', 'queryPlusText': 'msft'}, {'text': 'msf2', 'queryPlusText': 'msf2'}, {'text': 'msfd', 'queryPlusText': 'msfd'}, {'text': 'msfo', 'queryPlusText': 'msfo'}, {'text': 'msfu', 'queryPlusText': 'msfu'}]\n"
     ]
    },
    {
     "name": "stderr",
     "output_type": "stream",
     "text": [
      "/Users/enghui.lau/Documents/Work/FSMOne_Search_Engine/ai-search-engine/venv/lib/python3.11/site-packages/urllib3/connectionpool.py:1103: InsecureRequestWarning: Unverified HTTPS request is being made to host 'aisrch-poc-uscentral-01.search.windows.net'. Adding certificate verification is strongly advised. See: https://urllib3.readthedocs.io/en/latest/advanced-usage.html#tls-warnings\n",
      "  warnings.warn(\n"
     ]
    },
    {
     "name": "stdout",
     "output_type": "stream",
     "text": [
      "[{'text': 'nvda', 'queryPlusText': 'nvda'}, {'text': 'nvd', 'queryPlusText': 'nvd'}, {'text': 'nvdl', 'queryPlusText': 'nvdl'}, {'text': 'nvdq', 'queryPlusText': 'nvdq'}, {'text': 'nvds', 'queryPlusText': 'nvds'}]\n"
     ]
    },
    {
     "name": "stderr",
     "output_type": "stream",
     "text": [
      "/Users/enghui.lau/Documents/Work/FSMOne_Search_Engine/ai-search-engine/venv/lib/python3.11/site-packages/urllib3/connectionpool.py:1103: InsecureRequestWarning: Unverified HTTPS request is being made to host 'aisrch-poc-uscentral-01.search.windows.net'. Adding certificate verification is strongly advised. See: https://urllib3.readthedocs.io/en/latest/advanced-usage.html#tls-warnings\n",
      "  warnings.warn(\n"
     ]
    },
    {
     "name": "stdout",
     "output_type": "stream",
     "text": [
      "[{'text': 'fund', 'queryPlusText': 'fideltiy fund'}, {'text': 'funds', 'queryPlusText': 'fideltiy funds'}, {'text': 'fundamental', 'queryPlusText': 'fideltiy fundamental'}, {'text': 'fundlogic', 'queryPlusText': 'fideltiy fundlogic'}, {'text': 'funding', 'queryPlusText': 'fideltiy funding'}]\n"
     ]
    },
    {
     "name": "stderr",
     "output_type": "stream",
     "text": [
      "/Users/enghui.lau/Documents/Work/FSMOne_Search_Engine/ai-search-engine/venv/lib/python3.11/site-packages/urllib3/connectionpool.py:1103: InsecureRequestWarning: Unverified HTTPS request is being made to host 'aisrch-poc-uscentral-01.search.windows.net'. Adding certificate verification is strongly advised. See: https://urllib3.readthedocs.io/en/latest/advanced-usage.html#tls-warnings\n",
      "  warnings.warn(\n"
     ]
    },
    {
     "name": "stdout",
     "output_type": "stream",
     "text": [
      "[]\n"
     ]
    },
    {
     "name": "stderr",
     "output_type": "stream",
     "text": [
      "/Users/enghui.lau/Documents/Work/FSMOne_Search_Engine/ai-search-engine/venv/lib/python3.11/site-packages/urllib3/connectionpool.py:1103: InsecureRequestWarning: Unverified HTTPS request is being made to host 'aisrch-poc-uscentral-01.search.windows.net'. Adding certificate verification is strongly advised. See: https://urllib3.readthedocs.io/en/latest/advanced-usage.html#tls-warnings\n",
      "  warnings.warn(\n"
     ]
    },
    {
     "name": "stdout",
     "output_type": "stream",
     "text": [
      "[]\n"
     ]
    },
    {
     "name": "stderr",
     "output_type": "stream",
     "text": [
      "/Users/enghui.lau/Documents/Work/FSMOne_Search_Engine/ai-search-engine/venv/lib/python3.11/site-packages/urllib3/connectionpool.py:1103: InsecureRequestWarning: Unverified HTTPS request is being made to host 'aisrch-poc-uscentral-01.search.windows.net'. Adding certificate verification is strongly advised. See: https://urllib3.readthedocs.io/en/latest/advanced-usage.html#tls-warnings\n",
      "  warnings.warn(\n"
     ]
    },
    {
     "name": "stdout",
     "output_type": "stream",
     "text": [
      "[{'text': 'suncar', 'queryPlusText': 'suncar'}, {'text': 'suncoke', 'queryPlusText': 'suncoke'}, {'text': 'suncon', 'queryPlusText': 'suncon'}, {'text': 'suncor', 'queryPlusText': 'suncor'}, {'text': 'suncorp', 'queryPlusText': 'suncorp'}]\n"
     ]
    },
    {
     "name": "stderr",
     "output_type": "stream",
     "text": [
      "/Users/enghui.lau/Documents/Work/FSMOne_Search_Engine/ai-search-engine/venv/lib/python3.11/site-packages/urllib3/connectionpool.py:1103: InsecureRequestWarning: Unverified HTTPS request is being made to host 'aisrch-poc-uscentral-01.search.windows.net'. Adding certificate verification is strongly advised. See: https://urllib3.readthedocs.io/en/latest/advanced-usage.html#tls-warnings\n",
      "  warnings.warn(\n"
     ]
    },
    {
     "name": "stdout",
     "output_type": "stream",
     "text": [
      "[{'text': 'suncoke', 'queryPlusText': 'suncoke'}, {'text': 'suncon', 'queryPlusText': 'suncon'}, {'text': 'suncor', 'queryPlusText': 'suncor'}, {'text': 'suncorp', 'queryPlusText': 'suncorp'}]\n"
     ]
    }
   ],
   "source": [
    "import requests\n",
    "\n",
    "def testing_autocomplete(query):\n",
    "    api_key = 'XE8nyqGGhtVXqmSlsrJPW0yEMiHocP7dWwktdCSclpAzSeATbtHu'\n",
    "    service_name = 'aisrch-poc-uscentral-01'\n",
    "    index_name = 'aisrch-poc-uscentral-01-index'\n",
    "    api_version = '2023-11-01'\n",
    "\n",
    "    # Base URL\n",
    "    base_url = f\"https://{service_name}.search.windows.net/indexes/{index_name}/docs/autocomplete\"\n",
    "\n",
    "    # Query parameters\n",
    "    params = {\n",
    "        'search': query,\n",
    "        '$top': 5,\n",
    "        'suggesterName': 'fsmone-sg-suggester',\n",
    "        'api-version': api_version\n",
    "    }\n",
    "\n",
    "    # Set the headers\n",
    "    headers = {\n",
    "        'Content-Type': 'application/json',\n",
    "        'api-key': api_key\n",
    "    }\n",
    "\n",
    "    # Make the GET request\n",
    "    response = requests.get(base_url, headers=headers, params=params, verify=False)\n",
    "\n",
    "    # Check if the request was successful\n",
    "    if response.status_code == 200:\n",
    "        # Parse the JSON response\n",
    "        results = response.json()\n",
    "        print(results[\"value\"])\n",
    "        # print([value[\"queryPlusText\"] for value in results[\"value\"]])\n",
    "    else:\n",
    "        print(f\"Request failed with status code {response.status_code}\")\n",
    "        print(response.text)\n",
    "while True:\n",
    "    query = input(\"Enter your search query: \")\n",
    "    if query == \"q\":\n",
    "        break\n",
    "    testing_autocomplete(query)"
   ]
  },
  {
   "cell_type": "code",
   "execution_count": 8,
   "metadata": {},
   "outputs": [
    {
     "data": {
      "text/plain": [
       "24260"
      ]
     },
     "execution_count": 8,
     "metadata": {},
     "output_type": "execute_result"
    }
   ],
   "source": [
    "import json\n",
    "\n",
    "with open(\"./data/dict_prodName.json\", \"r\") as f:\n",
    "    a = json.load(f)\n",
    "len(a)"
   ]
  }
 ],
 "metadata": {
  "kernelspec": {
   "display_name": "venv",
   "language": "python",
   "name": "python3"
  },
  "language_info": {
   "codemirror_mode": {
    "name": "ipython",
    "version": 3
   },
   "file_extension": ".py",
   "mimetype": "text/x-python",
   "name": "python",
   "nbconvert_exporter": "python",
   "pygments_lexer": "ipython3",
   "version": "3.11.9"
  }
 },
 "nbformat": 4,
 "nbformat_minor": 2
}
