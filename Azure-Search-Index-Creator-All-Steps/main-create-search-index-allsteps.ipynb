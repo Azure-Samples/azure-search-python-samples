{
 "cells": [
  {
   "cell_type": "markdown",
   "id": "affected-terminal",
   "metadata": {},
   "source": [
    "# Azure Search Index Generator\n",
    "\n",
    "**Executive summary**\n",
    "\n",
    "This notebook provides simple instructions on creating and using your first search application that will work for your data.\n",
    "\n",
    "Its essential purpose is to give a user-friendly point to start getting your first search engine working!\n",
    "\n",
    "The only prerequisite is an MS Azure Subscription account. \n",
    "\n",
    "The notebook begins by explaining the prerequisites to start setting up the index. Next, it walks you through creating a search index on an Azure Search Instance. Then, it will provide four ways of accessing the results from the search index. Finally, it will show a powerful enhancement of your index, allowing it to return answers to questions formulated in natural language.\n",
    "\n",
    "**Detailed contents:**\n",
    "\n",
    "**1. Required assets** \n",
    "- Creating a storage account and a blob storage\n",
    "    - Storage account connection string\n",
    "- Uploading JSONs to the blob storage\n",
    "- Creating an Azure Search Instance\n",
    "    - Azure Search Key\n",
    "\n",
    "**2. Setting up the index**\n",
    "- Connecting to a data source  \n",
    "- Creating an empty index\n",
    "    - Index schema\n",
    "    - Creating an index\n",
    "- Indexing the documents\n",
    "\n",
    "**3. Ways to search the index**\n",
    "- Web interface \n",
    "- Generate your separate app! \n",
    "- Search client\n",
    "- RESP API \n",
    "\n",
    "**4. Semantic enhancement** \n",
    "- Enable semantic search\n",
    "- How to create semantic configurations\n",
    "- How does semantic enhancement effect the search?"
   ]
  },
  {
   "cell_type": "markdown",
   "id": "guilty-angel",
   "metadata": {},
   "source": [
    "# 1. Required assets\n"
   ]
  },
  {
   "cell_type": "markdown",
   "id": "animated-labor",
   "metadata": {},
   "source": [
    "## Creating a storage account and a blob storage\n",
    "\n",
    "*Azure Storage* is a service that allows to create various types of data storage. \n",
    "https://azure.microsoft.com/en-us/products/category/storage/\n",
    "\n",
    "Here you may find detailed instructions on how to create it:\n",
    "https://docs.microsoft.com/en-us/azure/storage/common/storage-account-create?tabs=azure-portal\n",
    "\n",
    "**Where to find the storage connection string?**\n",
    "\n",
    "On the left pane, below the Azure Storage account name, pick 'Access keys' and then copy one of the connection strings:\n",
    "\n",
    "![Index9](./jpg/index9.jpeg)\n",
    "\n",
    "To run this notebook, you also need to create *a blob container* from which your documents will be indexed.\n",
    "\n",
    "This type of storage allows to keep significant amounts of unstructured data:\n",
    "https://docs.microsoft.com/en-us/azure/storage/blobs/storage-blobs-introduction\n",
    "\n",
    "To do it manually, navigate to the description of \"Containers\" and click the button on the upper-right pane:\n",
    "\n",
    "\n",
    "![Index7](./jpg/index7.jpeg)\n",
    "\n",
    "## Uploading JSONs to the blob storage\n",
    "\n",
    "The easiest way to add your documents to a blob storage is manual. Inside the discription of your container, click \"upload\":\n",
    "\n",
    "![Index8](./jpg/index8.jpeg)\n",
    "\n",
    "\n",
    "## Creating an Azure Search Instance\n",
    "\n",
    "*Azure Search* is a service instance that allows to create and maintain one or multiple search indexes.  \n",
    "\n",
    "Here you may find detailed instructions on how to create it:\n",
    "https://docs.microsoft.com/en-us/azure/search/search-what-is-azure-search#how-to-get-started\n",
    "\n",
    "To perform the following operations on index creation, you need to save:\n",
    "- the name of your Azure search service (for example, \"*my-azure-search-index*\")\n",
    "- admin key \n",
    "\n",
    "**Where to find the admin key?**\n",
    "\n",
    "On the left pane below the Azure Search Instance name, pick 'Keys'.\n",
    "\n",
    "Then copy one of the admin keys: \n",
    "\n",
    "![Index6](./jpg/index6.jpeg)\n",
    "\n",
    "Remark: Besides the admin keys, it is possible to generate 'Query' keys that would give only limited permissions to query the data in the index. "
   ]
  },
  {
   "cell_type": "markdown",
   "id": "prepared-groove",
   "metadata": {},
   "source": [
    "# 2. Setting up the index \n",
    "### 2.1 Put the connection details together \n",
    "\n",
    "Below you need to enter the connection parameters you got in the previous section.\n",
    "\n",
    "From the Azure Search instance:\n",
    "- the name of the service\n",
    "- administration key \n",
    "\n",
    "From the storage account:\n",
    "- connection string\n",
    "- the name of the blob container, where you have your JSONs"
   ]
  },
  {
   "cell_type": "code",
   "execution_count": 1,
   "id": "bottom-generic",
   "metadata": {},
   "outputs": [],
   "source": [
    "azure_search_service = \"my-first-search\"\n",
    "admin_key = \"\"\n",
    "\n",
    "#blob storage data \n",
    "blob_connection_string = \"\"\n",
    "container = \"my-first-blob-storage\""
   ]
  },
  {
   "cell_type": "markdown",
   "id": "minimal-islam",
   "metadata": {},
   "source": [
    "*Remark*: The best practice here is to use a .env file to store all keys as environment variables. It will prevent the accidental push of secrets. For more info: https://pypi.org/project/python-dotenv/#getting-started. This notebook explicitly provides keys for the sake of simplicity for the user to get started. "
   ]
  },
  {
   "cell_type": "markdown",
   "id": "developed-strategy",
   "metadata": {},
   "source": [
    "### 2.2 Name your Azure Search components\n",
    "\n",
    "Make up the names for the *data source* (essentially, the link to the blob storage you have just created) and the *Azure Search Indexer* (the indexer instance for your search engine). \n",
    "\n",
    "The name of your *Azure Search Index*  (the schema for your search engine) is determined based on the index schema by default, but you can also modify it further. \n",
    "\n",
    "Important: Azure Search components' names must only contain lowercase letters, digits, or dashes, cannot start or end with dashes, and are limited to 128 characters."
   ]
  },
  {
   "cell_type": "code",
   "execution_count": 2,
   "id": "original-yesterday",
   "metadata": {},
   "outputs": [],
   "source": [
    "AS_data_source = \"my-first-datasource\"\n",
    "AS_azure_search_indexer = \"my-first-indexer\""
   ]
  },
  {
   "cell_type": "markdown",
   "id": "photographic-blackberry",
   "metadata": {},
   "source": [
    "### Import dependencies\n"
   ]
  },
  {
   "cell_type": "code",
   "execution_count": 4,
   "id": "racial-kidney",
   "metadata": {},
   "outputs": [],
   "source": [
    "import json\n",
    "import os\n",
    "from requests import post, put \n",
    "import pandas as pd\n",
    "\n",
    "from azure.core.credentials import AzureKeyCredential\n",
    "from azure.search.documents.indexes import SearchIndexClient \n",
    "from azure.search.documents import SearchClient\n",
    "from azure.search.documents.indexes.models import (\n",
    "    ComplexField,\n",
    "    CorsOptions,\n",
    "    SearchIndex,\n",
    "    ScoringProfile,\n",
    "    SearchFieldDataType,\n",
    "    SimpleField,\n",
    "    SearchableField\n",
    ")\n",
    "\n",
    "def resp_explicit_codes(resp):\n",
    "    if resp.status_code == 403:\n",
    "        print(\"Authorisation Failed: Check that your API KEY value is correct\")\n",
    "\n",
    "    if resp.status_code == 400:\n",
    "        print(resp.text)   \n",
    "\n",
    "def request_to_azure_search(json_file, feature, azure_search_service, name=\"\", api_version='2021-04-30-Preview'):\n",
    "    \"\"\"\n",
    "        This function creates a rest call to Azure search indexer with multiple endpoints\n",
    "        * index - to create a new Index based on configuration\n",
    "        * indexers - create a new Indexer based on configuration\n",
    "        * datasources - create a new DataSource based on configuration\n",
    "\n",
    "\n",
    "        json_file (_type_): configuation to pass with the call\n",
    "        feature (_type_): type of endpoint to execute\n",
    "        name (str, optional): Name of the operation to pass. Defaults to \"\".\n",
    "        api_version (str, optional): API version to use in calls. Defaults to '2021-04-30-Preview'.\n",
    "    \"\"\"\n",
    "    if feature not in ['indexes', 'datasources', 'indexers']:\n",
    "        print('Error: this feature is not supported.')\n",
    "        return \n",
    "    \n",
    "    headers = {\n",
    "    \"api-key\": admin_key,     \n",
    "    \"Content-Type\": \"application/json\",\n",
    "\n",
    "    }\n",
    "    endpoint = f\"https://{azure_search_service}.search.windows.net/\".format(azure_search_service)\n",
    "        \n",
    "    if (name==\"\"):\n",
    "        try: \n",
    "            name_feature = json_file['name']\n",
    "            url = endpoint +\"/\" + feature + f\"?api-version={api_version}\"\n",
    "        except Exception as e:\n",
    "            print('The name of the feature is not specified')\n",
    "            return\n",
    "    else:\n",
    "        name_feature = name\n",
    "        url = endpoint +\"/\" + feature + \"/\" + f\"{name}\" + f\"?api-version={api_version}\"\n",
    "        \n",
    "    try:\n",
    "        resp = post(url=url, json=json_file, headers=headers)\n",
    "        \n",
    "        resp_explicit_codes(resp)   \n",
    "\n",
    "        if resp.status_code == 201:\n",
    "            print(\"Success creating the component: \" + name_feature + \".\")\n",
    "\n",
    "    except Exception as e:\n",
    "        print('Exception for the feature' +  name_feature, e, resp.text)"
   ]
  },
  {
   "cell_type": "markdown",
   "id": "honest-cookbook",
   "metadata": {},
   "source": [
    "*API-version* is the version of Search REST APIs. \n",
    "\n",
    "API-versions may differ in terms of the allowed options and REST interface. \n",
    "This notebook employs the '*2021-04-30-Preview*' version because, during our investigation preceding the release of this tool, it was established that it is the most reliable performance, especially regarding the semantic search. In particular, it is the only version allowing the semantic search option in the web interface.\n",
    "\n",
    "Read about other available options:\n",
    "https://docs.microsoft.com/en-us/rest/api/searchservice/search-service-api-versions\n",
    "\n",
    "### 2.3 Creating the Azure Search Index components \n",
    "\n",
    "Now you are ready to create all necessary parts of your first search engine!"
   ]
  },
  {
   "cell_type": "markdown",
   "id": "hawaiian-drain",
   "metadata": {},
   "source": [
    "### 2.3.1 Connecting a data source"
   ]
  },
  {
   "cell_type": "code",
   "execution_count": 21,
   "id": "spoken-lewis",
   "metadata": {},
   "outputs": [
    {
     "name": "stdout",
     "output_type": "stream",
     "text": [
      "Success creating the component: my-first-datasource.\n"
     ]
    }
   ],
   "source": [
    "datasource_initialization_details = {\n",
    "    \"name\" : AS_data_source,\n",
    "    \"type\" : \"azureblob\",\n",
    "    \"credentials\" : {\"connectionString\": blob_connection_string},\n",
    "    \"container\" : { \"name\" :  container}\n",
    "}\n",
    "\n",
    "try:\n",
    "    request_to_azure_search(datasource_initialization_details, feature=\"datasources\", azure_search_service = azure_search_service)\n",
    "except Exception as e:\n",
    "    print(e)"
   ]
  },
  {
   "cell_type": "markdown",
   "id": "retained-present",
   "metadata": {},
   "source": [
    "### 2.3.2. Create an empty index \n",
    "\n",
    "#### Index schema\n",
    "\n",
    "First, you must create an empty index with a structure corresponding to your data. \n",
    "\n",
    "The Azure Search instance's visual interface allows to specify the structure manually. \n",
    "\n",
    "![Index1](./jpg/index1.jpeg)\n",
    "\n",
    "This approach requires specifying each field separately:   \n",
    "\n",
    "![Index2](./jpg/index2.jpeg)\n",
    "\n",
    "#### Index schema as a file  \n",
    "\n",
    "Manual approach might be tedious in many cases. A more convenient method to specify a JSON index schema file. \n",
    "\n",
    "Importantly, this file must have a particular structure: "
   ]
  },
  {
   "cell_type": "code",
   "execution_count": null,
   "id": "rural-being",
   "metadata": {},
   "outputs": [],
   "source": [
    "{  \n",
    "  \"name\": (optional on PUT; required on POST) \"Name of the index\",  \n",
    "  \"fields\": [  \n",
    "    {  \n",
    "      \"name\": \"name_of_field\",  \n",
    "      \"type\": \"Edm.String | Edm.Int32 | Edm.Int64 | Edm.Double | Edm.Boolean | Edm.DateTimeOffset | Edm.GeographyPoint | Edm.ComplexType | Collection(Edm.String) | Collection(Edm.Int32) | Collection(Edm.Int64) | Collection(Edm.Double) | Collection(Edm.Boolean) | Collection(Edm.DateTimeOffset) | Collection(Edm.GeographyPoint) | Collection(Edm.ComplexType)\",  \n",
    "      \"searchable\": true (default where applicable) | false (only Edm.String and Collection(Edm.String) fields can be searchable),  \n",
    "      \"filterable\": true (default) | false,  \n",
    "      \"sortable\": true (default where applicable) | false (Collection(Edm.String) fields cannot be sortable),  \n",
    "      \"facetable\": true (default where applicable) | false (Edm.GeographyPoint fields cannot be facetable),  \n",
    "      \"key\": true | false (default, only Edm.String fields can be keys, enable on one field only),  \n",
    "      \"retrievable\": true (default) | false,  \n",
    "      \"analyzer\": \"name_of_analyzer_for_search_and_indexing\", (only if 'searchAnalyzer' and 'indexAnalyzer' are not set)\n",
    "      \"searchAnalyzer\": \"name_of_search_analyzer\", (only if 'indexAnalyzer' is set and 'analyzer' is not set)\n",
    "      \"indexAnalyzer\": \"name_of_indexing_analyzer\", (only if 'searchAnalyzer' is set and 'analyzer' is not set)\n",
    "      \"synonymMaps\": [ \"name_of_synonym_map\" ] (optional, only one synonym map per field is currently supported),\n",
    "      \"fields\" : [ ... ] (optional, a list of sub-fields if this is a field of type Edm.ComplexType or Collection(Edm.ComplexType). Must be null or empty for simple fields.)\n",
    "    }\n",
    "  \"similarity\": (optional) { },\n",
    "  \"suggesters\": (optional) [ ... ],  \n",
    "  \"scoringProfiles\": (optional) [ ... ],  \n",
    "  \"analyzers\":(optional) [ ... ],\n",
    "  \"charFilters\":(optional) [ ... ],\n",
    "  \"tokenizers\":(optional) [ ... ],\n",
    "  \"tokenFilters\":(optional) [ ... ],\n",
    "  \"defaultScoringProfile\": (optional) \"Name of a custom scoring profile to use as the default\",  \n",
    "  \"corsOptions\": (optional) { },\n",
    "  \"encryptionKey\":(optional) { }  \n",
    "}"
   ]
  },
  {
   "cell_type": "markdown",
   "id": "detailed-field",
   "metadata": {},
   "source": [
    "For more details: https://docs.microsoft.com/en-us/rest/api/searchservice/create-index\n",
    "\n",
    "A simple sample schema file is located in *assets* directory: [*template_index_schema.json*](./assets/template_index_schema.json)\n",
    "\n",
    "The schema corresponding to the sample JSONs is in the same directory: [*sample_index_schema.json*](./assets/sample_index_schema.json)\n",
    "\n",
    "**In case your JSONs do not have a nested structure, you can also use [our accompanying notebook that containes an index schema file generator](./CreateIndexSchema.ipynb)**\n",
    "\n",
    "### 2.3.3 Create the index\n",
    "\n",
    "Here you reference your index schema file. We assume that it is in the same directory as this notebook. "
   ]
  },
  {
   "cell_type": "code",
   "execution_count": 22,
   "id": "stuck-tamil",
   "metadata": {},
   "outputs": [],
   "source": [
    "index_schema_file = './assets/sample_index_schema.json'\n",
    "\n",
    "with open(index_schema_file) as f:\n",
    "    index_schema = json.loads(f.read())"
   ]
  },
  {
   "cell_type": "markdown",
   "id": "funny-complaint",
   "metadata": {},
   "source": [
    "Based on the file the name of your index: "
   ]
  },
  {
   "cell_type": "code",
   "execution_count": 23,
   "id": "polished-porter",
   "metadata": {},
   "outputs": [
    {
     "data": {
      "text/plain": [
       "'my-first-index'"
      ]
     },
     "execution_count": 23,
     "metadata": {},
     "output_type": "execute_result"
    }
   ],
   "source": [
    "index_schema['name']"
   ]
  },
  {
   "cell_type": "markdown",
   "id": "beneficial-breath",
   "metadata": {},
   "source": [
    "In you want to change it, you can do it here: "
   ]
  },
  {
   "cell_type": "code",
   "execution_count": 24,
   "id": "related-meeting",
   "metadata": {},
   "outputs": [],
   "source": [
    "index_schema['name'] = 'my-first-index'"
   ]
  },
  {
   "cell_type": "markdown",
   "id": "veterinary-copyright",
   "metadata": {},
   "source": [
    "Let's create the index: "
   ]
  },
  {
   "cell_type": "code",
   "execution_count": 26,
   "id": "particular-favor",
   "metadata": {},
   "outputs": [
    {
     "name": "stdout",
     "output_type": "stream",
     "text": [
      "Success creating the component: my-first-index.\n"
     ]
    }
   ],
   "source": [
    "try:\n",
    "    request_to_azure_search(index_schema, feature=\"indexes\", azure_search_service = azure_search_service)\n",
    "except Exception as e:\n",
    "    print(e)"
   ]
  },
  {
   "cell_type": "markdown",
   "id": "written-revision",
   "metadata": {},
   "source": [
    "For the sample JSONs, you index schema must now look the following way:\n",
    "\n",
    "![Index3](./jpg/index3.jpeg)"
   ]
  },
  {
   "cell_type": "markdown",
   "id": "opposite-ghost",
   "metadata": {},
   "source": [
    "### 2.3.3 Index the documents\n",
    "\n",
    "Now there is only one step left: to add your documents to the indexer: "
   ]
  },
  {
   "cell_type": "code",
   "execution_count": 28,
   "id": "covered-modeling",
   "metadata": {},
   "outputs": [
    {
     "name": "stdout",
     "output_type": "stream",
     "text": [
      "Success creating the component: my-first-indexer.\n"
     ]
    }
   ],
   "source": [
    "indexer_initialization_details = {\n",
    "    \"name\": AS_azure_search_indexer,\n",
    "    \"dataSourceName\":  AS_data_source,\n",
    "    \"targetIndexName\": index_schema['name'],\n",
    "    \"parameters\": {\n",
    "    \"batchSize\": None,\n",
    "    \"maxFailedItems\": None,\n",
    "    \"maxFailedItemsPerBatch\": None,\n",
    "    \"base64EncodeKeys\": None,\n",
    "    \"configuration\": {\n",
    "      \"parsingMode\": \"json\"\n",
    "    }\n",
    "    }\n",
    "}\n",
    "\n",
    "try:\n",
    "    request_to_azure_search(indexer_initialization_details, feature=\"indexers\", azure_search_service = azure_search_service)\n",
    "except Exception as e:\n",
    "    print(e)"
   ]
  },
  {
   "cell_type": "markdown",
   "id": "geographic-contemporary",
   "metadata": {},
   "source": [
    "Congratulations! You have created your Azure Search Index. \n",
    "However, you may have to wait a couple of minutes before your documents get indexed.\n",
    "\n",
    "After that you can perform the first search over your documents.\n",
    "\n",
    "## 3. Accessing the index\n",
    "\n",
    "There are multiple ways to access the index, besides the REST API. "
   ]
  },
  {
   "cell_type": "code",
   "execution_count": 132,
   "id": "velvet-horse",
   "metadata": {},
   "outputs": [],
   "source": [
    "index_name = \"my-first-index\""
   ]
  },
  {
   "cell_type": "markdown",
   "id": "suitable-louis",
   "metadata": {},
   "source": [
    "### 3.1 Web interface\n",
    "\n",
    "The simplest one is to access the embedded search interface. For that, you need top click the name of your index under 'Indexes'. Then, you will see the search page: \n",
    "\n",
    "![Index10](./jpg/index10.jpeg)\n",
    "\n",
    "### 3.2 Generate your separate app!\n",
    "\n",
    "On the page above, you can see the button 'Create Demo App'. If you click on it, you will be proposed to download a html-page.\n",
    "\n",
    "If you open it, you will get your search app that will query your documents:\n",
    "\n",
    "![Index11](./jpg/index11.jpeg)\n",
    "\n",
    "### 3.3 Search client\n",
    "\n",
    "Finally, you can search your documents via a search client: "
   ]
  },
  {
   "cell_type": "code",
   "execution_count": 7,
   "id": "photographic-excuse",
   "metadata": {},
   "outputs": [],
   "source": [
    "endpoint = \"https://{}.search.windows.net/\".format(azure_search_service)\n",
    "\n",
    "search_client = SearchClient(endpoint = endpoint,\n",
    "                       index_name = index_name,\n",
    "                       credential = AzureKeyCredential(admin_key))"
   ]
  },
  {
   "cell_type": "markdown",
   "id": "sunrise-breach",
   "metadata": {},
   "source": [
    "Now you can access your documents using code. "
   ]
  },
  {
   "cell_type": "code",
   "execution_count": 134,
   "id": "funded-technology",
   "metadata": {},
   "outputs": [
    {
     "name": "stdout",
     "output_type": "stream",
     "text": [
      "Total Documents Matching Query: 4\n",
      "Triple Landscape Hotel: The Hotel stands out for its gastronomic excellence under the management of William Dough, who advises on and oversees all of the Hotel's restaurant services. [score: 0.7114401]\n",
      "\n",
      "Secret Point Motel: The hotel is ideally located on the main commercial artery of the city in the heart of New York. A few minutes away is Time's Square and the historic centre of the city, as well as other places of interest that make New York one of America's most attractive and cosmopolitan cities. [score: 0.51262975]\n",
      "\n",
      "Sublime Cliff Hotel: Sublime Cliff Hotel is located in the heart of the historic center of Sublime in an extremely vibrant and lively area within short walking distance to the sites and landmarks of the city and is surrounded by the extraordinary beauty of churches, buildings, shops and monuments. Sublime Cliff is part of a lovingly restored 1800 palace. [score: 0.3097111]\n",
      "\n",
      "Twin Dome Motel: The hotel is situated in a  nineteenth century plaza, which has been expanded and renovated to the highest architectural standards to create a modern, functional and first-class hotel in which art and unique historical elements coexist with the most modern comforts. [score: 0.2688682]\n",
      "\n"
     ]
    }
   ],
   "source": [
    "results =  search_client.search(search_text=\"the best restaurant\", include_total_count=True)\n",
    "\n",
    "print ('Total Documents Matching Query:', results.get_count())\n",
    "\n",
    "for r in results:\n",
    "    print(\"{}: {} [score: {}]\".format(r['HotelName'],r['Description'],r['@search.score']))\n",
    "    print()"
   ]
  },
  {
   "cell_type": "markdown",
   "id": "split-hindu",
   "metadata": {},
   "source": [
    "More examples of searches can be found here: https://docs.microsoft.com/en-us/azure/search/search-get-started-python\n",
    "\n",
    "### 3.4 REST API\n",
    "\n",
    "The most transparent way of accessing the indexed documents is throuth REST API. \n",
    "(Here you can read more about it: https://restfulapi.net/)"
   ]
  },
  {
   "cell_type": "code",
   "execution_count": 106,
   "id": "ignored-mailing",
   "metadata": {},
   "outputs": [],
   "source": [
    "def get_rest_query_url(azure_search_service, index_name, api_version=\"2021-04-30-Preview\"):\n",
    "    \"\"\"\n",
    "        This funcion returns an url in the format suitable for a REST API query request \n",
    "        azure_search_service (str): name of the Azure Search Service\n",
    "        index_name (str): name of the index \n",
    "        api_version (str, optional): API version to use in calls. Defaults to '2021-04-30-Preview'.\n",
    "    \"\"\"\n",
    "    endpoint = f\"https://{azure_search_service}.search.windows.net/\".format(azure_search_service)\n",
    "    return endpoint +\"indexes/\" + f\"{index_name}\" + \"/docs/search\" + f\"?api-version={api_version}\"\n",
    "\n",
    "def post_query(query_text, url):\n",
    "    \"\"\"\n",
    "        This Funcion creates a rest call to azure search indexer to perform a query\n",
    "        \n",
    "        query_text (str): text of the query\n",
    "        url (str): url suitable for a rest call \n",
    "        semantic_configuration (str, optional): name of the semantic configuration. Defaults to \"\".\n",
    "        \n",
    "        returns a list of dictionaries with query results\n",
    "    \"\"\"\n",
    "    headers = {\n",
    "    \"api-key\": admin_key,     \n",
    "    \"Content-Type\": \"application/json\",\n",
    "    }\n",
    "    \n",
    "    query = {\n",
    "    \"search\": query_text,\n",
    "    \"queryType\": \"simple\",\n",
    "    }\n",
    "    \n",
    "    try:\n",
    "        resp = post(url=url, json=query, headers=headers)\n",
    "\n",
    "        resp_explicit_codes(resp)   \n",
    "            \n",
    "        if resp.status_code == 200:\n",
    "            print(\"Query successful!\\n\")\n",
    "            \n",
    "\n",
    "    except Exception as e:\n",
    "        print('Exception during the query: ', e)\n",
    "        return\n",
    "        \n",
    "    return json.loads(resp.text)['value']\n",
    "\n",
    "url = get_rest_query_url(\"lensearch\",\"my-first-index\")"
   ]
  },
  {
   "cell_type": "code",
   "execution_count": 130,
   "id": "bigger-database",
   "metadata": {},
   "outputs": [
    {
     "name": "stdout",
     "output_type": "stream",
     "text": [
      "Query successful!\n",
      "\n",
      "Triple Landscape Hotel: The Hotel stands out for its gastronomic excellence under the management of William Dough, who advises on and oversees all of the Hotel's restaurant services. [score: 0.7114401]\n",
      "\n",
      "Secret Point Motel: The hotel is ideally located on the main commercial artery of the city in the heart of New York. A few minutes away is Time's Square and the historic centre of the city, as well as other places of interest that make New York one of America's most attractive and cosmopolitan cities. [score: 0.51262975]\n",
      "\n",
      "Sublime Cliff Hotel: Sublime Cliff Hotel is located in the heart of the historic center of Sublime in an extremely vibrant and lively area within short walking distance to the sites and landmarks of the city and is surrounded by the extraordinary beauty of churches, buildings, shops and monuments. Sublime Cliff is part of a lovingly restored 1800 palace. [score: 0.3097111]\n",
      "\n",
      "Twin Dome Motel: The hotel is situated in a  nineteenth century plaza, which has been expanded and renovated to the highest architectural standards to create a modern, functional and first-class hotel in which art and unique historical elements coexist with the most modern comforts. [score: 0.2688682]\n",
      "\n"
     ]
    }
   ],
   "source": [
    "results = post_query(query_text ='the best restraurant', url = url)\n",
    "\n",
    "for r in results:\n",
    "    print(\"{}: {} [score: {}]\".format(r['HotelName'],r['Description'],r['@search.score']))\n",
    "    print()"
   ]
  },
  {
   "cell_type": "markdown",
   "id": "alternative-titanium",
   "metadata": {},
   "source": [
    "# 4. Semantic enhancement \n",
    "\n",
    "As shown in the previous section, the results of the default search setting are already pretty impressive. \n",
    "\n",
    "Meanwhile, there is a way to further strengthen the search results by enabling semantic enhancement. \n",
    "That option might be handy if the answer to the query is not straightforward. \n",
    "\n",
    "Semantic search is a powerful, cutting-edge technology. However, it is crucial to remember that it is an experimental feature. Also, one critical point to keep in mind: if your query results are expected to have many items, the semantic search reranks only the top 50 of them.\n",
    "\n",
    "**What does it do?** \n",
    "\n",
    "Semantic configuration allows promoting the most semantically relevant results to the top of the list.\n",
    "\n",
    "Notably, the following instruction will show a possible way to start. As with the rest of this notebook, its purpose is to provide you with a kick-start point. \n",
    "\n",
    "For a deeper dive, check this: \n",
    "\n",
    "https://docs.microsoft.com/en-us/azure/search/semantic-search-overview\n",
    "\n",
    "## 4.1 Enable semantic search\n",
    "\n",
    "First of all, you need to enable the option of semantic search:\n",
    "\n",
    "https://docs.microsoft.com/en-us/azure/search/semantic-search-overview#enable-semantic-search\n",
    "\n",
    "## 4.2 Create semantic configurations\n",
    "\n",
    "Semantic configuration can be created using the visual tools on the webpage of the index:\n",
    "\n",
    "![Index12](./jpg/index12.jpeg)\n",
    "\n",
    "Another way to specify a semantic configuration is to add its definition to the JSON index schema: "
   ]
  },
  {
   "cell_type": "code",
   "execution_count": null,
   "id": "indie-keeping",
   "metadata": {},
   "outputs": [],
   "source": [
    "  \"semantic\": {\n",
    "    \"configurations\": [\n",
    "      {\n",
    "        \"name\": \"semconf\",\n",
    "        \"prioritizedFields\": {\n",
    "          \"titleField\": {\n",
    "            \"fieldName\": \"HotelName\"\n",
    "          },\n",
    "          \"prioritizedContentFields\": [\n",
    "            {\n",
    "              \"fieldName\": \"Description\"\n",
    "            }\n",
    "          ],\n",
    "          \"prioritizedKeywordsFields\": [\n",
    "            {\n",
    "              \"fieldName\": \"Tags\"\n",
    "            }\n",
    "          ]\n",
    "        }\n",
    "      }\n",
    "    ]\n",
    "  }"
   ]
  },
  {
   "cell_type": "markdown",
   "id": "dietary-colombia",
   "metadata": {},
   "source": [
    "You can find the schema that includes the definition of the semantic configuration: [*sample_index_schema_semantic.json*](./assets/sample_index_schema_semantic.json)\n",
    "\n",
    "One search index can have multiple semantic configurations. \n",
    "\n",
    "While for illustrative purposes, this notebook provides the basic example of a semantic configuration with one content field (*Description*) and one keyword field (*Tags*), it is possible to create semantic configurations with a more complex structure. \n",
    "\n",
    "Once you have created a semantic configuration, you can allow it while creating your query in the Web interface (make sure that the API vesion you are using allows it):\n",
    "\n",
    "![Index13](./jpg/index13.jpeg)"
   ]
  },
  {
   "cell_type": "markdown",
   "id": "mysterious-philadelphia",
   "metadata": {},
   "source": [
    "## 4.3 How does semantic enhancement effect the search?\n",
    "\n",
    "(For more options for your queries, check: https://docs.microsoft.com/en-us/azure/search/semantic-how-to-query-request)\n",
    "\n",
    "Let's modify *post_query()*, so it allows semantic enhancement:"
   ]
  },
  {
   "cell_type": "code",
   "execution_count": 133,
   "id": "fuzzy-classic",
   "metadata": {},
   "outputs": [],
   "source": [
    "def post_query(query_text, url, query_type = \"simple\", semantic_configuration=\"\"):\n",
    "    \"\"\"\n",
    "        This Funcion creates a rest call to azure search indexer to perform a query\n",
    "        \n",
    "        query_text (str): text of the query\n",
    "        url (str): url suitable for a rest call \n",
    "        query_type (str, optional): type of the query: \"simple\" or \"semantic\". Defaults to \"simple\".\n",
    "        semantic_configuration (str, optional): name of the semantic configuration. Defaults to \"\".\n",
    "        \n",
    "        returns a list of dictionaries with query results\n",
    "    \"\"\"\n",
    "    headers = {\n",
    "    \"api-key\": admin_key,     \n",
    "    \"Content-Type\": \"application/json\",\n",
    "    }\n",
    "    \n",
    "    query = {\n",
    "         \"search\": query_text,\n",
    "         \"queryType\": query_type,\n",
    "         \"queryLanguage\": \"en-us\",\n",
    "         \"speller\": \"lexicon\"    \n",
    "    }\n",
    "    \n",
    "    if query_type == \"semantic\":\n",
    "        query[\"semanticConfiguration\"] = semantic_configuration \n",
    "\n",
    "    \n",
    "    try:\n",
    "        resp = post(url=url, json=query, headers=headers)\n",
    "        \n",
    "        resp_explicit_codes(resp)    \n",
    "            \n",
    "        if resp.status_code == 200:\n",
    "            print(\"Query successful!\\n\")\n",
    "            \n",
    "        result = json.loads(resp.text)['value']\n",
    "    except Exception as e:\n",
    "        print('Exception during the query ', e)\n",
    "        return\n",
    "        \n",
    "    return json.loads(resp.text)['value']\n",
    "    #return resp\n",
    "\n",
    "url = get_rest_query_url(\"lensearch\",\"my-first-index\")"
   ]
  },
  {
   "cell_type": "markdown",
   "id": "drawn-vacuum",
   "metadata": {},
   "source": [
    "### Example 1 \n",
    "\n",
    "Let's start from the example we have already seen: \"*the best restaurant*\""
   ]
  },
  {
   "cell_type": "code",
   "execution_count": 208,
   "id": "enabling-magnet",
   "metadata": {},
   "outputs": [
    {
     "name": "stdout",
     "output_type": "stream",
     "text": [
      "Query successful!\n",
      "\n",
      "Triple Landscape Hotel: The Hotel stands out for its gastronomic excellence under the management of William Dough, who advises on and oversees all of the Hotel's restaurant services. [score: 0.7114401]\n",
      "\n",
      "Secret Point Motel: The hotel is ideally located on the main commercial artery of the city in the heart of New York. A few minutes away is Time's Square and the historic centre of the city, as well as other places of interest that make New York one of America's most attractive and cosmopolitan cities. [score: 0.51262975]\n",
      "\n",
      "Sublime Cliff Hotel: Sublime Cliff Hotel is located in the heart of the historic center of Sublime in an extremely vibrant and lively area within short walking distance to the sites and landmarks of the city and is surrounded by the extraordinary beauty of churches, buildings, shops and monuments. Sublime Cliff is part of a lovingly restored 1800 palace. [score: 0.3097111]\n",
      "\n",
      "Twin Dome Motel: The hotel is situated in a  nineteenth century plaza, which has been expanded and renovated to the highest architectural standards to create a modern, functional and first-class hotel in which art and unique historical elements coexist with the most modern comforts. [score: 0.2688682]\n",
      "\n"
     ]
    }
   ],
   "source": [
    "results = post_query(query_text ='the best restaurant', url = url)\n",
    "\n",
    "for r in results:\n",
    "    print(\"{}: {} [score: {}]\".format(r['HotelName'], r['Description'], r['@search.score']))\n",
    "    print()  "
   ]
  },
  {
   "cell_type": "markdown",
   "id": "operational-detective",
   "metadata": {},
   "source": [
    "While the top result and the last result are straightforward, the two middle ones are probably debatable. We might expect the historical center to be a more likely place to find better restraurants, while for the case of *Sublime Cliff Hotel*.\n",
    "\n",
    "The semantic search corrects for that: "
   ]
  },
  {
   "cell_type": "code",
   "execution_count": 209,
   "id": "rolled-uncertainty",
   "metadata": {},
   "outputs": [
    {
     "name": "stdout",
     "output_type": "stream",
     "text": [
      "Query successful!\n",
      "\n",
      "Triple Landscape Hotel: The Hotel stands out for its gastronomic excellence under the management of William Dough, who advises on and oversees all of the Hotel's restaurant services. [re-ranked score: 0.9138548012000001] [score: 0.7114401]\n",
      "\n",
      "Sublime Cliff Hotel: Sublime Cliff Hotel is located in the heart of the historic center of Sublime in an extremely vibrant and lively area within short walking distance to the sites and landmarks of the city and is surrounded by the extraordinary beauty of churches, buildings, shops and monuments. Sublime Cliff is part of a lovingly restored 1800 palace. [re-ranked score: 0.8948213380000001] [score: 0.3097111]\n",
      "\n",
      "Secret Point Motel: The hotel is ideally located on the main commercial artery of the city in the heart of New York. A few minutes away is Time's Square and the historic centre of the city, as well as other places of interest that make New York one of America's most attractive and cosmopolitan cities. [re-ranked score: 0.6892844248] [score: 0.51262975]\n",
      "\n",
      "Twin Dome Motel: The hotel is situated in a  nineteenth century plaza, which has been expanded and renovated to the highest architectural standards to create a modern, functional and first-class hotel in which art and unique historical elements coexist with the most modern comforts. [re-ranked score: 0.568427235] [score: 0.2688682]\n",
      "\n"
     ]
    }
   ],
   "source": [
    "results = post_query(query_text ='the best restraurant', url = url, query_type = \"semantic\", semantic_configuration = \"semconf\")\n",
    "\n",
    "for r in results:\n",
    "    print(\"{}: {} [re-ranked score: {}] [score: {}]\".format(r['HotelName'], r['Description'], r['@search.rerankerScore'], r['@search.score']))\n",
    "    print()"
   ]
  },
  {
   "cell_type": "markdown",
   "id": "heavy-champagne",
   "metadata": {},
   "source": [
    "Also, notably, the re-ranked score accounts for that, most likely, *Triple Landscape Hotel* and *Sublime Cliff Hotel* are not so far apart regarding the likelihood of finding the best restaurant. \n",
    "\n",
    "## Example 2\n",
    "\n",
    "In the previous example, the top answer to the query about the top restaurant was clear. Let's see what happens if the question may require analysis beyond the exact content of the documents in the index. Importantly, here we don't provide the precise address in the case of the semantic search. "
   ]
  },
  {
   "cell_type": "code",
   "execution_count": 206,
   "id": "tamil-blues",
   "metadata": {},
   "outputs": [
    {
     "name": "stdout",
     "output_type": "stream",
     "text": [
      "Query successful!\n",
      "\n",
      "Twin Dome Motel: The hotel is situated in a  nineteenth century plaza, which has been expanded and renovated to the highest architectural standards to create a modern, functional and first-class hotel in which art and unique historical elements coexist with the most modern comforts. [score: 0.6160039]\n",
      "\n",
      "Sublime Cliff Hotel: Sublime Cliff Hotel is located in the heart of the historic center of Sublime in an extremely vibrant and lively area within short walking distance to the sites and landmarks of the city and is surrounded by the extraordinary beauty of churches, buildings, shops and monuments. Sublime Cliff is part of a lovingly restored 1800 palace. [score: 0.6160039]\n",
      "\n",
      "Secret Point Motel: The hotel is ideally located on the main commercial artery of the city in the heart of New York. A few minutes away is Time's Square and the historic centre of the city, as well as other places of interest that make New York one of America's most attractive and cosmopolitan cities. [score: 0.26286605]\n",
      "\n"
     ]
    }
   ],
   "source": [
    "results = post_query(query_text ='most beatiful area', url = url)\n",
    "\n",
    "for r in results:\n",
    "    print(\"{}: {} [score: {}]\".format(r['HotelName'], r['Description'], r['@search.score']))\n",
    "    print()  "
   ]
  },
  {
   "cell_type": "markdown",
   "id": "broke-optimum",
   "metadata": {},
   "source": [
    "This ranking seems doubtful: the first and second options have similar ranking, while we can say not much about the area given that the builing of Twin Motel has been recently reviewed.  "
   ]
  },
  {
   "cell_type": "code",
   "execution_count": 210,
   "id": "comparable-optics",
   "metadata": {},
   "outputs": [
    {
     "name": "stdout",
     "output_type": "stream",
     "text": [
      "Query successful!\n",
      "\n",
      "Sublime Cliff Hotel: Sublime Cliff Hotel is located in the heart of the historic center of Sublime in an extremely vibrant and lively area within short walking distance to the sites and landmarks of the city and is surrounded by the extraordinary beauty of churches, buildings, shops and monuments. Sublime Cliff is part of a lovingly restored 1800 palace. [re-ranked score: 0.36888724780000004] [score: 0.6160039]\n",
      "\n",
      "Secret Point Motel: The hotel is ideally located on the main commercial artery of the city in the heart of New York. A few minutes away is Time's Square and the historic centre of the city, as well as other places of interest that make New York one of America's most attractive and cosmopolitan cities. [re-ranked score: 0.334203658] [score: 0.26286605]\n",
      "\n",
      "Twin Dome Motel: The hotel is situated in a  nineteenth century plaza, which has been expanded and renovated to the highest architectural standards to create a modern, functional and first-class hotel in which art and unique historical elements coexist with the most modern comforts. [re-ranked score: 0.23884788940000004] [score: 0.6160039]\n",
      "\n"
     ]
    }
   ],
   "source": [
    "results = post_query(query_text ='most beatiful area', url = url, query_type = \"semantic\", semantic_configuration = \"semconf\")\n",
    "\n",
    "for r in results:\n",
    "    print(\"{}: {} [re-ranked score: {}] [score: {}]\".format(r['HotelName'], r['Description'], r['@search.rerankerScore'], r['@search.score']))\n",
    "    print()"
   ]
  },
  {
   "cell_type": "markdown",
   "id": "bearing-leadership",
   "metadata": {},
   "source": [
    "Now, the ranking feels more meaningful: the clear winner *Sublime Cliff Hotel* is on top, and *Twin Dome Motel* is the last. \n",
    "\n",
    "Notably, *Triple Landscape Hotel* has been excluded in both cases. "
   ]
  },
  {
   "cell_type": "code",
   "execution_count": null,
   "id": "spectacular-mixture",
   "metadata": {},
   "outputs": [],
   "source": []
  }
 ],
 "metadata": {
  "kernelspec": {
   "display_name": "Python 3.6 - AzureML",
   "language": "python",
   "name": "python3-azureml"
  },
  "language_info": {
   "codemirror_mode": {
    "name": "ipython",
    "version": 3
   },
   "file_extension": ".py",
   "mimetype": "text/x-python",
   "name": "python",
   "nbconvert_exporter": "python",
   "pygments_lexer": "ipython3",
   "version": "3.6.9"
  }
 },
 "nbformat": 4,
 "nbformat_minor": 5
}
