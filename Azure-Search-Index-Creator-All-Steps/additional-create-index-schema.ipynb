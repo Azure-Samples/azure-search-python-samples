{
 "cells": [
  {
   "cell_type": "markdown",
   "id": "stunning-conspiracy",
   "metadata": {},
   "source": [
    "# Azure Search Schema Generator\n",
    "\n",
    "# Generating your index schema file \n",
    "\n",
    "A schema is necessary for creating an Azure Search Index.\n",
    "\n",
    "You can create your schema manually (for instance, using *template_index_schema.json*).\n",
    "\n",
    "This notebook provides you with a simple tool to generate it automatically.\n",
    "\n",
    "Important: The index schema generator requires the JSONs to have: \n",
    "- no nested fields\n",
    "- fields can be simple or lists; \n",
    "- by default, all allowed values are parsed as strings;\n",
    "- you need to pick one of the existing fields as a key field;\n",
    "- the parser assumes that all JSONs have the same structure. \n",
    "\n",
    "### Reading fields from JSON\n",
    "\n",
    "The sample JSONs are in the folder *sample_jsons*. (You are welcome to replace them with your documents.)\n",
    "\n",
    "Remark: The provided sample JSONS are based on https://docs.microsoft.com/en-us/azure/search/search-get-started-python.\n",
    "\n",
    "The notebook randomly takes one of the JSON to obtain the fields. "
   ]
  },
  {
   "cell_type": "code",
   "execution_count": 1,
   "id": "useful-modeling",
   "metadata": {},
   "outputs": [
    {
     "name": "stdout",
     "output_type": "stream",
     "text": [
      "file2.json\n"
     ]
    }
   ],
   "source": [
    "import os\n",
    "import json\n",
    "from random import randint\n",
    "\n",
    "#make sure that the documents are jsons \n",
    "arr = [i for i in os.listdir('./sample_jsons') if i.endswith('.json')]\n",
    "\n",
    "#pick one document randomly\n",
    "picked_file = arr[randint(0,len(arr)-1)]\n",
    "\n",
    "with open('./sample_jsons/' + picked_file) as f:\n",
    "    source_json = json.loads(f.read())   \n",
    "    \n",
    "print(picked_file)"
   ]
  },
  {
   "cell_type": "markdown",
   "id": "modern-paste",
   "metadata": {},
   "source": [
    "Now let's determine the types of the imported fields that are going to be in the index. \n",
    "\n",
    "The following parser allows importing the following JSON types:\n",
    "- bool\n",
    "- integral numbers\n",
    "- floating-point numbers\n",
    "- strings\n",
    "- strings that look like date\n",
    "- arrays/lists of primitive types\n",
    "\n",
    "All the above-listed (except arrays) can be listed as *Edm.String* in index target types. Lists can be listed as *Collection(Edm.String)*. This parser allows importing only fields that can assigned those types. Other fields must be manually omitted. \n",
    "\n",
    "For more details about the AS index types: https://docs.microsoft.com/en-us/rest/api/searchservice/data-type-map-for-indexers-in-azure-search#bkmk_json_search\n",
    "\n",
    "The fields to import and their AS types: "
   ]
  },
  {
   "cell_type": "code",
   "execution_count": 2,
   "id": "complimentary-dynamics",
   "metadata": {},
   "outputs": [
    {
     "data": {
      "text/plain": [
       "{'HotelId': 'Edm.String',\n",
       " 'HotelName': 'Edm.String',\n",
       " 'Description': 'Edm.String',\n",
       " 'Description_fr': 'Edm.String',\n",
       " 'Category': 'Edm.String',\n",
       " 'Tags': 'Collection(Edm.String)',\n",
       " 'ParkingIncluded': 'Edm.String',\n",
       " 'LastRenovationDate': 'Edm.String',\n",
       " 'Rating': 'Edm.String',\n",
       " 'StreetAddress': 'Edm.String',\n",
       " 'City': 'Edm.String',\n",
       " 'StateProvince': 'Edm.String',\n",
       " 'PostalCode': 'Edm.String',\n",
       " 'Country': 'Edm.String'}"
      ]
     },
     "execution_count": 2,
     "metadata": {},
     "output_type": "execute_result"
    }
   ],
   "source": [
    "def get_AS_type(field):\n",
    "    str_types = [bool, int, float, str]\n",
    "    if isinstance(field, list):\n",
    "        return \"Collection(Edm.String)\"\n",
    "    if any([isinstance(field, i) for i in str_types]):\n",
    "        return \"Edm.String\"\n",
    "    return False\n",
    "\n",
    "fields_types = {key: get_AS_type(source_json[key]) for key in source_json.keys()}\n",
    "\n",
    "fields_types"
   ]
  },
  {
   "cell_type": "markdown",
   "id": "cutting-recall",
   "metadata": {},
   "source": [
    "### Pick your key field:"
   ]
  },
  {
   "cell_type": "code",
   "execution_count": 3,
   "id": "generous-lighter",
   "metadata": {},
   "outputs": [],
   "source": [
    "key_field = 'HotelId'"
   ]
  },
  {
   "cell_type": "markdown",
   "id": "standard-blair",
   "metadata": {},
   "source": [
    "## Generate your index schema\n",
    "\n",
    "The index is generated based on '*.assets/template_index_schema.json*.' \n",
    "Essentially the following code adds the data fields to this file. \n",
    "(You already can find the final version the following code generates for comparison: '*.assets/sample_index_schema.json*.') \n",
    "\n",
    "Once the index schema is created, you can modify its other parameters directly in the JSON file. (However, it is essential to consult reference materials before making any changes since not all combinations are allowed.)\n",
    "\n",
    "Name your index and the JSON file with it: "
   ]
  },
  {
   "cell_type": "code",
   "execution_count": 4,
   "id": "empirical-musical",
   "metadata": {},
   "outputs": [],
   "source": [
    "my_index_name = 'my-first-index'\n",
    "my_index_schema_file = 'my_index_schema.json'"
   ]
  },
  {
   "cell_type": "markdown",
   "id": "other-waterproof",
   "metadata": {},
   "source": [
    "Now let's create the schema: "
   ]
  },
  {
   "cell_type": "code",
   "execution_count": 5,
   "id": "collectible-yacht",
   "metadata": {},
   "outputs": [
    {
     "name": "stdout",
     "output_type": "stream",
     "text": [
      "Your index schema is successfully created!\n"
     ]
    }
   ],
   "source": [
    "def create_field(field_sample, field_name, field_type, key):\n",
    "    \"\"\"\n",
    "        This function creates a field description field to be added to the index schema \n",
    "        \n",
    "        Args:\n",
    "         field_sample (dict): a field description template  \n",
    "         field_name (str): a name of the added field\n",
    "         field_type (str): the type of the added field\n",
    "         key (bool): whether the field is the key field  \n",
    "    \"\"\"\n",
    "    sample = dict(field_sample)\n",
    "    sample['name'] = field_name\n",
    "    sample['type'] = field_type\n",
    "    sample['key'] = key\n",
    "    if (not key):\n",
    "        sample['searchable'] = True\n",
    "    if 'Collection' in field_type:\n",
    "        sample['sortable'] = False\n",
    "    return sample \n",
    "\n",
    "#read the index schema template\n",
    "with open('./assets/template_index_schema.json') as f:\n",
    "    index_schema = json.loads(f.read()) \n",
    "\n",
    "#assign the new name\n",
    "index_schema['name'] = my_index_name\n",
    "\n",
    "#get the template for the field description\n",
    "sample_field = index_schema['fields'][0]\n",
    "index_schema['fields'] = []\n",
    "\n",
    "#add the decriptions of the fields to the template and save the modified schema template \n",
    "try:\n",
    "    index_schema['fields'] = [create_field(sample_field, key, fields_types[key], key == key_field) for key in fields_types.keys()]\n",
    "    \n",
    "    with open('./assets/' + my_index_schema_file, 'w') as f:\n",
    "        json.dump(index_schema, f)\n",
    "    \n",
    "    print('Your index schema is successfully created!')\n",
    "except Exception as ex:\n",
    "    print(ex)"
   ]
  },
  {
   "cell_type": "markdown",
   "id": "spread-potter",
   "metadata": {},
   "source": [
    "Now you should have your new index schema saved in *assets* folder. "
   ]
  },
  {
   "cell_type": "code",
   "execution_count": null,
   "id": "lasting-parish",
   "metadata": {},
   "outputs": [],
   "source": []
  }
 ],
 "metadata": {
  "kernelspec": {
   "display_name": "Python 3.6 - AzureML",
   "language": "python",
   "name": "python3-azureml"
  },
  "language_info": {
   "codemirror_mode": {
    "name": "ipython",
    "version": 3
   },
   "file_extension": ".py",
   "mimetype": "text/x-python",
   "name": "python",
   "nbconvert_exporter": "python",
   "pygments_lexer": "ipython3",
   "version": "3.6.9"
  }
 },
 "nbformat": 4,
 "nbformat_minor": 5
}
