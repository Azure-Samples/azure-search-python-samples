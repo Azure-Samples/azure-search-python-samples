{
 "cells": [
  {
   "cell_type": "markdown",
   "id": "5e3d4685",
   "metadata": {},
   "source": [
    "## Agentic Retrieval in Azure AI Search and Azure AI Agent Service\n"
   ]
  },
  {
   "cell_type": "markdown",
   "id": "679bc80a",
   "metadata": {},
   "source": [
    "### 1. Load Connections"
   ]
  },
  {
   "cell_type": "code",
   "execution_count": 1,
   "id": "e42b4a10",
   "metadata": {},
   "outputs": [],
   "source": [
    "from dotenv import load_dotenv\n",
    "from azure.identity import DefaultAzureCredential, get_bearer_token_provider\n",
    "import os\n",
    "\n",
    "load_dotenv(override=True) # take environment variables from .env.\n",
    "\n",
    "# The following variables from your .env file are used in this notebook\n",
    "project_conn_str = os.environ[\"PROJECT_CONNECTION_STRING\"]\n",
    "agent_model = os.getenv(\"AGENT_MODEL\", \"gpt-4o\")\n",
    "endpoint = os.environ[\"AZURE_SEARCH_ENDPOINT\"]\n",
    "credential = DefaultAzureCredential()\n",
    "token_provider = get_bearer_token_provider(credential, \"https://search.azure.com/.default\")\n",
    "index_name = os.getenv(\"AZURE_SEARCH_INDEX\", \"earth_at_night\")\n",
    "azure_openai_endpoint = os.environ[\"AZURE_OPENAI_ENDPOINT\"]\n",
    "azure_openai_gpt_deployment = os.getenv(\"AZURE_OPENAI_GPT_DEPLOYMENT\", \"gpt-4o\")\n",
    "azure_openai_gpt_model = os.getenv(\"AZURE_OPENAI_GPT_MODEL\", \"gpt-4o\")\n",
    "azure_openai_embedding_deployment = os.getenv(\"AZURE_OPENAI_EMBEDDING_DEPLOYMENT\", \"text-embedding-3-large\")\n",
    "azure_openai_embedding_model = os.getenv(\"AZURE_OPENAI_EMBEDDING_MODEL\", \"text-embedding-3-large\")\n",
    "agent_name = os.getenv(\"AZURE_SEARCH_AGENT_NAME\", \"earth-search-agent\")\n",
    "api_version = \"2025-05-01-Preview\""
   ]
  },
  {
   "cell_type": "markdown",
   "id": "ea2ecdce",
   "metadata": {},
   "source": [
    "### 2. Create Search Index"
   ]
  },
  {
   "cell_type": "code",
   "execution_count": null,
   "id": "91fd6810",
   "metadata": {},
   "outputs": [
    {
     "name": "stdout",
     "output_type": "stream",
     "text": [
      "Index 'earth_at_night' created or updated successfully\n"
     ]
    }
   ],
   "source": [
    "from azure.search.documents.indexes.models import SearchIndex, SearchField, VectorSearch, VectorSearchProfile, HnswAlgorithmConfiguration, AzureOpenAIVectorizer, AzureOpenAIVectorizerParameters, SemanticSearch, SemanticConfiguration, SemanticPrioritizedFields, SemanticField\n",
    "from azure.search.documents.indexes import SearchIndexClient\n",
    "\n",
    "index = SearchIndex(\n",
    "    name=index_name,\n",
    "    fields=[\n",
    "        SearchField(name=\"id\", type=\"Edm.String\", key=True, filterable=True, sortable=True, facetable=True),\n",
    "        SearchField(name=\"page_chunk\", type=\"Edm.String\", filterable=False, sortable=False, facetable=False),\n",
    "        SearchField(name=\"page_embedding_text_3_large\", type=\"Collection(Edm.Single)\", stored=False, vector_search_dimensions=3072, vector_search_profile_name=\"hnsw_text_3_large\"),\n",
    "        SearchField(name=\"page_number\", type=\"Edm.Int32\", filterable=True, sortable=True, facetable=True)\n",
    "    ],\n",
    "    vector_search=VectorSearch(\n",
    "        profiles=[VectorSearchProfile(name=\"hnsw_text_3_large\", algorithm_configuration_name=\"alg\", vectorizer_name=\"azure_openai_text_3_large\")],\n",
    "        algorithms=[HnswAlgorithmConfiguration(name=\"alg\")],\n",
    "        vectorizers=[\n",
    "            AzureOpenAIVectorizer(\n",
    "                vectorizer_name=\"azure_openai_text_3_large\",\n",
    "                parameters=AzureOpenAIVectorizerParameters(\n",
    "                    resource_url=azure_openai_endpoint,\n",
    "                    deployment_name=azure_openai_embedding_deployment,\n",
    "                    model_name=azure_openai_embedding_model\n",
    "                )\n",
    "            )\n",
    "        ]\n",
    "    ),\n",
    "    semantic_search=SemanticSearch(\n",
    "        default_configuration_name=\"semantic_config\",\n",
    "        configurations=[\n",
    "            SemanticConfiguration(\n",
    "                name=\"semantic_config\",\n",
    "                prioritized_fields=SemanticPrioritizedFields(\n",
    "                    content_fields=[\n",
    "                        SemanticField(field_name=\"page_chunk\")\n",
    "                    ]\n",
    "                )\n",
    "            )\n",
    "        ]\n",
    "    )\n",
    ")\n",
    "\n",
    "index_client = SearchIndexClient(endpoint=endpoint, credential=credential)\n",
    "index_client.create_or_update_index(index)\n",
    "print(f\"Index '{index_name}' created or updated successfully\")\n"
   ]
  },
  {
   "cell_type": "markdown",
   "id": "376b9785",
   "metadata": {},
   "source": [
    "### 3. Upload sample documents"
   ]
  },
  {
   "cell_type": "code",
   "execution_count": 3,
   "id": "f98f31e7",
   "metadata": {},
   "outputs": [
    {
     "name": "stdout",
     "output_type": "stream",
     "text": [
      "Documents uploaded to index 'earth_at_night'\n"
     ]
    }
   ],
   "source": [
    "import requests\n",
    "from azure.search.documents import SearchIndexingBufferedSender\n",
    "from azure.search.documents import SearchClient\n",
    "\n",
    "url = \"https://raw.githubusercontent.com/Azure-Samples/azure-search-sample-data/refs/heads/main/nasa-e-book/earth-at-night-json/documents.json\"\n",
    "documents = requests.get(url).json()\n",
    "\n",
    "with SearchIndexingBufferedSender(endpoint=endpoint, index_name=index_name, credential=credential) as client:\n",
    "    client.upload_documents(documents=documents)\n",
    "\n",
    "print(f\"Documents uploaded to index '{index_name}'\")\n"
   ]
  },
  {
   "cell_type": "markdown",
   "id": "e3d0081e",
   "metadata": {},
   "source": [
    "### 4. Create search agent"
   ]
  },
  {
   "cell_type": "code",
   "execution_count": 4,
   "id": "fbe31e32",
   "metadata": {},
   "outputs": [],
   "source": [
    "import requests\n",
    "\n",
    "create_agent_request = {\n",
    "    \"name\": agent_name,\n",
    "    \"targetIndexes\": [ { \"indexName\": index_name } ],\n",
    "    \"models\": [\n",
    "          {\n",
    "            \"kind\": \"azureOpenAI\",\n",
    "            \"azureOpenAIParameters\": {\n",
    "                \"resourceUri\": azure_openai_endpoint,\n",
    "                \"apiKey\": None,\n",
    "                \"deploymentId\": azure_openai_gpt_model,\n",
    "                \"modelName\": azure_openai_gpt_model\n",
    "            }\n",
    "        }\n",
    "    ]\n",
    "}\n",
    "\n",
    "response = requests.put(\n",
    "    url=f\"{endpoint}/agents/{agent_name}?api-version={api_version}\",\n",
    "    headers={ \"Authorization\": f\"Bearer {token_provider()}\" },\n",
    "    json=create_agent_request\n",
    ")\n",
    "response.raise_for_status()\n"
   ]
  },
  {
   "cell_type": "markdown",
   "id": "ff845de0",
   "metadata": {},
   "source": [
    "### 5. Create AI Agent"
   ]
  },
  {
   "cell_type": "code",
   "execution_count": 10,
   "id": "aa363122",
   "metadata": {},
   "outputs": [
    {
     "name": "stdout",
     "output_type": "stream",
     "text": [
      "{\n",
      "  \"id\": \"asst_tybwnQVSaJkQOuKHkFSll4Bb\",\n",
      "  \"object\": \"assistant\",\n",
      "  \"created_at\": 1746141946,\n",
      "  \"name\": \"earth-search-agent\",\n",
      "  \"description\": null,\n",
      "  \"model\": \"gpt-4o\",\n",
      "  \"instructions\": \"\\nAn Q&A agent that can answer questions about the Earth at night.\\nSources have a JSON format with a ref_id that must be cited in the answer.\\nIf you do not have the answer, respond with \\\"I don't know\\\".\\n\",\n",
      "  \"tools\": [],\n",
      "  \"top_p\": 1.0,\n",
      "  \"temperature\": 1.0,\n",
      "  \"tool_resources\": {},\n",
      "  \"metadata\": {},\n",
      "  \"response_format\": \"auto\"\n",
      "}\n"
     ]
    }
   ],
   "source": [
    "from azure.ai.projects import AIProjectClient\n",
    "import json\n",
    "project_client = AIProjectClient.from_connection_string(project_conn_str, credential=credential)\n",
    "\n",
    "instructions = \"\"\"\n",
    "An Q&A agent that can answer questions about the Earth at night.\n",
    "Sources have a JSON format with a ref_id that must be cited in the answer.\n",
    "If you do not have the answer, respond with \"I don't know\".\n",
    "\"\"\"\n",
    "agent = project_client.agents.create_agent(\n",
    "    model=agent_model,\n",
    "    name=agent_name,\n",
    "    instructions=instructions\n",
    ")\n",
    "print(json.dumps(agent.as_dict(), indent=2))"
   ]
  },
  {
   "cell_type": "markdown",
   "id": "f12a051e",
   "metadata": {},
   "source": [
    "### 6. Add Agentic Retrieval tool to AI Agent"
   ]
  },
  {
   "cell_type": "code",
   "execution_count": 11,
   "id": "de2ee775",
   "metadata": {},
   "outputs": [],
   "source": [
    "from azure.ai.projects.models import FunctionTool, ToolSet, ListSortOrder\n",
    "\n",
    "thread = project_client.agents.create_thread()\n",
    "retrieval_results = {}\n",
    "\n",
    "def agentic_retrieval() -> str:\n",
    "    \"\"\"\n",
    "        Searches a NASA e-book about images of Earth at night and other science related facts.\n",
    "        The returned string is in a JSON format that contains the reference id.\n",
    "        Be sure to use the same format in your agent's response\n",
    "    \"\"\"\n",
    "    # Take the last 5 messages in the conversation\n",
    "    messages = project_client.agents.list_messages(thread.id, limit=5, order=ListSortOrder.DESCENDING)\n",
    "    # Reverse the order so the most recent message is last\n",
    "    messages.data.reverse()\n",
    "    retrieval_request = {\n",
    "        \"messages\" : [ { \"role\": msg.role, \"content\": [ { \"text\": msg_content.text.value, \"type\": msg_content.type } for msg_content in msg.content ] } for msg in messages.data ],\n",
    "        \"targetIndexParams\" :  [\n",
    "            { \n",
    "                \"indexName\" : index_name,\n",
    "                \"rerankerThreshold\": 2.5\n",
    "            } \n",
    "        ]\n",
    "    }\n",
    "    response = requests.post(\n",
    "        url=f\"{endpoint}/agents/{agent_name}/retrieve?api-version={api_version}\",\n",
    "        headers={ \"Authorization\": f\"Bearer {token_provider()}\" },\n",
    "        json=retrieval_request\n",
    "    )\n",
    "    response.raise_for_status()\n",
    "    result = response.json()\n",
    "\n",
    "    # Associate the retrieval results with the last message in the conversation\n",
    "    last_message = messages.data[-1]\n",
    "    retrieval_results[last_message.id] = result\n",
    "\n",
    "    # Return the grounding response to the agent\n",
    "    return result[\"response\"][0][\"content\"][0][\"text\"]\n",
    "\n",
    "# Link to AI Agent Service function calling tutorial\n",
    "user_functions = { agentic_retrieval }\n",
    "functions = FunctionTool(user_functions)\n",
    "toolset = ToolSet()\n",
    "toolset.add(functions)\n",
    "project_client.agents.enable_auto_function_calls(toolset=toolset)"
   ]
  },
  {
   "cell_type": "markdown",
   "id": "6bf5b621",
   "metadata": {},
   "source": [
    "### 7. Start a chat with the agent"
   ]
  },
  {
   "cell_type": "code",
   "execution_count": 12,
   "id": "f1fc04fc",
   "metadata": {},
   "outputs": [
    {
     "name": "stdout",
     "output_type": "stream",
     "text": [
      "Agent response: ### Suburban Belts vs\n",
      " Urban Cores December Brightening\n",
      "\n",
      "Suburban belts often have a larger increase in brightness during December compared to urban cores, even though absolute light levels are higher downtown\n",
      " This phenomenon can be attributed to the prevalent use of holiday light displays in residential areas\n",
      " During the holiday season, many suburban homes are decorated with extensive light displays for Christmas and New Year celebrations, causing a significant increase in local brightness\n",
      " In contrast, urban cores, which typically comprise commercial and industrial areas, may not see such a dramatic increase in lighting because these areas are already brightly lit and may not participate as extensively in the holiday light decorations ([ref_id: 0])\n",
      "\n",
      "\n",
      "### Phoenix Nighttime Street Grid\n",
      "\n",
      "The Phoenix nighttime street grid is sharply visible from space due to the urban structure and meticulous grid layout of city blocks and streets\n",
      " Phoenix, like many large urban areas in the central and western United States, is planned along a regular grid system\n",
      " This grid is clearly illuminated by streetlights, making it highly visible from the low-Earth-orbit vantage point of satellites\n",
      " Major thoroughfares, such as Grand Avenue, are brightly lit and cut diagonally across the grid, further enhancing visibility\n",
      " Additionally, Phoenix's extensive urban and suburban sprawl, with its many residential and commercial areas, contributes to the well-defined grid pattern seen from space ([ref_id: 1])\n",
      "\n",
      "\n",
      "In contrast, large stretches of the interstate between midwestern cities remain comparatively dim because these areas are often rural and less densely populated, resulting in fewer streetlights and less overall illumination\n",
      " The focus of lighting in rural areas tends to be around key nodal points such as intersections and town centers, rather than continuous bright lighting along highways or interstates ([ref_id: 2])\n",
      " \n",
      "\n",
      "References:\n",
      "- [ref_id: 0]: Holiday light increase in suburban belts\n",
      "\n",
      "- [ref_id: 1]: Grid layout and brightly lit thoroughfares in Phoenix\n",
      "\n",
      "- [ref_id: 2]: Lighting patterns in rural areas along interstates\n",
      "\n"
     ]
    }
   ],
   "source": [
    "message = project_client.agents.create_message(\n",
    "    thread_id=thread.id,\n",
    "    role=\"user\",\n",
    "    content=\"\"\"\n",
    "        Why do suburban belts display larger December brightening than urban cores even though absolute light levels are higher downtown?\n",
    "        Why is the Phoenix nighttime street grid is so sharply visible from space, whereas large stretches of the interstate between midwestern cities remain comparatively dim?\n",
    "    \"\"\"\n",
    ")\n",
    "\n",
    "run = project_client.agents.create_and_process_run(thread_id=thread.id, agent_id=agent.id, toolset=toolset)\n",
    "if run.status == \"failed\":\n",
    "    raise RuntimeError(f\"Run failed: {run.last_error}\")\n",
    "output = project_client.agents.list_messages(thread_id=thread.id).get_last_text_message_by_role(\"assistant\").text.value\n",
    "\n",
    "print(\"Agent response:\", output.replace(\".\", \"\\n\"))\n"
   ]
  },
  {
   "cell_type": "markdown",
   "id": "aa88be35",
   "metadata": {},
   "source": [
    "### 7.1: Review retrieval activity and results"
   ]
  },
  {
   "cell_type": "code",
   "execution_count": 13,
   "id": "7b90fefa",
   "metadata": {},
   "outputs": [
    {
     "name": "stdout",
     "output_type": "stream",
     "text": [
      "Retrieval activity\n",
      "[\n",
      "  {\n",
      "    \"type\": \"ModelQueryPlanning\",\n",
      "    \"id\": 0,\n",
      "    \"inputTokens\": 1359,\n",
      "    \"outputTokens\": 518\n",
      "  },\n",
      "  {\n",
      "    \"type\": \"AzureSearchQuery\",\n",
      "    \"id\": 1,\n",
      "    \"targetIndex\": \"earth_at_night\",\n",
      "    \"query\": {\n",
      "      \"search\": \"suburban belts December brightening compared to urban cores\",\n",
      "      \"filter\": null\n",
      "    },\n",
      "    \"queryTime\": \"2025-05-01T23:27:06.679Z\",\n",
      "    \"elapsedMs\": 361\n",
      "  },\n",
      "  {\n",
      "    \"type\": \"AzureSearchQuery\",\n",
      "    \"id\": 2,\n",
      "    \"targetIndex\": \"earth_at_night\",\n",
      "    \"query\": {\n",
      "      \"search\": \"Phoenix nighttime street grid visibility from space\",\n",
      "      \"filter\": null\n",
      "    },\n",
      "    \"queryTime\": \"2025-05-01T23:27:07.021Z\",\n",
      "    \"count\": 2,\n",
      "    \"elapsedMs\": 341\n",
      "  },\n",
      "  {\n",
      "    \"type\": \"AzureSearchQuery\",\n",
      "    \"id\": 3,\n",
      "    \"targetIndex\": \"earth_at_night\",\n",
      "    \"query\": {\n",
      "      \"search\": \"dim interstates between midwestern cities at night\",\n",
      "      \"filter\": null\n",
      "    },\n",
      "    \"queryTime\": \"2025-05-01T23:27:07.423Z\",\n",
      "    \"elapsedMs\": 401\n",
      "  }\n",
      "]\n",
      "Retrieval results\n",
      "[\n",
      "  {\n",
      "    \"type\": \"AzureSearchDoc\",\n",
      "    \"id\": \"0\",\n",
      "    \"activitySource\": 2,\n",
      "    \"docKey\": \"earth_at_night_508_page_104_verbalized\",\n",
      "    \"sourceData\": null\n",
      "  },\n",
      "  {\n",
      "    \"type\": \"AzureSearchDoc\",\n",
      "    \"id\": \"1\",\n",
      "    \"activitySource\": 2,\n",
      "    \"docKey\": \"earth_at_night_508_page_105_verbalized\",\n",
      "    \"sourceData\": null\n",
      "  }\n",
      "]\n"
     ]
    }
   ],
   "source": [
    "retrieval_results = retrieval_results.get(message.id)\n",
    "if retrieval_results is None:\n",
    "    raise RuntimeError(f\"No retrieval results found for message {message.id}\")\n",
    "\n",
    "print(\"Retrieval activity\")\n",
    "print(json.dumps(retrieval_results[\"activity\"], indent=2))\n",
    "print(\"Retrieval results\")\n",
    "print(json.dumps(retrieval_results[\"references\"], indent=2))"
   ]
  },
  {
   "cell_type": "markdown",
   "id": "4b6bfb9f",
   "metadata": {},
   "source": [
    "### 8. Continue the conversation"
   ]
  },
  {
   "cell_type": "code",
   "execution_count": 14,
   "id": "d9478191",
   "metadata": {},
   "outputs": [
    {
     "name": "stdout",
     "output_type": "stream",
     "text": [
      "Agent response: To find lava at night, you can rely on a combination of visual and infrared imaging techniques from satellite observations:\n",
      "\n",
      "1\n",
      " **Thermal Imaging**: Satellites with thermal infrared sensors, like the Operational Land Imager (OLI) and the Thermal Infrared Sensor (TIRS) on the Landsat 8 satellite, can detect the thermal signature of hot lava\n",
      " These sensors can differentiate between the very hot bright white areas, cooling lava appearing red, and lava flows obstructed by clouds appearing purple ([ref_id: 3])\n",
      "\n",
      "\n",
      "2\n",
      " **Nightlight Images**: The VIIRS Day/Night Band (DNB) on polar-orbiting satellites captures faint light sources such as moonlight and starlight\n",
      " These nightlight images can reveal the glow of lava flows, especially in the presence of sufficient moonlight ([ref_id: 0])\n",
      "\n",
      "\n",
      "3\n",
      " **Combining Thermal and Visual Data**: Combining thermal data with nightlight images can provide a more comprehensive view of volcanic activity at night\n",
      " This approach has been used to monitor lava flows from volcanoes like Mount Etna and Kilauea ([ref_id: 2], [ref_id: 0])\n",
      "\n",
      "\n",
      "4\n",
      " **Using Satellite Observations**: Satellites like Suomi NPP and Landsat 8 provide valuable data for monitoring volcanic activity\n",
      " These satellites allow for continuous observation and help detect changes in the lava flow and volcanic ash plumes ([ref_id: 5])\n",
      "\n",
      "\n",
      "By leveraging these satellite imaging techniques, you can effectively monitor and locate lava flows during nighttime hours\n",
      "\n",
      "\n",
      "References:\n",
      "- [ref_id: 0]: Nighttime glow of lava at Mount Etna\n",
      "\n",
      "- [ref_id: 2]: Visibility of hot lava at Mount Etna\n",
      "\n",
      "- [ref_id: 3]: Thermal imaging of Kilauea's lava flows\n",
      "\n",
      "- [ref_id: 5]: Use of VIIRS and thermal sensors for volcanic activity observation\n",
      "\n"
     ]
    }
   ],
   "source": [
    "message = project_client.agents.create_message(\n",
    "    thread_id=thread.id,\n",
    "    role=\"user\",\n",
    "    content=\"How do I find lava at night?\"\n",
    ")\n",
    "\n",
    "run = project_client.agents.create_and_process_run(thread_id=thread.id, agent_id=agent.id, toolset=toolset)\n",
    "if run.status == \"failed\":\n",
    "    raise RuntimeError(f\"Run failed: {run.last_error}\")\n",
    "\n",
    "output = project_client.agents.list_messages(thread_id=thread.id).get_last_text_message_by_role(\"assistant\").text.value\n",
    "print(\"Agent response:\", output.replace(\".\", \"\\n\"))\n"
   ]
  },
  {
   "cell_type": "markdown",
   "id": "b366ed37",
   "metadata": {},
   "source": [
    "### 8.1: Review retrieval activity and results"
   ]
  },
  {
   "cell_type": "code",
   "execution_count": 15,
   "id": "c063c45e",
   "metadata": {},
   "outputs": [
    {
     "name": "stdout",
     "output_type": "stream",
     "text": [
      "Retrieval activity\n",
      "[\n",
      "  {\n",
      "    \"type\": \"ModelQueryPlanning\",\n",
      "    \"id\": 0,\n",
      "    \"inputTokens\": 1788,\n",
      "    \"outputTokens\": 100\n",
      "  },\n",
      "  {\n",
      "    \"type\": \"AzureSearchQuery\",\n",
      "    \"id\": 1,\n",
      "    \"targetIndex\": \"earth_at_night\",\n",
      "    \"query\": {\n",
      "      \"search\": \"locating lava at night\",\n",
      "      \"filter\": null\n",
      "    },\n",
      "    \"queryTime\": \"2025-05-01T23:27:22.983Z\",\n",
      "    \"count\": 6,\n",
      "    \"elapsedMs\": 407\n",
      "  }\n",
      "]\n",
      "Retrieval results\n",
      "[\n",
      "  {\n",
      "    \"type\": \"AzureSearchDoc\",\n",
      "    \"id\": \"0\",\n",
      "    \"activitySource\": 1,\n",
      "    \"docKey\": \"earth_at_night_508_page_64_verbalized\",\n",
      "    \"sourceData\": null\n",
      "  },\n",
      "  {\n",
      "    \"type\": \"AzureSearchDoc\",\n",
      "    \"id\": \"1\",\n",
      "    \"activitySource\": 1,\n",
      "    \"docKey\": \"earth_at_night_508_page_65_verbalized\",\n",
      "    \"sourceData\": null\n",
      "  },\n",
      "  {\n",
      "    \"type\": \"AzureSearchDoc\",\n",
      "    \"id\": \"2\",\n",
      "    \"activitySource\": 1,\n",
      "    \"docKey\": \"earth_at_night_508_page_66_verbalized\",\n",
      "    \"sourceData\": null\n",
      "  },\n",
      "  {\n",
      "    \"type\": \"AzureSearchDoc\",\n",
      "    \"id\": \"3\",\n",
      "    \"activitySource\": 1,\n",
      "    \"docKey\": \"earth_at_night_508_page_60_verbalized\",\n",
      "    \"sourceData\": null\n",
      "  },\n",
      "  {\n",
      "    \"type\": \"AzureSearchDoc\",\n",
      "    \"id\": \"4\",\n",
      "    \"activitySource\": 1,\n",
      "    \"docKey\": \"earth_at_night_508_page_44_verbalized\",\n",
      "    \"sourceData\": null\n",
      "  },\n",
      "  {\n",
      "    \"type\": \"AzureSearchDoc\",\n",
      "    \"id\": \"5\",\n",
      "    \"activitySource\": 1,\n",
      "    \"docKey\": \"earth_at_night_508_page_46_verbalized\",\n",
      "    \"sourceData\": null\n",
      "  }\n",
      "]\n"
     ]
    }
   ],
   "source": [
    "retrieval_results = retrieval_results.get(message.id)\n",
    "if retrieval_results is None:\n",
    "    raise RuntimeError(f\"No retrieval results found for message {message.id}\")\n",
    "\n",
    "print(\"Retrieval activity\")\n",
    "print(json.dumps(retrieval_results[\"activity\"], indent=2))\n",
    "print(\"Retrieval results\")\n",
    "print(json.dumps(retrieval_results[\"references\"], indent=2))"
   ]
  }
 ],
 "metadata": {
  "kernelspec": {
   "display_name": ".venv",
   "language": "python",
   "name": "python3"
  },
  "language_info": {
   "codemirror_mode": {
    "name": "ipython",
    "version": 3
   },
   "file_extension": ".py",
   "mimetype": "text/x-python",
   "name": "python",
   "nbconvert_exporter": "python",
   "pygments_lexer": "ipython3",
   "version": "3.12.10"
  }
 },
 "nbformat": 4,
 "nbformat_minor": 5
}
