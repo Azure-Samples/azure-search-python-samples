{
 "cells": [
  {
   "cell_type": "markdown",
   "id": "5e3d4685",
   "metadata": {},
   "source": [
    "# Agent example in Azure AI Search\n",
    "\n",
    "\n",
    "1. Create index\n",
    "1. Ingest sample data\n",
    "1. Create agent\n",
    "1. Connect to agent service\n",
    "1. Implement agentic retrieval tool\n",
    "1. Run agent"
   ]
  }
 ],
 "metadata": {
  "language_info": {
   "name": "python"
  }
 },
 "nbformat": 4,
 "nbformat_minor": 5
}
