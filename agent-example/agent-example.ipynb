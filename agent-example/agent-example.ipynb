{
 "cells": [
  {
   "cell_type": "markdown",
   "id": "5e3d4685",
   "metadata": {},
   "source": [
    "## Agentic Retrieval in Azure AI Search and Azure AI Agent Service\n"
   ]
  },
  {
   "cell_type": "markdown",
   "id": "679bc80a",
   "metadata": {},
   "source": [
    "### 1. Load Connections"
   ]
  },
  {
   "cell_type": "code",
   "execution_count": 1,
   "id": "e42b4a10",
   "metadata": {},
   "outputs": [],
   "source": [
    "from dotenv import load_dotenv\n",
    "from azure.identity import DefaultAzureCredential, get_bearer_token_provider\n",
    "import os\n",
    "\n",
    "load_dotenv(override=True) # take environment variables from .env.\n",
    "\n",
    "# The following variables from your .env file are used in this notebook\n",
    "project_conn_str = os.environ[\"PROJECT_CONNECTION_STRING\"]\n",
    "agent_model = os.getenv(\"AGENT_MODEL\", \"gpt-4o\")\n",
    "endpoint = os.environ[\"AZURE_SEARCH_ENDPOINT\"]\n",
    "credential = DefaultAzureCredential()\n",
    "token_provider = get_bearer_token_provider(credential, \"https://search.azure.com/.default\")\n",
    "index_name = os.getenv(\"AZURE_SEARCH_INDEX\", \"earth_at_night\")\n",
    "azure_openai_endpoint = os.environ[\"AZURE_OPENAI_ENDPOINT\"]\n",
    "azure_openai_gpt_deployment = os.getenv(\"AZURE_OPENAI_GPT_DEPLOYMENT\", \"gpt-4o\")\n",
    "azure_openai_gpt_model = os.getenv(\"AZURE_OPENAI_GPT_MODEL\", \"gpt-4o\")\n",
    "azure_openai_embedding_deployment = os.getenv(\"AZURE_OPENAI_EMBEDDING_DEPLOYMENT\", \"text-embedding-3-large\")\n",
    "azure_openai_embedding_model = os.getenv(\"AZURE_OPENAI_EMBEDDING_MODEL\", \"text-embedding-3-large\")\n",
    "agent_name = os.getenv(\"AZURE_SEARCH_AGENT_NAME\", \"earth-search-agent\")\n",
    "api_version = \"2025-05-01-Preview\""
   ]
  },
  {
   "cell_type": "markdown",
   "id": "ea2ecdce",
   "metadata": {},
   "source": [
    "### 2. Create Search Index"
   ]
  },
  {
   "cell_type": "code",
   "execution_count": 2,
   "id": "91fd6810",
   "metadata": {},
   "outputs": [
    {
     "name": "stdout",
     "output_type": "stream",
     "text": [
      "Index 'earth_at_night' created or updated successfully\n"
     ]
    }
   ],
   "source": [
    "from azure.search.documents.indexes.models import SearchIndex, SearchField, VectorSearch, VectorSearchProfile, HnswAlgorithmConfiguration, AzureOpenAIVectorizer, AzureOpenAIVectorizerParameters, SemanticSearch, SemanticConfiguration, SemanticPrioritizedFields, SemanticField\n",
    "from azure.search.documents.indexes import SearchIndexClient\n",
    "\n",
    "index = SearchIndex(\n",
    "    name=index_name,\n",
    "    fields=[\n",
    "        SearchField(name=\"id\", type=\"Edm.String\", key=True, filterable=True, sortable=True, facetable=True),\n",
    "        SearchField(name=\"page_chunk\", type=\"Edm.String\", filterable=False, sortable=False, facetable=False),\n",
    "        SearchField(name=\"page_embedding_text_3_large\", type=\"Collection(Edm.Single)\", stored=False, vector_search_dimensions=3072, vector_search_profile_name=\"hnsw_text_3_large\"),\n",
    "        SearchField(name=\"page_number\", type=\"Edm.Int32\", filterable=True, sortable=True, facetable=True),\n",
    "        SearchField(name=\"chapter_number\", type=\"Edm.Int32\", filterable=True, sortable=True, facetable=True)\n",
    "    ],\n",
    "    vector_search=VectorSearch(\n",
    "        profiles=[VectorSearchProfile(name=\"hnsw_text_3_large\", algorithm_configuration_name=\"alg\", vectorizer_name=\"azure_openai_text_3_large\")],\n",
    "        algorithms=[HnswAlgorithmConfiguration(name=\"alg\")],\n",
    "        vectorizers=[\n",
    "            AzureOpenAIVectorizer(\n",
    "                vectorizer_name=\"azure_openai_text_3_large\",\n",
    "                parameters=AzureOpenAIVectorizerParameters(\n",
    "                    resource_url=azure_openai_endpoint,\n",
    "                    deployment_name=azure_openai_embedding_deployment,\n",
    "                    model_name=azure_openai_embedding_model\n",
    "                )\n",
    "            )\n",
    "        ]\n",
    "    ),\n",
    "    semantic_search=SemanticSearch(\n",
    "        default_configuration_name=\"semantic_config\",\n",
    "        configurations=[\n",
    "            SemanticConfiguration(\n",
    "                name=\"semantic_config\",\n",
    "                prioritized_fields=SemanticPrioritizedFields(\n",
    "                    content_fields=[\n",
    "                        SemanticField(field_name=\"page_chunk\")\n",
    "                    ]\n",
    "                )\n",
    "            )\n",
    "        ]\n",
    "    )\n",
    ")\n",
    "\n",
    "index_client = SearchIndexClient(endpoint=endpoint, credential=credential)\n",
    "index_client.create_or_update_index(index)\n",
    "print(f\"Index '{index_name}' created or updated successfully\")\n"
   ]
  },
  {
   "cell_type": "markdown",
   "id": "376b9785",
   "metadata": {},
   "source": [
    "### 3. Upload sample documents"
   ]
  },
  {
   "cell_type": "code",
   "execution_count": 3,
   "id": "f98f31e7",
   "metadata": {},
   "outputs": [
    {
     "name": "stdout",
     "output_type": "stream",
     "text": [
      "Documents uploaded to index 'earth_at_night'\n"
     ]
    }
   ],
   "source": [
    "import requests\n",
    "from azure.search.documents import SearchIndexingBufferedSender\n",
    "from azure.search.documents import SearchClient\n",
    "\n",
    "url = \"https://raw.githubusercontent.com/Azure-Samples/azure-search-sample-data/refs/heads/main/nasa-e-book/earth-at-night-json/documents.json\"\n",
    "documents = requests.get(url).json()\n",
    "\n",
    "with SearchIndexingBufferedSender(endpoint=endpoint, index_name=index_name, credential=credential) as client:\n",
    "    client.upload_documents(documents=documents)\n",
    "\n",
    "print(f\"Documents uploaded to index '{index_name}'\")\n"
   ]
  },
  {
   "cell_type": "markdown",
   "id": "e3d0081e",
   "metadata": {},
   "source": [
    "### 4. Create search agent"
   ]
  },
  {
   "cell_type": "code",
   "execution_count": 4,
   "id": "fbe31e32",
   "metadata": {},
   "outputs": [],
   "source": [
    "import requests\n",
    "\n",
    "create_agent_request = {\n",
    "    \"name\": agent_name,\n",
    "    \"targetIndexes\": [ { \"indexName\": index_name } ],\n",
    "    \"models\": [\n",
    "          {\n",
    "            \"kind\": \"azureOpenAI\",\n",
    "            \"azureOpenAIParameters\": {\n",
    "                \"resourceUri\": azure_openai_endpoint,\n",
    "                \"apiKey\": None,\n",
    "                \"deploymentId\": azure_openai_gpt_model,\n",
    "                \"modelName\": azure_openai_gpt_model\n",
    "            }\n",
    "        }\n",
    "    ]\n",
    "}\n",
    "\n",
    "response = requests.put(\n",
    "    url=f\"{endpoint}/agents/{agent_name}?api-version={api_version}\",\n",
    "    headers={ \"Authorization\": f\"Bearer {token_provider()}\" },\n",
    "    json=create_agent_request\n",
    ")\n",
    "response.raise_for_status()\n"
   ]
  },
  {
   "cell_type": "markdown",
   "id": "ff845de0",
   "metadata": {},
   "source": [
    "### 5. Create AI Agent"
   ]
  },
  {
   "cell_type": "code",
   "execution_count": 10,
   "id": "aa363122",
   "metadata": {},
   "outputs": [
    {
     "name": "stdout",
     "output_type": "stream",
     "text": [
      "{\n",
      "  \"id\": \"asst_tybwnQVSaJkQOuKHkFSll4Bb\",\n",
      "  \"object\": \"assistant\",\n",
      "  \"created_at\": 1746141946,\n",
      "  \"name\": \"earth-search-agent\",\n",
      "  \"description\": null,\n",
      "  \"model\": \"gpt-4o\",\n",
      "  \"instructions\": \"\\nAn Q&A agent that can answer questions about the Earth at night.\\nSources have a JSON format with a ref_id that must be cited in the answer.\\nIf you do not have the answer, respond with \\\"I don't know\\\".\\n\",\n",
      "  \"tools\": [],\n",
      "  \"top_p\": 1.0,\n",
      "  \"temperature\": 1.0,\n",
      "  \"tool_resources\": {},\n",
      "  \"metadata\": {},\n",
      "  \"response_format\": \"auto\"\n",
      "}\n"
     ]
    }
   ],
   "source": [
    "from azure.ai.projects import AIProjectClient\n",
    "import json\n",
    "project_client = AIProjectClient.from_connection_string(project_conn_str, credential=credential)\n",
    "\n",
    "instructions = \"\"\"\n",
    "An Q&A agent that can answer questions about the Earth at night.\n",
    "Sources have a JSON format with a ref_id that must be cited in the answer.\n",
    "If you do not have the answer, respond with \"I don't know\".\n",
    "\"\"\"\n",
    "agent = project_client.agents.create_agent(\n",
    "    model=agent_model,\n",
    "    name=agent_name,\n",
    "    instructions=instructions\n",
    ")\n",
    "print(json.dumps(agent.as_dict(), indent=2))"
   ]
  },
  {
   "cell_type": "markdown",
   "id": "f12a051e",
   "metadata": {},
   "source": [
    "### 6. Add Agentic Retrieval tool to AI Agent"
   ]
  },
  {
   "cell_type": "code",
   "execution_count": 11,
   "id": "de2ee775",
   "metadata": {},
   "outputs": [],
   "source": [
    "from azure.ai.projects.models import FunctionTool, ToolSet, ListSortOrder\n",
    "\n",
    "thread = project_client.agents.create_thread()\n",
    "retrieval_results = {}\n",
    "\n",
    "def agentic_retrieval() -> str:\n",
    "    \"\"\"\n",
    "        Searches a NASA e-book about images of Earth at night and other science related facts.\n",
    "        The returned string is in a JSON format that contains the reference id.\n",
    "        Be sure to use the same format in your agent's response\n",
    "    \"\"\"\n",
    "    # Take the last 5 messages in the conversation\n",
    "    messages = project_client.agents.list_messages(thread.id, limit=5, order=ListSortOrder.DESCENDING)\n",
    "    # Reverse the order so the most recent message is last\n",
    "    messages.data.reverse()\n",
    "    retrieval_request = {\n",
    "        \"messages\" : [ { \"role\": msg.role, \"content\": [ { \"text\": msg_content.text.value, \"type\": msg_content.type } for msg_content in msg.content ] } for msg in messages.data ],\n",
    "        \"targetIndexParams\" :  [\n",
    "            { \n",
    "                \"indexName\" : index_name,\n",
    "                \"rerankerThreshold\": 2.5\n",
    "            } \n",
    "        ]\n",
    "    }\n",
    "    response = requests.post(\n",
    "        url=f\"{endpoint}/agents/{agent_name}/retrieve?api-version={api_version}\",\n",
    "        headers={ \"Authorization\": f\"Bearer {token_provider()}\" },\n",
    "        json=retrieval_request\n",
    "    )\n",
    "    response.raise_for_status()\n",
    "    result = response.json()\n",
    "\n",
    "    # Associate the retrieval results with the last message in the conversation\n",
    "    last_message = messages.data[-1]\n",
    "    retrieval_results[last_message.id] = result\n",
    "\n",
    "    # Return the grounding response to the agent\n",
    "    return result[\"response\"][0][\"content\"][0][\"text\"]\n",
    "\n",
    "# Link to AI Agent Service function calling tutorial\n",
    "user_functions = { agentic_retrieval }\n",
    "functions = FunctionTool(user_functions)\n",
    "toolset = ToolSet()\n",
    "toolset.add(functions)\n",
    "project_client.agents.enable_auto_function_calls(toolset=toolset)"
   ]
  },
  {
   "cell_type": "markdown",
   "id": "6bf5b621",
   "metadata": {},
   "source": [
    "### 7. Start a chat with the agent"
   ]
  },
  {
   "cell_type": "code",
   "execution_count": null,
   "id": "f1fc04fc",
   "metadata": {},
   "outputs": [],
   "source": [
    "message = project_client.agents.create_message(\n",
    "    thread_id=thread.id,\n",
    "    role=\"user\",\n",
    "    content=\"\"\"\n",
    "        Why do suburban belts display larger December brightening than urban cores even though absolute light levels are higher downtown?\n",
    "        Why is the Phoenix nighttime street grid is so sharply visible from space, whereas large stretches of the interstate between midwestern cities remain comparatively dim?\n",
    "    \"\"\"\n",
    ")\n",
    "\n",
    "run = project_client.agents.create_and_process_run(thread_id=thread.id, agent_id=agent.id, toolset=toolset)\n",
    "if run.status == \"failed\":\n",
    "    raise RuntimeError(f\"Run failed: {run.last_error}\")\n",
    "output = project_client.agents.list_messages(thread_id=thread.id).get_last_text_message_by_role(\"assistant\").text.value\n",
    "\n",
    "print(\"Agent response:\", output.replace(\".\", \"\\n\"))\n"
   ]
  },
  {
   "cell_type": "markdown",
   "id": "aa88be35",
   "metadata": {},
   "source": [
    "### 7.1: Review retrieval activity and results"
   ]
  },
  {
   "cell_type": "code",
   "execution_count": null,
   "id": "7b90fefa",
   "metadata": {},
   "outputs": [
    {
     "name": "stdout",
     "output_type": "stream",
     "text": [
      "Retrieval activity\n",
      "[\n",
      "  {\n",
      "    \"type\": \"ModelQueryPlanning\",\n",
      "    \"id\": 0,\n",
      "    \"inputTokens\": 1359,\n",
      "    \"outputTokens\": 516\n",
      "  },\n",
      "  {\n",
      "    \"type\": \"AzureSearchQuery\",\n",
      "    \"id\": 1,\n",
      "    \"targetIndex\": \"earth_at_night\",\n",
      "    \"query\": {\n",
      "      \"search\": \"suburban belts December brightening compared to urban cores\",\n",
      "      \"filter\": null\n",
      "    },\n",
      "    \"queryTime\": \"2025-04-30T03:45:03.614Z\",\n",
      "    \"elapsedMs\": 437\n",
      "  },\n",
      "  {\n",
      "    \"type\": \"AzureSearchQuery\",\n",
      "    \"id\": 2,\n",
      "    \"targetIndex\": \"earth_at_night\",\n",
      "    \"query\": {\n",
      "      \"search\": \"Phoenix nighttime street grid visibility from space\",\n",
      "      \"filter\": null\n",
      "    },\n",
      "    \"queryTime\": \"2025-04-30T03:45:03.957Z\",\n",
      "    \"count\": 2,\n",
      "    \"elapsedMs\": 342\n",
      "  },\n",
      "  {\n",
      "    \"type\": \"AzureSearchQuery\",\n",
      "    \"id\": 3,\n",
      "    \"targetIndex\": \"earth_at_night\",\n",
      "    \"query\": {\n",
      "      \"search\": \"dim interstates between midwestern cities compared to Phoenix\",\n",
      "      \"filter\": null\n",
      "    },\n",
      "    \"queryTime\": \"2025-04-30T03:45:04.250Z\",\n",
      "    \"elapsedMs\": 293\n",
      "  }\n",
      "]\n",
      "Retrieval results\n",
      "[\n",
      "  {\n",
      "    \"type\": \"AzureSearchDoc\",\n",
      "    \"id\": \"0\",\n",
      "    \"activitySource\": 2,\n",
      "    \"docKey\": \"earth_at_night_508_page_104_verbalized\",\n",
      "    \"sourceData\": null\n",
      "  },\n",
      "  {\n",
      "    \"type\": \"AzureSearchDoc\",\n",
      "    \"id\": \"1\",\n",
      "    \"activitySource\": 2,\n",
      "    \"docKey\": \"earth_at_night_508_page_105_verbalized\",\n",
      "    \"sourceData\": null\n",
      "  }\n",
      "]\n"
     ]
    }
   ],
   "source": [
    "retrieval_results = retrieval_results.get(message.id)\n",
    "if retrieval_results is None:\n",
    "    raise RuntimeError(f\"No retrieval results found for message {message.id}\")\n",
    "\n",
    "print(\"Retrieval activity\")\n",
    "print(json.dumps(retrieval_results[\"activity\"], indent=2))\n",
    "print(\"Retrieval results\")\n",
    "print(json.dumps(retrieval_results[\"references\"], indent=2))"
   ]
  },
  {
   "cell_type": "markdown",
   "id": "4b6bfb9f",
   "metadata": {},
   "source": [
    "### 8. Continue the conversation"
   ]
  },
  {
   "cell_type": "code",
   "execution_count": null,
   "id": "d9478191",
   "metadata": {},
   "outputs": [
    {
     "name": "stdout",
     "output_type": "stream",
     "text": [
      "Agent response: To find lava at night, you can use the following methods:\n",
      "\n",
      "1\n",
      " **Infrared Imaging:**\n",
      "   - Satellite instruments such as the Thermal Infrared Sensor (TIRS) on Landsat 8 can detect the thermal (infrared) signature of lava\n",
      " This allows for the observation of both hot and cooling lava flows which are not visible in regular imagery ([ref: 2, 3, 4])\n",
      "\n",
      "   - Combining thermal imaging with nightlight data provides a comprehensive view of volcanic activity, distinguishing the hot lava from the cooler surroundings\n",
      "\n",
      "\n",
      "2\n",
      " **Visible Light Monitoring:**\n",
      "   - The Visible Infrared Imaging Radiometer Suite (VIIRS) Day/Night Band (DNB) on polar-orbiting satellites can detect faint sources of illumination such as moonlight, which can highlight glowing lava flows at night ([ref: 4, 5])\n",
      "\n",
      "   - The DNB can capture the glow from active vents and lava flows, making it possible to track volcanic activity even in the absence of sunlight\n",
      "\n",
      "\n",
      "3\n",
      " **Astronaut Photography:**\n",
      "   - Nighttime photographs taken by astronauts aboard the International Space Station (ISS) can capture the glow of lava against the backdrop of city lights, providing a visual reference for volcanic activity ([ref: 2, 3])\n",
      "\n",
      "\n",
      "Overall, infrared and visible light satellite imagery, combined with thermal data, are effective tools for locating and monitoring lava flows at night\n",
      "\n"
     ]
    }
   ],
   "source": [
    "message = project_client.agents.create_message(\n",
    "    thread_id=thread.id,\n",
    "    role=\"user\",\n",
    "    content=\"How do I find lava at night?\"\n",
    ")\n",
    "\n",
    "run = project_client.agents.create_and_process_run(thread_id=thread.id, agent_id=agent.id, toolset=toolset)\n",
    "if run.status == \"failed\":\n",
    "    raise RuntimeError(f\"Run failed: {run.last_error}\")\n",
    "\n",
    "output = project_client.agents.list_messages(thread_id=thread.id).get_last_text_message_by_role(\"assistant\").text.value\n",
    "print(\"Agent response:\", output.replace(\".\", \"\\n\"))\n"
   ]
  },
  {
   "cell_type": "markdown",
   "id": "b366ed37",
   "metadata": {},
   "source": [
    "### 8.1: Review retrieval activity and results"
   ]
  },
  {
   "cell_type": "code",
   "execution_count": null,
   "id": "c063c45e",
   "metadata": {},
   "outputs": [
    {
     "name": "stdout",
     "output_type": "stream",
     "text": [
      "Retrieval activity\n",
      "[\n",
      "  {\n",
      "    \"type\": \"ModelQueryPlanning\",\n",
      "    \"id\": 0,\n",
      "    \"inputTokens\": 1816,\n",
      "    \"outputTokens\": 291\n",
      "  },\n",
      "  {\n",
      "    \"type\": \"AzureSearchQuery\",\n",
      "    \"id\": 1,\n",
      "    \"targetIndex\": \"earth_at_night\",\n",
      "    \"query\": {\n",
      "      \"search\": \"locating lava flows at night\",\n",
      "      \"filter\": null\n",
      "    },\n",
      "    \"queryTime\": \"2025-04-30T03:45:39.901Z\",\n",
      "    \"count\": 6,\n",
      "    \"elapsedMs\": 19627\n",
      "  },\n",
      "  {\n",
      "    \"type\": \"AzureSearchQuery\",\n",
      "    \"id\": 2,\n",
      "    \"targetIndex\": \"earth_at_night\",\n",
      "    \"query\": {\n",
      "      \"search\": \"nighttime visibility of lava\",\n",
      "      \"filter\": null\n",
      "    },\n",
      "    \"queryTime\": \"2025-04-30T03:45:40.301Z\",\n",
      "    \"count\": 6,\n",
      "    \"elapsedMs\": 400\n",
      "  },\n",
      "  {\n",
      "    \"type\": \"AzureSearchQuery\",\n",
      "    \"id\": 3,\n",
      "    \"targetIndex\": \"earth_at_night\",\n",
      "    \"query\": {\n",
      "      \"search\": \"equipment for finding lava at night\",\n",
      "      \"filter\": null\n",
      "    },\n",
      "    \"queryTime\": \"2025-04-30T03:45:40.584Z\",\n",
      "    \"elapsedMs\": 282\n",
      "  }\n",
      "]\n",
      "Retrieval results\n",
      "[\n",
      "  {\n",
      "    \"type\": \"AzureSearchDoc\",\n",
      "    \"id\": \"0\",\n",
      "    \"activitySource\": 1,\n",
      "    \"docKey\": \"earth_at_night_508_page_64_verbalized\",\n",
      "    \"sourceData\": null\n",
      "  },\n",
      "  {\n",
      "    \"type\": \"AzureSearchDoc\",\n",
      "    \"id\": \"1\",\n",
      "    \"activitySource\": 1,\n",
      "    \"docKey\": \"earth_at_night_508_page_65_verbalized\",\n",
      "    \"sourceData\": null\n",
      "  },\n",
      "  {\n",
      "    \"type\": \"AzureSearchDoc\",\n",
      "    \"id\": \"2\",\n",
      "    \"activitySource\": 2,\n",
      "    \"docKey\": \"earth_at_night_508_page_66_verbalized\",\n",
      "    \"sourceData\": null\n",
      "  },\n",
      "  {\n",
      "    \"type\": \"AzureSearchDoc\",\n",
      "    \"id\": \"3\",\n",
      "    \"activitySource\": 1,\n",
      "    \"docKey\": \"earth_at_night_508_page_60_verbalized\",\n",
      "    \"sourceData\": null\n",
      "  },\n",
      "  {\n",
      "    \"type\": \"AzureSearchDoc\",\n",
      "    \"id\": \"4\",\n",
      "    \"activitySource\": 2,\n",
      "    \"docKey\": \"earth_at_night_508_page_46_verbalized\",\n",
      "    \"sourceData\": null\n",
      "  },\n",
      "  {\n",
      "    \"type\": \"AzureSearchDoc\",\n",
      "    \"id\": \"5\",\n",
      "    \"activitySource\": 1,\n",
      "    \"docKey\": \"earth_at_night_508_page_44_verbalized\",\n",
      "    \"sourceData\": null\n",
      "  }\n",
      "]\n"
     ]
    }
   ],
   "source": [
    "retrieval_results = retrieval_results.get(message.id)\n",
    "if retrieval_results is None:\n",
    "    raise RuntimeError(f\"No retrieval results found for message {message.id}\")\n",
    "\n",
    "print(\"Retrieval activity\")\n",
    "print(json.dumps(retrieval_results[\"activity\"], indent=2))\n",
    "print(\"Retrieval results\")\n",
    "print(json.dumps(retrieval_results[\"references\"], indent=2))"
   ]
  }
 ],
 "metadata": {
  "kernelspec": {
   "display_name": ".venv",
   "language": "python",
   "name": "python3"
  },
  "language_info": {
   "codemirror_mode": {
    "name": "ipython",
    "version": 3
   },
   "file_extension": ".py",
   "mimetype": "text/x-python",
   "name": "python",
   "nbconvert_exporter": "python",
   "pygments_lexer": "ipython3",
   "version": "3.12.10"
  }
 },
 "nbformat": 4,
 "nbformat_minor": 5
}
