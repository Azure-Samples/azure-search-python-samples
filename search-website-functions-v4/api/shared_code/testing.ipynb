{
 "cells": [
  {
   "cell_type": "code",
   "execution_count": null,
   "metadata": {},
   "outputs": [],
   "source": [
    "\"\"\"GET https://[service name].search.windows.net/indexes/[index name]/docs/autocomplete?[query parameters]\n",
    "  Content-Type: application/json   \n",
    "  api-key: [admin or query key]\"\"\"\n",
    "\n",
    "\"\"\"GET /indexes/insurance/docs/autocomplete?search=washington%20medic&$top=3&suggesterName=sg&api-version=2020-06-30\"\"\""
   ]
  },
  {
   "cell_type": "code",
   "execution_count": 4,
   "metadata": {},
   "outputs": [
    {
     "name": "stderr",
     "output_type": "stream",
     "text": [
      "/Users/enghui.lau/Documents/Work/ifast1-azure-search-python-samples/.venv/lib/python3.11/site-packages/urllib3/connectionpool.py:1099: InsecureRequestWarning: Unverified HTTPS request is being made to host 'aisrch-poc-uscentral-01.search.windows.net'. Adding certificate verification is strongly advised. See: https://urllib3.readthedocs.io/en/latest/advanced-usage.html#tls-warnings\n",
      "  warnings.warn(\n"
     ]
    },
    {
     "data": {
      "text/plain": [
       "<Response [403]>"
      ]
     },
     "execution_count": 4,
     "metadata": {},
     "output_type": "execute_result"
    }
   ],
   "source": [
    "import requests\n",
    "api_key = 'XE8nyqGGhtVXqmSlsrJPW0yEMiHocP7dWwktdCSclpAzSeATbtHu'\n",
    "service_name = 'aisrch-poc-uscentral-01'\n",
    "index_name = 'good-books'\n",
    "api_version = '2023-11-01'\n",
    "\n",
    "# Base URL\n",
    "base_url = f\"https://{service_name}.search.windows.net/indexes/{index_name}/docs/autocomplete\"\n",
    "\n",
    "headers = {\n",
    "    'Content-Type': 'application/json',\n",
    "    'api-key': api_key\n",
    "}\n",
    "params = {\n",
    "    \"\"\n",
    "    'search': \"cod\",\n",
    "    '$top': 3,\n",
    "    'suggesterName': \"sg\",\n",
    "    'api-version': \"2023-11-01\"\n",
    "}\n",
    "resp = requests.get(url, headers=headers, params=params)\n",
    "resp"
   ]
  }
 ],
 "metadata": {
  "kernelspec": {
   "display_name": ".venv",
   "language": "python",
   "name": "python3"
  },
  "language_info": {
   "codemirror_mode": {
    "name": "ipython",
    "version": 3
   },
   "file_extension": ".py",
   "mimetype": "text/x-python",
   "name": "python",
   "nbconvert_exporter": "python",
   "pygments_lexer": "ipython3",
   "version": "3.11.9"
  }
 },
 "nbformat": 4,
 "nbformat_minor": 2
}
