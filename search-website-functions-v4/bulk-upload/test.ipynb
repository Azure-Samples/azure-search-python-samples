{
 "cells": [
  {
   "cell_type": "code",
   "execution_count": 2,
   "metadata": {},
   "outputs": [
    {
     "data": {
      "text/plain": [
       "{'product_type': 'STOCK',\n",
       " 'product_id': 40407350,\n",
       " 'product_name': '$ 9R',\n",
       " 'stock_code': '1Y1'}"
      ]
     },
     "execution_count": 2,
     "metadata": {},
     "output_type": "execute_result"
    }
   ],
   "source": [
    "import json\n",
    "\n",
    "batch_size = 1000\n",
    "with open(\"./dict_prodName.json\") as file:\n",
    "    product_data = json.load(file)\n",
    "product_data[1]"
   ]
  },
  {
   "cell_type": "code",
   "execution_count": 11,
   "metadata": {},
   "outputs": [
    {
     "data": {
      "text/plain": [
       "{'name': 'fsmone-sg',\n",
       " 'fields': [{'name': 'product_type',\n",
       "   'type': 'Edm.String',\n",
       "   'facetable': False,\n",
       "   'filterable': False,\n",
       "   'retrievable': True,\n",
       "   'sortable': False,\n",
       "   'analyzer': 'standard.lucene',\n",
       "   'indexAnalyzer': None,\n",
       "   'searchAnalyzer': None,\n",
       "   'synonymMaps': [],\n",
       "   'fields': []},\n",
       "  {'name': 'product_id',\n",
       "   'type': 'Edm.Int64',\n",
       "   'facetable': False,\n",
       "   'filterable': False,\n",
       "   'key': True,\n",
       "   'retrievable': True,\n",
       "   'searchable': True,\n",
       "   'sortable': False,\n",
       "   'analyzer': 'standard.lucene',\n",
       "   'indexAnalyzer': None,\n",
       "   'searchAnalyzer': None,\n",
       "   'synonymMaps': [],\n",
       "   'fields': []},\n",
       "  {'name': 'product_name',\n",
       "   'type': 'Edm.String',\n",
       "   'facetable': False,\n",
       "   'filterable': False,\n",
       "   'key': False,\n",
       "   'retrievable': True,\n",
       "   'searchable': True,\n",
       "   'sortable': False,\n",
       "   'analyzer': 'standard.lucene',\n",
       "   'indexAnalyzer': None,\n",
       "   'searchAnalyzer': None,\n",
       "   'synonymMaps': [],\n",
       "   'fields': []},\n",
       "  {'name': 'stock_code',\n",
       "   'type': 'Edm.String',\n",
       "   'facetable': False,\n",
       "   'filterable': False,\n",
       "   'key': False,\n",
       "   'retrievable': True,\n",
       "   'searchable': True,\n",
       "   'sortable': False,\n",
       "   'analyzer': 'standard.lucene',\n",
       "   'indexAnalyzer': None,\n",
       "   'searchAnalyzer': None,\n",
       "   'synonymMaps': [],\n",
       "   'fields': []}],\n",
       " 'suggesters': [{'name': 'sg',\n",
       "   'searchMode': 'analyzingInfixMatching',\n",
       "   'sourceFields': ['product_name']}],\n",
       " 'scoringProfiles': [],\n",
       " 'defaultScoringProfile': '',\n",
       " 'corsOptions': {'allowedOrigins': ['*'], 'maxAgeInSeconds': 300},\n",
       " 'analyzers': [],\n",
       " 'charFilters': [],\n",
       " 'tokenFilters': [],\n",
       " 'tokenizers': [],\n",
       " 'encryptionKey': None}"
      ]
     },
     "execution_count": 11,
     "metadata": {},
     "output_type": "execute_result"
    }
   ],
   "source": [
    "def get_schema_data(schema, url=False):\n",
    "    if not url:\n",
    "        with open(schema) as json_file:\n",
    "            schema_data = json.load(json_file)\n",
    "            return schema_data\n",
    "    else:\n",
    "        data_from_url = requests.get(schema)\n",
    "        schema_data = json.loads(data_from_url.content)\n",
    "        return schema_data\n",
    "    \n",
    "schema_data = get_schema_data(\"./dict_prodName-schema.json\")\n",
    "schema_data"
   ]
  },
  {
   "cell_type": "code",
   "execution_count": 14,
   "metadata": {},
   "outputs": [
    {
     "data": {
      "text/plain": [
       "[{'name': 'product_type',\n",
       "  'type': 'Edm.String',\n",
       "  'facetable': False,\n",
       "  'filterable': False,\n",
       "  'retrievable': True,\n",
       "  'sortable': False,\n",
       "  'analyzer': 'standard.lucene',\n",
       "  'indexAnalyzer': None,\n",
       "  'searchAnalyzer': None,\n",
       "  'synonymMaps': [],\n",
       "  'fields': []},\n",
       " {'name': 'product_id',\n",
       "  'type': 'Edm.Int64',\n",
       "  'facetable': False,\n",
       "  'filterable': False,\n",
       "  'key': True,\n",
       "  'retrievable': True,\n",
       "  'searchable': True,\n",
       "  'sortable': False,\n",
       "  'analyzer': 'standard.lucene',\n",
       "  'indexAnalyzer': None,\n",
       "  'searchAnalyzer': None,\n",
       "  'synonymMaps': [],\n",
       "  'fields': []},\n",
       " {'name': 'product_name',\n",
       "  'type': 'Edm.String',\n",
       "  'facetable': False,\n",
       "  'filterable': False,\n",
       "  'key': False,\n",
       "  'retrievable': True,\n",
       "  'searchable': True,\n",
       "  'sortable': False,\n",
       "  'analyzer': 'standard.lucene',\n",
       "  'indexAnalyzer': None,\n",
       "  'searchAnalyzer': None,\n",
       "  'synonymMaps': [],\n",
       "  'fields': []},\n",
       " {'name': 'stock_code',\n",
       "  'type': 'Edm.String',\n",
       "  'facetable': False,\n",
       "  'filterable': False,\n",
       "  'key': False,\n",
       "  'retrievable': True,\n",
       "  'searchable': True,\n",
       "  'sortable': False,\n",
       "  'analyzer': 'standard.lucene',\n",
       "  'indexAnalyzer': None,\n",
       "  'searchAnalyzer': None,\n",
       "  'synonymMaps': [],\n",
       "  'fields': []}]"
      ]
     },
     "execution_count": 14,
     "metadata": {},
     "output_type": "execute_result"
    }
   ],
   "source": [
    "from azure.search.documents.indexes.models import SearchIndex\n",
    "index = SearchIndex(\n",
    "    name=\"testing\",\n",
    "    fields=schema_data[\"fields\"],\n",
    "    suggesters=schema_data[\"suggesters\"],\n",
    ")\n",
    "index.fields"
   ]
  },
  {
   "cell_type": "code",
   "execution_count": 15,
   "metadata": {},
   "outputs": [
    {
     "name": "stderr",
     "output_type": "stream",
     "text": [
      "/workspaces/ifast1-azure-search-python-samples/.venv/lib/python3.10/site-packages/urllib3/connectionpool.py:1099: InsecureRequestWarning: Unverified HTTPS request is being made to host 'aisrch-poc-uscentral-01.search.windows.net'. Adding certificate verification is strongly advised. See: https://urllib3.readthedocs.io/en/latest/advanced-usage.html#tls-warnings\n",
      "  warnings.warn(\n"
     ]
    },
    {
     "name": "stdout",
     "output_type": "stream",
     "text": [
      "{'@odata.context': \"https://aisrch-poc-uscentral-01.search.windows.net/indexes('fsmone-sg123')/$metadata#Collection(Microsoft.Azure.Search.V2023_11_01.AutocompleteItem)\", 'value': [{'text': 'msft', 'queryPlusText': 'msft'}, {'text': 'msfssp', 'queryPlusText': 'msfssp'}]}\n",
      "['msft', 'msfssp']\n"
     ]
    }
   ],
   "source": [
    "import requests\n",
    "\n",
    "# Replace these variables with your actual values\n",
    "api_key = 'XE8nyqGGhtVXqmSlsrJPW0yEMiHocP7dWwktdCSclpAzSeATbtHu'\n",
    "service_name = 'aisrch-poc-uscentral-01'\n",
    "index_name = 'fsmone-sg123'\n",
    "api_version = '2023-11-01'\n",
    "\n",
    "# Base URL\n",
    "base_url = f\"https://{service_name}.search.windows.net/indexes/{index_name}/docs/autocomplete\"\n",
    "\n",
    "# Query parameters\n",
    "params = {\n",
    "    'search': 'msf',\n",
    "    '$top': 5,\n",
    "    'suggesterName': 'sg',\n",
    "    'api-version': api_version\n",
    "}\n",
    "\n",
    "# Set the headers\n",
    "headers = {\n",
    "    'Content-Type': 'application/json',\n",
    "    'api-key': api_key\n",
    "}\n",
    "\n",
    "# Make the GET request\n",
    "response = requests.get(base_url, headers=headers, params=params, verify=False)\n",
    "\n",
    "# Check if the request was successful\n",
    "if response.status_code == 200:\n",
    "    # Parse the JSON response\n",
    "    results = response.json()\n",
    "    print(results)\n",
    "    print([value[\"queryPlusText\"] for value in results[\"value\"]])\n",
    "else:\n",
    "    print(f\"Request failed with status code {response.status_code}\")\n",
    "    print(response.text)\n"
   ]
  },
  {
   "cell_type": "code",
   "execution_count": null,
   "metadata": {},
   "outputs": [],
   "source": []
  }
 ],
 "metadata": {
  "kernelspec": {
   "display_name": ".venv",
   "language": "python",
   "name": "python3"
  },
  "language_info": {
   "codemirror_mode": {
    "name": "ipython",
    "version": 3
   },
   "file_extension": ".py",
   "mimetype": "text/x-python",
   "name": "python",
   "nbconvert_exporter": "python",
   "pygments_lexer": "ipython3",
   "version": "3.10.13"
  }
 },
 "nbformat": 4,
 "nbformat_minor": 2
}
