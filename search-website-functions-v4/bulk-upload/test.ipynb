{
 "cells": [
  {
   "cell_type": "code",
<<<<<<< HEAD
   "execution_count": 2,
=======
   "execution_count": 1,
>>>>>>> refs/remotes/origin/main
   "metadata": {},
   "outputs": [
    {
     "data": {
      "text/plain": [
<<<<<<< HEAD
       "<Response [400]>"
      ]
     },
     "execution_count": 2,
=======
       "{'product_type': 'STOCK',\n",
       " 'product_id': 40407350,\n",
       " 'product_name': '$ 9R',\n",
       " 'stock_code': '1Y1'}"
      ]
     },
     "execution_count": 1,
>>>>>>> refs/remotes/origin/main
     "metadata": {},
     "output_type": "execute_result"
    }
   ],
   "source": [
<<<<<<< HEAD
    "import requests\n",
    "url = \"https://aisrch-poc-uscentral-01.search.windows.net/indexes/good-books/docs/autocomplete?search=cod&$top=3&suggesterName=sg&api-version=2023-11-01\"\n",
    "headers = {\n",
    "    'Content-Type': 'application/json',\n",
    "    'api-key': \"XE8nyqGGhtVXqmSlsrJPW0yEMiHocP7dWwktdCSclpAzSeATbtHu\"\n",
    "}\n",
    "params = {\n",
    "    \"\"\n",
    "    'search': \"cod\",\n",
    "    '$top': 3,\n",
    "    'suggesterName': \"sg\",\n",
    "    'api-version': \"2023-11-01\"\n",
    "}\n",
    "resp = requests.get(url, headers=headers, params=params)\n",
    "resp"
   ]
  },
  {
   "cell_type": "code",
   "execution_count": null,
   "metadata": {},
   "outputs": [],
   "source": []
=======
    "import json\n",
    "\n",
    "with open(\"./dict_prodName.json\") as file:\n",
    "    product_data = json.load(file)\n",
    "\n",
    "product_data[1]"
   ]
>>>>>>> refs/remotes/origin/main
  }
 ],
 "metadata": {
  "kernelspec": {
   "display_name": ".venv",
   "language": "python",
   "name": "python3"
  },
  "language_info": {
   "codemirror_mode": {
    "name": "ipython",
    "version": 3
   },
   "file_extension": ".py",
   "mimetype": "text/x-python",
   "name": "python",
   "nbconvert_exporter": "python",
   "pygments_lexer": "ipython3",
<<<<<<< HEAD
   "version": "3.10.13"
=======
   "version": "3.11.9"
>>>>>>> refs/remotes/origin/main
  }
 },
 "nbformat": 4,
 "nbformat_minor": 2
}
