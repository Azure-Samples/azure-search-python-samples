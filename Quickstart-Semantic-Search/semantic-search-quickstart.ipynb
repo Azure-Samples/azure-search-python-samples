{
 "cells": [
  {
   "attachments": {},
   "cell_type": "markdown",
   "metadata": {},
   "source": [
    "# Semantic ranking using the azure.search.documents library in the Azure SDK for Python"
   ]
  },
  {
   "attachments": {},
   "cell_type": "markdown",
   "metadata": {},
   "source": [
    "This notebook demonstrates a semantic configuration in a search index and the semanti query syntax for reranking search results."
   ]
  },
  {
   "cell_type": "markdown",
   "metadata": {},
   "source": [
    "## Install packages and set variables"
   ]
  },
  {
   "cell_type": "code",
   "execution_count": null,
   "metadata": {},
   "outputs": [],
   "source": [
    "! pip install azure-search-documents==11.6.0b1 --quiet\n",
    "! pip install azure-identity --quiet\n",
    "! pip install python-dotenv --quiet"
   ]
  },
  {
   "cell_type": "code",
   "execution_count": null,
   "metadata": {},
   "outputs": [],
   "source": [
    "# Provide variables\n",
    "search_endpoint: str = \"PUT-YOUR-SEARCH-ENDPOINT-HERE\"\n",
    "search_api_key: str = \"PUT-YOUR-SEARCH-API-KEY-HERE\"\n",
    "index_name: str = \"hotels-quickstart\""
   ]
  },
  {
   "attachments": {},
   "cell_type": "markdown",
   "metadata": {},
   "source": [
    "## Create an index"
   ]
  },
  {
   "cell_type": "code",
   "execution_count": null,
   "metadata": {},
   "outputs": [],
   "source": [
    "from azure.core.credentials import AzureKeyCredential\n",
    "\n",
    "credential = AzureKeyCredential(search_api_key)\n",
    "\n",
    "from azure.search.documents.indexes import SearchIndexClient\n",
    "from azure.search.documents import SearchClient\n",
    "from azure.search.documents.indexes.models import (\n",
    "    ComplexField,\n",
    "    SimpleField,\n",
    "    SearchFieldDataType,\n",
    "    SearchableField,\n",
    "    SearchIndex,\n",
    "    SemanticConfiguration,\n",
    "    SemanticField,\n",
    "    SemanticPrioritizedFields,\n",
    "    SemanticSearch\n",
    ")\n",
    "\n",
    "# Create a search schema\n",
    "index_client = SearchIndexClient(\n",
    "    endpoint=search_endpoint, credential=credential)\n",
    "fields = [\n",
    "        SimpleField(name=\"HotelId\", type=SearchFieldDataType.String, key=True),\n",
    "        SearchableField(name=\"HotelName\", type=SearchFieldDataType.String, sortable=True),\n",
    "        SearchableField(name=\"Description\", type=SearchFieldDataType.String, analyzer_name=\"en.lucene\"),\n",
    "        SearchableField(name=\"Description_fr\", type=SearchFieldDataType.String, analyzer_name=\"fr.lucene\"),\n",
    "        SearchableField(name=\"Category\", type=SearchFieldDataType.String, facetable=True, filterable=True, sortable=True),\n",
    "\n",
    "        SearchableField(name=\"Tags\", collection=True, type=SearchFieldDataType.String, facetable=True, filterable=True),\n",
    "\n",
    "        SimpleField(name=\"ParkingIncluded\", type=SearchFieldDataType.Boolean, facetable=True, filterable=True, sortable=True),\n",
    "        SimpleField(name=\"LastRenovationDate\", type=SearchFieldDataType.DateTimeOffset, facetable=True, filterable=True, sortable=True),\n",
    "        SimpleField(name=\"Rating\", type=SearchFieldDataType.Double, facetable=True, filterable=True, sortable=True),\n",
    "\n",
    "        ComplexField(name=\"Address\", fields=[\n",
    "            SearchableField(name=\"StreetAddress\", type=SearchFieldDataType.String),\n",
    "            SearchableField(name=\"City\", type=SearchFieldDataType.String, facetable=True, filterable=True, sortable=True),\n",
    "            SearchableField(name=\"StateProvince\", type=SearchFieldDataType.String, facetable=True, filterable=True, sortable=True),\n",
    "            SearchableField(name=\"PostalCode\", type=SearchFieldDataType.String, facetable=True, filterable=True, sortable=True),\n",
    "            SearchableField(name=\"Country\", type=SearchFieldDataType.String, facetable=True, filterable=True, sortable=True),\n",
    "        ])\n",
    "    ]\n",
    "\n",
    "semantic_config = SemanticConfiguration(\n",
    "    name=\"my-semantic-config\",\n",
    "    prioritized_fields=SemanticPrioritizedFields(\n",
    "        title_field=SemanticField(field_name=\"HotelName\"),\n",
    "        keywords_fields=[SemanticField(field_name=\"Category\")],\n",
    "        content_fields=[SemanticField(field_name=\"Description\")]\n",
    "    )\n",
    ")\n",
    "\n",
    "# Create the semantic settings with the configuration\n",
    "semantic_search = SemanticSearch(configurations=[semantic_config])\n",
    "\n",
    "semantic_settings = SemanticSearch(configurations=[semantic_config])\n",
    "scoring_profiles = []\n",
    "suggester = [{'name': 'sg', 'source_fields': ['Tags', 'Address/City', 'Address/Country']}]\n",
    "\n",
    "# Create the search index with the semantic settings\n",
    "index = SearchIndex(name=index_name, fields=fields, suggesters=suggester, scoring_profiles=scoring_profiles, semantic_search=semantic_search)\n",
    "result = index_client.create_or_update_index(index)\n",
    "print(f' {result.name} created')"
   ]
  },
  {
   "attachments": {},
   "cell_type": "markdown",
   "metadata": {},
   "source": [
    "## Create a documents payload"
   ]
  },
  {
   "cell_type": "code",
   "execution_count": null,
   "metadata": {},
   "outputs": [],
   "source": [
    "# Create a documents payload\n",
    "documents = [\n",
    "    {\n",
    "    \"@search.action\": \"upload\",\n",
    "    \"HotelId\": \"1\",\n",
    "    \"HotelName\": \"Secret Point Motel\",\n",
    "    \"Description\": \"The hotel is ideally located on the main commercial artery of the city in the heart of New York. A few minutes away is Time's Square and the historic centre of the city, as well as other places of interest that make New York one of America's most attractive and cosmopolitan cities.\",\n",
    "    \"Description_fr\": \"L'hôtel est idéalement situé sur la principale artère commerciale de la ville en plein cœur de New York. A quelques minutes se trouve la place du temps et le centre historique de la ville, ainsi que d'autres lieux d'intérêt qui font de New York l'une des villes les plus attractives et cosmopolites de l'Amérique.\",\n",
    "    \"Category\": \"Boutique\",\n",
    "    \"Tags\": [ \"pool\", \"air conditioning\", \"concierge\" ],\n",
    "    \"ParkingIncluded\": \"false\",\n",
    "    \"LastRenovationDate\": \"1970-01-18T00:00:00Z\",\n",
    "    \"Rating\": 3.60,\n",
    "    \"Address\": {\n",
    "        \"StreetAddress\": \"677 5th Ave\",\n",
    "        \"City\": \"New York\",\n",
    "        \"StateProvince\": \"NY\",\n",
    "        \"PostalCode\": \"10022\",\n",
    "        \"Country\": \"USA\"\n",
    "        }\n",
    "    },\n",
    "    {\n",
    "    \"@search.action\": \"upload\",\n",
    "    \"HotelId\": \"2\",\n",
    "    \"HotelName\": \"Twin Dome Motel\",\n",
    "    \"Description\": \"The hotel is situated in a  nineteenth century plaza, which has been expanded and renovated to the highest architectural standards to create a modern, functional and first-class hotel in which art and unique historical elements coexist with the most modern comforts.\",\n",
    "    \"Description_fr\": \"L'hôtel est situé dans une place du XIXe siècle, qui a été agrandie et rénovée aux plus hautes normes architecturales pour créer un hôtel moderne, fonctionnel et de première classe dans lequel l'art et les éléments historiques uniques coexistent avec le confort le plus moderne.\",\n",
    "    \"Category\": \"Boutique\",\n",
    "    \"Tags\": [ \"pool\", \"free wifi\", \"concierge\" ],\n",
    "    \"ParkingIncluded\": \"false\",\n",
    "    \"LastRenovationDate\": \"1979-02-18T00:00:00Z\",\n",
    "    \"Rating\": 3.60,\n",
    "    \"Address\": {\n",
    "        \"StreetAddress\": \"140 University Town Center Dr\",\n",
    "        \"City\": \"Sarasota\",\n",
    "        \"StateProvince\": \"FL\",\n",
    "        \"PostalCode\": \"34243\",\n",
    "        \"Country\": \"USA\"\n",
    "        }\n",
    "    },\n",
    "    {\n",
    "    \"@search.action\": \"upload\",\n",
    "    \"HotelId\": \"3\",\n",
    "    \"HotelName\": \"Triple Landscape Hotel\",\n",
    "    \"Description\": \"The Hotel stands out for its gastronomic excellence under the management of William Dough, who advises on and oversees all of the Hotel's restaurant services.\",\n",
    "    \"Description_fr\": \"L'hôtel est situé dans une place du XIXe siècle, qui a été agrandie et rénovée aux plus hautes normes architecturales pour créer un hôtel moderne, fonctionnel et de première classe dans lequel l'art et les éléments historiques uniques coexistent avec le confort le plus moderne.\",\n",
    "    \"Category\": \"Resort and Spa\",\n",
    "    \"Tags\": [ \"air conditioning\", \"bar\", \"continental breakfast\" ],\n",
    "    \"ParkingIncluded\": \"true\",\n",
    "    \"LastRenovationDate\": \"2015-09-20T00:00:00Z\",\n",
    "    \"Rating\": 4.80,\n",
    "    \"Address\": {\n",
    "        \"StreetAddress\": \"3393 Peachtree Rd\",\n",
    "        \"City\": \"Atlanta\",\n",
    "        \"StateProvince\": \"GA\",\n",
    "        \"PostalCode\": \"30326\",\n",
    "        \"Country\": \"USA\"\n",
    "        }\n",
    "    },\n",
    "    {\n",
    "    \"@search.action\": \"upload\",\n",
    "    \"HotelId\": \"4\",\n",
    "    \"HotelName\": \"Sublime Cliff Hotel\",\n",
    "    \"Description\": \"Sublime Cliff Hotel is located in the heart of the historic center of Sublime in an extremely vibrant and lively area within short walking distance to the sites and landmarks of the city and is surrounded by the extraordinary beauty of churches, buildings, shops and monuments. Sublime Cliff is part of a lovingly restored 1800 palace.\",\n",
    "    \"Description_fr\": \"Le sublime Cliff Hotel est situé au coeur du centre historique de sublime dans un quartier extrêmement animé et vivant, à courte distance de marche des sites et monuments de la ville et est entouré par l'extraordinaire beauté des églises, des bâtiments, des commerces et Monuments. Sublime Cliff fait partie d'un Palace 1800 restauré avec amour.\",\n",
    "    \"Category\": \"Boutique\",\n",
    "    \"Tags\": [ \"concierge\", \"view\", \"24-hour front desk service\" ],\n",
    "    \"ParkingIncluded\": \"true\",\n",
    "    \"LastRenovationDate\": \"1960-02-06T00:00:00Z\",\n",
    "    \"Rating\": 4.60,\n",
    "    \"Address\": {\n",
    "        \"StreetAddress\": \"7400 San Pedro Ave\",\n",
    "        \"City\": \"San Antonio\",\n",
    "        \"StateProvince\": \"TX\",\n",
    "        \"PostalCode\": \"78216\",\n",
    "        \"Country\": \"USA\"\n",
    "        }\n",
    "    }\n",
    "]"
   ]
  },
  {
   "attachments": {},
   "cell_type": "markdown",
   "metadata": {},
   "source": [
    "## Upload documents"
   ]
  },
  {
   "cell_type": "code",
   "execution_count": null,
   "metadata": {},
   "outputs": [],
   "source": [
    "# Upload documents to the index\n",
    "search_client = SearchClient(endpoint=search_endpoint,\n",
    "                      index_name=index_name,\n",
    "                      credential=credential)\n",
    "try:\n",
    "    result = search_client.upload_documents(documents=documents)\n",
    "    print(\"Upload of new document succeeded: {}\".format(result[0].succeeded))\n",
    "except Exception as ex:\n",
    "    print (ex.message)\n",
    "\n",
    "\n",
    "    index_client = SearchIndexClient(\n",
    "    endpoint=search_endpoint, credential=credential)"
   ]
  },
  {
   "attachments": {},
   "cell_type": "markdown",
   "metadata": {},
   "source": [
    "## Run your first query"
   ]
  },
  {
   "cell_type": "code",
   "execution_count": null,
   "metadata": {},
   "outputs": [],
   "source": [
    "# Run an empty query (returns selected fields, all documents)\n",
    "results =  search_client.search(query_type='simple',\n",
    "    search_text=\"*\" ,\n",
    "    select='HotelName,Description',\n",
    "    include_total_count=True)\n",
    "\n",
    "print ('Total Documents Matching Query:', results.get_count())\n",
    "for result in results:\n",
    "    print(result[\"@search.score\"])\n",
    "    print(result[\"HotelName\"])\n",
    "    print(f\"Description: {result['Description']}\")"
   ]
  },
  {
   "attachments": {},
   "cell_type": "markdown",
   "metadata": {},
   "source": [
    "## Run a term query"
   ]
  },
  {
   "cell_type": "code",
   "execution_count": null,
   "metadata": {},
   "outputs": [],
   "source": [
    "# Run a text query (returns a BM25-scored result set)\n",
    "results =  search_client.search(query_type='simple',\n",
    "    search_text=\"what hotel has a good restaurant on site\" ,\n",
    "    select='HotelName,HotelId,Description',\n",
    "    include_total_count=True)\n",
    "    \n",
    "for result in results:\n",
    "    print(result[\"@search.score\"])\n",
    "    print(result[\"HotelName\"])\n",
    "    print(f\"Description: {result['Description']}\")"
   ]
  },
  {
   "attachments": {},
   "cell_type": "markdown",
   "metadata": {},
   "source": [
    "## Run a semantic query"
   ]
  },
  {
   "cell_type": "code",
   "execution_count": null,
   "metadata": {},
   "outputs": [],
   "source": [
    "# Runs a semantic query (runs a BM25-ranked query and promotes the most relevant matches to the top)\n",
    "results =  search_client.search(query_type='semantic', semantic_configuration_name='my-semantic-config',\n",
    "    search_text=\"what hotel has a good restaurant on site\", \n",
    "    select='HotelName,Description,Category', query_caption='extractive')\n",
    "\n",
    "for result in results:\n",
    "    print(result[\"@search.reranker_score\"])\n",
    "    print(result[\"HotelName\"])\n",
    "    print(f\"Description: {result['Description']}\")\n",
    "\n",
    "    captions = result[\"@search.captions\"]\n",
    "    if captions:\n",
    "        caption = captions[0]\n",
    "        if caption.highlights:\n",
    "            print(f\"Caption: {caption.highlights}\\n\")\n",
    "        else:\n",
    "            print(f\"Caption: {caption.text}\\n\")"
   ]
  },
  {
   "cell_type": "markdown",
   "metadata": {},
   "source": [
    "## Return semantic answers"
   ]
  },
  {
   "cell_type": "code",
   "execution_count": null,
   "metadata": {},
   "outputs": [],
   "source": [
    "# Run a semantic query that returns semantic answers  \n",
    "results =  search_client.search(query_type='semantic', semantic_configuration_name='my-semantic-config',\n",
    " search_text=\"what hotel is in a historic building\",\n",
    " select='HotelName,Description,Category', query_caption='extractive', query_answer=\"extractive\",)\n",
    "\n",
    "semantic_answers = results.get_answers()\n",
    "for answer in semantic_answers:\n",
    "    if answer.highlights:\n",
    "        print(f\"Semantic Answer: {answer.highlights}\")\n",
    "    else:\n",
    "        print(f\"Semantic Answer: {answer.text}\")\n",
    "    print(f\"Semantic Answer Score: {answer.score}\\n\")\n",
    "\n",
    "for result in results:\n",
    "    print(result[\"@search.reranker_score\"])\n",
    "    print(result[\"HotelName\"])\n",
    "    print(f\"Description: {result['Description']}\")\n",
    "\n",
    "    captions = result[\"@search.captions\"]\n",
    "    if captions:\n",
    "        caption = captions[0]\n",
    "        if caption.highlights:\n",
    "            print(f\"Caption: {caption.highlights}\\n\")\n",
    "        else:\n",
    "            print(f\"Caption: {caption.text}\\n\")"
   ]
  },
  {
   "attachments": {},
   "cell_type": "markdown",
   "metadata": {},
   "source": [
    "## Clean up"
   ]
  },
  {
   "attachments": {},
   "cell_type": "markdown",
   "metadata": {},
   "source": [
    "If you're finished with this index, you can delete it by running the following lines. Deleting unnecessary indexes frees up space for stepping through more quickstarts and tutorials."
   ]
  },
  {
   "cell_type": "code",
   "execution_count": null,
   "metadata": {},
   "outputs": [],
   "source": [
    "try:\n",
    "    result = index_client.delete_index(index_name)\n",
    "    print ('Index', index_name, 'Deleted')\n",
    "except Exception as ex:\n",
    "    print (ex)"
   ]
  },
  {
   "attachments": {},
   "cell_type": "markdown",
   "metadata": {},
   "source": [
    "Confirm the index deletion by running the following script that lists all of the indexes on your search service. If hotels-quickstart is not listed, you've successfully deleted the index and have completed this quickstart."
   ]
  },
  {
   "cell_type": "code",
   "execution_count": null,
   "metadata": {},
   "outputs": [],
   "source": [
    "try:\n",
    "    result = index_client.get_index(index_name)\n",
    "    print (result)\n",
    "except Exception as ex:\n",
    "    print (ex)\n"
   ]
  }
 ],
 "metadata": {
  "kernelspec": {
   "display_name": "Python 3",
   "language": "python",
   "name": "python3"
  },
  "language_info": {
   "codemirror_mode": {
    "name": "ipython",
    "version": 3
   },
   "file_extension": ".py",
   "mimetype": "text/x-python",
   "name": "python",
   "nbconvert_exporter": "python",
   "pygments_lexer": "ipython3",
   "version": "3.11.3"
  },
  "vscode": {
   "interpreter": {
    "hash": "9ff083f0c83558f9261023d47a77b9b3eb892c62cdbe066d046abcad1a5edb5c"
   }
  }
 },
 "nbformat": 4,
 "nbformat_minor": 2
}
