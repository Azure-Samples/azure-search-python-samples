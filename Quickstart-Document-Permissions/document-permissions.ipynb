{
 "cells": [
  {
   "cell_type": "markdown",
   "id": "aba4346f",
   "metadata": {},
   "source": [
    "## Document Permissions in Azure AI Search\n",
    "\n",
    "1. Setup index w/ permissions\n",
    "1. Setup data source w/ permissions\n",
    "1. Setup indexer\n",
    "1. Connect to App\n",
    "1. Setup authentication\n",
    "1. Show how to query\n",
    "1. Show pushing data with permissions into index"
   ]
  }
 ],
 "metadata": {
  "language_info": {
   "name": "python"
  }
 },
 "nbformat": 4,
 "nbformat_minor": 5
}
