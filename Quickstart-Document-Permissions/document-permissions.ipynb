{
 "cells": [
  {
   "cell_type": "markdown",
   "id": "aba4346f",
   "metadata": {},
   "source": [
    "## Document Permissions in Azure AI Search"
   ]
  },
  {
   "cell_type": "code",
   "execution_count": 10,
   "id": "0b40bb5b",
   "metadata": {},
   "outputs": [],
   "source": [
    "from dotenv import load_dotenv\n",
    "from azure.identity import DefaultAzureCredential, get_bearer_token_provider\n",
    "import os\n",
    "\n",
    "load_dotenv(override=True) # take environment variables from .env.\n",
    "\n",
    "# The following variables from your .env file are used in this notebook\n",
    "endpoint = os.environ[\"AZURE_SEARCH_ENDPOINT\"]\n",
    "credential = DefaultAzureCredential()\n",
    "index_name = os.getenv(\"AZURE_SEARCH_INDEX\", \"document-permissions-sample\")\n",
    "indexer_name = os.getenv(\"AZURE_SEARCH_INDEXER\", \"document-permissions-sample-indexer\")\n",
    "datasource_name = os.getenv(\"AZURE_SEARCH_DATASOURCE\", \"document-permissions-sample-datasource\")\n",
    "adls_gen2_account_name = os.getenv(\"AZURE_STORAGE_ACCOUNT_NAME\", \"documentpermissionssample\")\n",
    "adls_gen2_container_name = os.getenv(\"AZURE_STORAGE_CONTAINER_NAME\", \"documentpermissionssample\")\n",
    "adls_gen2_connection_string = os.environ[\"AZURE_STORAGE_CONNECTION_STRING\"]\n",
    "token_provider = get_bearer_token_provider(credential, \"https://search.azure.com/.default\")"
   ]
  },
  {
   "cell_type": "code",
   "execution_count": 2,
   "id": "2f981cad",
   "metadata": {},
   "outputs": [
    {
     "name": "stdout",
     "output_type": "stream",
     "text": [
      "Index 'document-permissions-sample' created with permission filter option enabled.\n"
     ]
    }
   ],
   "source": [
    "from azure.search.documents.indexes.models import SearchField, SearchIndex, PermissionFilter, SearchIndexPermissionFilterOption\n",
    "from azure.search.documents.indexes import SearchIndexClient\n",
    "\n",
    "index_client = SearchIndexClient(endpoint=endpoint, credential=credential)\n",
    "index = SearchIndex(\n",
    "    name=index_name,\n",
    "    fields=[\n",
    "        SearchField(name=\"id\", type=\"Edm.String\", key=True, filterable=True, sortable=True),\n",
    "        SearchField(name=\"oid\", type=\"Collection(Edm.String)\", filterable=True, permission_filter=PermissionFilter.USER_IDS),\n",
    "        SearchField(name=\"group\", type=\"Collection(Edm.String)\", filterable=True, permission_filter=PermissionFilter.GROUP_IDS),\n",
    "        SearchField(name=\"metadata_storage_path\", type=\"Edm.String\", searchable=True),\n",
    "        SearchField(name=\"metadata_storage_name\", type=\"Edm.String\", searchable=True)\n",
    "    ],\n",
    "    permission_filter_option=SearchIndexPermissionFilterOption.ENABLED\n",
    ")\n",
    "\n",
    "index_client.create_or_update_index(index=index)\n",
    "print(f\"Index '{index_name}' created with permission filter option enabled.\")"
   ]
  },
  {
   "cell_type": "code",
   "execution_count": 11,
   "id": "b25aaf7b",
   "metadata": {},
   "outputs": [
    {
     "name": "stdout",
     "output_type": "stream",
     "text": [
      "Datasource 'document-permissions-sample-datasource' created with permission filter option enabled.\n"
     ]
    }
   ],
   "source": [
    "from azure.search.documents.indexes.models import SearchIndexerDataSourceConnection, SearchIndexerDataSourceType, IndexerPermissionOption, SearchIndexerDataContainer, DataSourceCredentials\n",
    "from azure.search.documents.indexes import SearchIndexerClient\n",
    "indexer_client = SearchIndexerClient(endpoint=endpoint, credential=credential)\n",
    "datasource = SearchIndexerDataSourceConnection(\n",
    "    name=datasource_name,\n",
    "    type=SearchIndexerDataSourceType.ADLS_GEN2,\n",
    "    connection_string=adls_gen2_connection_string,\n",
    "    container=SearchIndexerDataContainer(name=adls_gen2_container_name),\n",
    "    indexer_permission_options=[IndexerPermissionOption.GROUP_IDS]\n",
    ")\n",
    "\n",
    "indexer_client.create_or_update_data_source_connection(datasource)\n",
    "print(f\"Datasource '{datasource_name}' created with permission filter option enabled.\")"
   ]
  },
  {
   "cell_type": "code",
   "execution_count": 15,
   "id": "2ce7eb5e",
   "metadata": {},
   "outputs": [
    {
     "name": "stdout",
     "output_type": "stream",
     "text": [
      "Indexer 'document-permissions-sample-indexer' created\n"
     ]
    }
   ],
   "source": [
    "from azure.search.documents.indexes.models import SearchIndexer, FieldMapping\n",
    "\n",
    "indexer = SearchIndexer(\n",
    "    name=indexer_name,\n",
    "    target_index_name=index_name,\n",
    "    data_source_name=datasource_name,\n",
    "    field_mappings=[\n",
    "        FieldMapping(source_field_name=\"metadata_group_ids\", target_field_name=\"group\"),\n",
    "        FieldMapping(source_field_name=\"metadata_user_ids\", target_field_name=\"oid\"),\n",
    "    ]\n",
    ")\n",
    "\n",
    "indexer_client.create_or_update_indexer(indexer)\n",
    "print(f\"Indexer '{indexer_name}' created\")\n"
   ]
  }
 ],
 "metadata": {
  "kernelspec": {
   "display_name": ".venv",
   "language": "python",
   "name": "python3"
  },
  "language_info": {
   "codemirror_mode": {
    "name": "ipython",
    "version": 3
   },
   "file_extension": ".py",
   "mimetype": "text/x-python",
   "name": "python",
   "nbconvert_exporter": "python",
   "pygments_lexer": "ipython3",
   "version": "3.12.10"
  }
 },
 "nbformat": 4,
 "nbformat_minor": 5
}
